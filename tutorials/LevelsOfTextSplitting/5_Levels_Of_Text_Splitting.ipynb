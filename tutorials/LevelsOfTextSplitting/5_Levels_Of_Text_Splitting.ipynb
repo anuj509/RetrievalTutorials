{
  "cells": [
    {
      "cell_type": "code",
      "source": [
        "!git clone https://github.com/anuj509/RetrievalTutorials"
      ],
      "metadata": {
        "colab": {
          "base_uri": "https://localhost:8080/"
        },
        "id": "mHZ6qAedKi03",
        "outputId": "4b5550b8-6014-4655-c98f-d6c3c79e795f"
      },
      "id": "mHZ6qAedKi03",
      "execution_count": 14,
      "outputs": [
        {
          "output_type": "stream",
          "name": "stdout",
          "text": [
            "Cloning into 'RetrievalTutorials'...\n",
            "remote: Enumerating objects: 1110, done.\u001b[K\n",
            "remote: Counting objects: 100% (1110/1110), done.\u001b[K\n",
            "remote: Compressing objects: 100% (253/253), done.\u001b[K\n",
            "remote: Total 1110 (delta 868), reused 1089 (delta 848), pack-reused 0 (from 0)\u001b[K\n",
            "Receiving objects: 100% (1110/1110), 15.10 MiB | 23.82 MiB/s, done.\n",
            "Resolving deltas: 100% (868/868), done.\n"
          ]
        }
      ]
    },
    {
      "cell_type": "code",
      "source": [
        "### Libs Required for this session\n",
        "\n",
        "!pip install langchain llama-index \"unstructured[all-docs]\""
      ],
      "metadata": {
        "colab": {
          "base_uri": "https://localhost:8080/",
          "height": 1000
        },
        "id": "5Ayn-hvLE73q",
        "outputId": "dc68ff8b-dafa-4951-8ef6-db04eb082dbb"
      },
      "id": "5Ayn-hvLE73q",
      "execution_count": 3,
      "outputs": [
        {
          "output_type": "stream",
          "name": "stdout",
          "text": [
            "Requirement already satisfied: langchain in /usr/local/lib/python3.11/dist-packages (0.3.25)\n",
            "Collecting llama-index\n",
            "  Downloading llama_index-0.12.36-py3-none-any.whl.metadata (12 kB)\n",
            "Collecting unstructured[all-docs]\n",
            "  Downloading unstructured-0.17.2-py3-none-any.whl.metadata (24 kB)\n",
            "Requirement already satisfied: langchain-core<1.0.0,>=0.3.58 in /usr/local/lib/python3.11/dist-packages (from langchain) (0.3.59)\n",
            "Requirement already satisfied: langchain-text-splitters<1.0.0,>=0.3.8 in /usr/local/lib/python3.11/dist-packages (from langchain) (0.3.8)\n",
            "Requirement already satisfied: langsmith<0.4,>=0.1.17 in /usr/local/lib/python3.11/dist-packages (from langchain) (0.3.42)\n",
            "Requirement already satisfied: pydantic<3.0.0,>=2.7.4 in /usr/local/lib/python3.11/dist-packages (from langchain) (2.11.4)\n",
            "Requirement already satisfied: SQLAlchemy<3,>=1.4 in /usr/local/lib/python3.11/dist-packages (from langchain) (2.0.40)\n",
            "Requirement already satisfied: requests<3,>=2 in /usr/local/lib/python3.11/dist-packages (from langchain) (2.32.3)\n",
            "Requirement already satisfied: PyYAML>=5.3 in /usr/local/lib/python3.11/dist-packages (from langchain) (6.0.2)\n",
            "Collecting llama-index-agent-openai<0.5,>=0.4.0 (from llama-index)\n",
            "  Downloading llama_index_agent_openai-0.4.7-py3-none-any.whl.metadata (438 bytes)\n",
            "Collecting llama-index-cli<0.5,>=0.4.1 (from llama-index)\n",
            "  Downloading llama_index_cli-0.4.1-py3-none-any.whl.metadata (1.5 kB)\n",
            "Collecting llama-index-core<0.13,>=0.12.36 (from llama-index)\n",
            "  Downloading llama_index_core-0.12.36-py3-none-any.whl.metadata (2.4 kB)\n",
            "Collecting llama-index-embeddings-openai<0.4,>=0.3.0 (from llama-index)\n",
            "  Downloading llama_index_embeddings_openai-0.3.1-py3-none-any.whl.metadata (684 bytes)\n",
            "Collecting llama-index-indices-managed-llama-cloud>=0.4.0 (from llama-index)\n",
            "  Downloading llama_index_indices_managed_llama_cloud-0.6.11-py3-none-any.whl.metadata (3.6 kB)\n",
            "Collecting llama-index-llms-openai<0.4,>=0.3.0 (from llama-index)\n",
            "  Downloading llama_index_llms_openai-0.3.40-py3-none-any.whl.metadata (3.0 kB)\n",
            "Collecting llama-index-multi-modal-llms-openai<0.5,>=0.4.0 (from llama-index)\n",
            "  Downloading llama_index_multi_modal_llms_openai-0.4.3-py3-none-any.whl.metadata (726 bytes)\n",
            "Collecting llama-index-program-openai<0.4,>=0.3.0 (from llama-index)\n",
            "  Downloading llama_index_program_openai-0.3.1-py3-none-any.whl.metadata (764 bytes)\n",
            "Collecting llama-index-question-gen-openai<0.4,>=0.3.0 (from llama-index)\n",
            "  Downloading llama_index_question_gen_openai-0.3.0-py3-none-any.whl.metadata (783 bytes)\n",
            "Collecting llama-index-readers-file<0.5,>=0.4.0 (from llama-index)\n",
            "  Downloading llama_index_readers_file-0.4.7-py3-none-any.whl.metadata (5.4 kB)\n",
            "Collecting llama-index-readers-llama-parse>=0.4.0 (from llama-index)\n",
            "  Downloading llama_index_readers_llama_parse-0.4.0-py3-none-any.whl.metadata (3.6 kB)\n",
            "Requirement already satisfied: nltk>3.8.1 in /usr/local/lib/python3.11/dist-packages (from llama-index) (3.9.1)\n",
            "Requirement already satisfied: chardet in /usr/local/lib/python3.11/dist-packages (from unstructured[all-docs]) (5.2.0)\n",
            "Collecting filetype (from unstructured[all-docs])\n",
            "  Downloading filetype-1.2.0-py2.py3-none-any.whl.metadata (6.5 kB)\n",
            "Collecting python-magic (from unstructured[all-docs])\n",
            "  Downloading python_magic-0.4.27-py2.py3-none-any.whl.metadata (5.8 kB)\n",
            "Requirement already satisfied: lxml in /usr/local/lib/python3.11/dist-packages (from unstructured[all-docs]) (5.4.0)\n",
            "Requirement already satisfied: beautifulsoup4 in /usr/local/lib/python3.11/dist-packages (from unstructured[all-docs]) (4.13.4)\n",
            "Collecting emoji (from unstructured[all-docs])\n",
            "  Downloading emoji-2.14.1-py3-none-any.whl.metadata (5.7 kB)\n",
            "Collecting dataclasses-json (from unstructured[all-docs])\n",
            "  Downloading dataclasses_json-0.6.7-py3-none-any.whl.metadata (25 kB)\n",
            "Collecting python-iso639 (from unstructured[all-docs])\n",
            "  Downloading python_iso639-2025.2.18-py3-none-any.whl.metadata (14 kB)\n",
            "Collecting langdetect (from unstructured[all-docs])\n",
            "  Downloading langdetect-1.0.9.tar.gz (981 kB)\n",
            "\u001b[2K     \u001b[90m━━━━━━━━━━━━━━━━━━━━━━━━━━━━━━━━━━━━━━\u001b[0m \u001b[32m981.5/981.5 kB\u001b[0m \u001b[31m14.4 MB/s\u001b[0m eta \u001b[36m0:00:00\u001b[0m\n",
            "\u001b[?25h  Preparing metadata (setup.py) ... \u001b[?25l\u001b[?25hdone\n",
            "Requirement already satisfied: numpy in /usr/local/lib/python3.11/dist-packages (from unstructured[all-docs]) (2.0.2)\n",
            "Collecting rapidfuzz (from unstructured[all-docs])\n",
            "  Downloading rapidfuzz-3.13.0-cp311-cp311-manylinux_2_17_x86_64.manylinux2014_x86_64.whl.metadata (12 kB)\n",
            "Collecting backoff (from unstructured[all-docs])\n",
            "  Downloading backoff-2.2.1-py3-none-any.whl.metadata (14 kB)\n",
            "Requirement already satisfied: typing-extensions in /usr/local/lib/python3.11/dist-packages (from unstructured[all-docs]) (4.13.2)\n",
            "Collecting unstructured-client (from unstructured[all-docs])\n",
            "  Downloading unstructured_client-0.35.0-py3-none-any.whl.metadata (21 kB)\n",
            "Requirement already satisfied: wrapt in /usr/local/lib/python3.11/dist-packages (from unstructured[all-docs]) (1.17.2)\n",
            "Requirement already satisfied: tqdm in /usr/local/lib/python3.11/dist-packages (from unstructured[all-docs]) (4.67.1)\n",
            "Requirement already satisfied: psutil in /usr/local/lib/python3.11/dist-packages (from unstructured[all-docs]) (5.9.5)\n",
            "Collecting python-oxmsg (from unstructured[all-docs])\n",
            "  Downloading python_oxmsg-0.0.2-py3-none-any.whl.metadata (5.0 kB)\n",
            "Requirement already satisfied: html5lib in /usr/local/lib/python3.11/dist-packages (from unstructured[all-docs]) (1.1)\n",
            "Collecting onnxruntime>=1.19.0 (from unstructured[all-docs])\n",
            "  Downloading onnxruntime-1.22.0-cp311-cp311-manylinux_2_27_x86_64.manylinux_2_28_x86_64.whl.metadata (4.5 kB)\n",
            "Collecting python-pptx>=1.0.1 (from unstructured[all-docs])\n",
            "  Downloading python_pptx-1.0.2-py3-none-any.whl.metadata (2.5 kB)\n",
            "Collecting effdet (from unstructured[all-docs])\n",
            "  Downloading effdet-0.4.1-py3-none-any.whl.metadata (33 kB)\n",
            "Collecting pypandoc (from unstructured[all-docs])\n",
            "  Downloading pypandoc-1.15-py3-none-any.whl.metadata (16 kB)\n",
            "Collecting pikepdf (from unstructured[all-docs])\n",
            "  Downloading pikepdf-9.7.0-cp311-cp311-manylinux_2_17_x86_64.manylinux2014_x86_64.whl.metadata (8.1 kB)\n",
            "Collecting google-cloud-vision (from unstructured[all-docs])\n",
            "  Downloading google_cloud_vision-3.10.1-py3-none-any.whl.metadata (9.5 kB)\n",
            "Collecting unstructured.pytesseract>=0.3.12 (from unstructured[all-docs])\n",
            "  Downloading unstructured.pytesseract-0.3.15-py3-none-any.whl.metadata (11 kB)\n",
            "Collecting pdfminer.six (from unstructured[all-docs])\n",
            "  Downloading pdfminer_six-20250506-py3-none-any.whl.metadata (4.2 kB)\n",
            "Collecting unstructured-inference>=0.8.10 (from unstructured[all-docs])\n",
            "  Downloading unstructured_inference-0.8.10-py3-none-any.whl.metadata (5.3 kB)\n",
            "Requirement already satisfied: xlrd in /usr/local/lib/python3.11/dist-packages (from unstructured[all-docs]) (2.0.1)\n",
            "Requirement already satisfied: networkx in /usr/local/lib/python3.11/dist-packages (from unstructured[all-docs]) (3.4.2)\n",
            "Requirement already satisfied: pandas in /usr/local/lib/python3.11/dist-packages (from unstructured[all-docs]) (2.2.2)\n",
            "Collecting pdf2image (from unstructured[all-docs])\n",
            "  Downloading pdf2image-1.17.0-py3-none-any.whl.metadata (6.2 kB)\n",
            "Requirement already satisfied: openpyxl in /usr/local/lib/python3.11/dist-packages (from unstructured[all-docs]) (3.1.5)\n",
            "Collecting python-docx>=1.1.2 (from unstructured[all-docs])\n",
            "  Downloading python_docx-1.1.2-py3-none-any.whl.metadata (2.0 kB)\n",
            "Collecting pypdf (from unstructured[all-docs])\n",
            "  Downloading pypdf-5.5.0-py3-none-any.whl.metadata (7.2 kB)\n",
            "Collecting onnx>=1.17.0 (from unstructured[all-docs])\n",
            "  Downloading onnx-1.18.0-cp311-cp311-manylinux_2_17_x86_64.manylinux2014_x86_64.whl.metadata (6.9 kB)\n",
            "Requirement already satisfied: markdown in /usr/local/lib/python3.11/dist-packages (from unstructured[all-docs]) (3.8)\n",
            "Collecting pi-heif (from unstructured[all-docs])\n",
            "  Downloading pi_heif-0.22.0-cp311-cp311-manylinux_2_17_x86_64.manylinux2014_x86_64.whl.metadata (6.5 kB)\n",
            "Requirement already satisfied: tenacity!=8.4.0,<10.0.0,>=8.1.0 in /usr/local/lib/python3.11/dist-packages (from langchain-core<1.0.0,>=0.3.58->langchain) (9.1.2)\n",
            "Requirement already satisfied: jsonpatch<2.0,>=1.33 in /usr/local/lib/python3.11/dist-packages (from langchain-core<1.0.0,>=0.3.58->langchain) (1.33)\n",
            "Requirement already satisfied: packaging<25,>=23.2 in /usr/local/lib/python3.11/dist-packages (from langchain-core<1.0.0,>=0.3.58->langchain) (24.2)\n",
            "Requirement already satisfied: httpx<1,>=0.23.0 in /usr/local/lib/python3.11/dist-packages (from langsmith<0.4,>=0.1.17->langchain) (0.28.1)\n",
            "Requirement already satisfied: orjson<4.0.0,>=3.9.14 in /usr/local/lib/python3.11/dist-packages (from langsmith<0.4,>=0.1.17->langchain) (3.10.18)\n",
            "Requirement already satisfied: requests-toolbelt<2.0.0,>=1.0.0 in /usr/local/lib/python3.11/dist-packages (from langsmith<0.4,>=0.1.17->langchain) (1.0.0)\n",
            "Requirement already satisfied: zstandard<0.24.0,>=0.23.0 in /usr/local/lib/python3.11/dist-packages (from langsmith<0.4,>=0.1.17->langchain) (0.23.0)\n",
            "Requirement already satisfied: openai>=1.14.0 in /usr/local/lib/python3.11/dist-packages (from llama-index-agent-openai<0.5,>=0.4.0->llama-index) (1.78.1)\n",
            "Requirement already satisfied: aiohttp<4,>=3.8.6 in /usr/local/lib/python3.11/dist-packages (from llama-index-core<0.13,>=0.12.36->llama-index) (3.11.15)\n",
            "Collecting aiosqlite (from llama-index-core<0.13,>=0.12.36->llama-index)\n",
            "  Downloading aiosqlite-0.21.0-py3-none-any.whl.metadata (4.3 kB)\n",
            "Collecting banks<3,>=2.0.0 (from llama-index-core<0.13,>=0.12.36->llama-index)\n",
            "  Downloading banks-2.1.2-py3-none-any.whl.metadata (12 kB)\n",
            "Collecting deprecated>=1.2.9.3 (from llama-index-core<0.13,>=0.12.36->llama-index)\n",
            "  Downloading Deprecated-1.2.18-py2.py3-none-any.whl.metadata (5.7 kB)\n",
            "Collecting dirtyjson<2,>=1.0.8 (from llama-index-core<0.13,>=0.12.36->llama-index)\n",
            "  Downloading dirtyjson-1.0.8-py3-none-any.whl.metadata (11 kB)\n",
            "Requirement already satisfied: fsspec>=2023.5.0 in /usr/local/lib/python3.11/dist-packages (from llama-index-core<0.13,>=0.12.36->llama-index) (2025.3.2)\n",
            "Requirement already satisfied: nest-asyncio<2,>=1.5.8 in /usr/local/lib/python3.11/dist-packages (from llama-index-core<0.13,>=0.12.36->llama-index) (1.6.0)\n",
            "Requirement already satisfied: pillow>=9.0.0 in /usr/local/lib/python3.11/dist-packages (from llama-index-core<0.13,>=0.12.36->llama-index) (11.2.1)\n",
            "Requirement already satisfied: tiktoken>=0.7.0 in /usr/local/lib/python3.11/dist-packages (from llama-index-core<0.13,>=0.12.36->llama-index) (0.9.0)\n",
            "Collecting typing-inspect>=0.8.0 (from llama-index-core<0.13,>=0.12.36->llama-index)\n",
            "  Downloading typing_inspect-0.9.0-py3-none-any.whl.metadata (1.5 kB)\n",
            "Collecting llama-cloud<0.2.0,>=0.1.13 (from llama-index-indices-managed-llama-cloud>=0.4.0->llama-index)\n",
            "  Downloading llama_cloud-0.1.21-py3-none-any.whl.metadata (1.2 kB)\n",
            "Collecting striprtf<0.0.27,>=0.0.26 (from llama-index-readers-file<0.5,>=0.4.0->llama-index)\n",
            "  Downloading striprtf-0.0.26-py3-none-any.whl.metadata (2.1 kB)\n",
            "Requirement already satisfied: soupsieve>1.2 in /usr/local/lib/python3.11/dist-packages (from beautifulsoup4->unstructured[all-docs]) (2.7)\n",
            "Collecting llama-parse>=0.5.0 (from llama-index-readers-llama-parse>=0.4.0->llama-index)\n",
            "  Downloading llama_parse-0.6.22-py3-none-any.whl.metadata (6.9 kB)\n",
            "Requirement already satisfied: click in /usr/local/lib/python3.11/dist-packages (from nltk>3.8.1->llama-index) (8.2.0)\n",
            "Requirement already satisfied: joblib in /usr/local/lib/python3.11/dist-packages (from nltk>3.8.1->llama-index) (1.5.0)\n",
            "Requirement already satisfied: regex>=2021.8.3 in /usr/local/lib/python3.11/dist-packages (from nltk>3.8.1->llama-index) (2024.11.6)\n",
            "Requirement already satisfied: protobuf>=4.25.1 in /usr/local/lib/python3.11/dist-packages (from onnx>=1.17.0->unstructured[all-docs]) (5.29.4)\n",
            "Collecting coloredlogs (from onnxruntime>=1.19.0->unstructured[all-docs])\n",
            "  Downloading coloredlogs-15.0.1-py2.py3-none-any.whl.metadata (12 kB)\n",
            "Requirement already satisfied: flatbuffers in /usr/local/lib/python3.11/dist-packages (from onnxruntime>=1.19.0->unstructured[all-docs]) (25.2.10)\n",
            "Requirement already satisfied: sympy in /usr/local/lib/python3.11/dist-packages (from onnxruntime>=1.19.0->unstructured[all-docs]) (1.13.1)\n",
            "Requirement already satisfied: annotated-types>=0.6.0 in /usr/local/lib/python3.11/dist-packages (from pydantic<3.0.0,>=2.7.4->langchain) (0.7.0)\n",
            "Requirement already satisfied: pydantic-core==2.33.2 in /usr/local/lib/python3.11/dist-packages (from pydantic<3.0.0,>=2.7.4->langchain) (2.33.2)\n",
            "Requirement already satisfied: typing-inspection>=0.4.0 in /usr/local/lib/python3.11/dist-packages (from pydantic<3.0.0,>=2.7.4->langchain) (0.4.0)\n",
            "Collecting XlsxWriter>=0.5.7 (from python-pptx>=1.0.1->unstructured[all-docs])\n",
            "  Downloading XlsxWriter-3.2.3-py3-none-any.whl.metadata (2.7 kB)\n",
            "Requirement already satisfied: charset-normalizer<4,>=2 in /usr/local/lib/python3.11/dist-packages (from requests<3,>=2->langchain) (3.4.2)\n",
            "Requirement already satisfied: idna<4,>=2.5 in /usr/local/lib/python3.11/dist-packages (from requests<3,>=2->langchain) (3.10)\n",
            "Requirement already satisfied: urllib3<3,>=1.21.1 in /usr/local/lib/python3.11/dist-packages (from requests<3,>=2->langchain) (2.4.0)\n",
            "Requirement already satisfied: certifi>=2017.4.17 in /usr/local/lib/python3.11/dist-packages (from requests<3,>=2->langchain) (2025.4.26)\n",
            "Requirement already satisfied: greenlet>=1 in /usr/local/lib/python3.11/dist-packages (from SQLAlchemy<3,>=1.4->langchain) (3.2.2)\n",
            "Collecting python-multipart (from unstructured-inference>=0.8.10->unstructured[all-docs])\n",
            "  Downloading python_multipart-0.0.20-py3-none-any.whl.metadata (1.8 kB)\n",
            "Requirement already satisfied: huggingface-hub in /usr/local/lib/python3.11/dist-packages (from unstructured-inference>=0.8.10->unstructured[all-docs]) (0.31.2)\n",
            "Requirement already satisfied: opencv-python!=4.7.0.68 in /usr/local/lib/python3.11/dist-packages (from unstructured-inference>=0.8.10->unstructured[all-docs]) (4.11.0.86)\n",
            "Requirement already satisfied: matplotlib in /usr/local/lib/python3.11/dist-packages (from unstructured-inference>=0.8.10->unstructured[all-docs]) (3.10.0)\n",
            "Requirement already satisfied: torch in /usr/local/lib/python3.11/dist-packages (from unstructured-inference>=0.8.10->unstructured[all-docs]) (2.6.0+cu124)\n",
            "Requirement already satisfied: timm in /usr/local/lib/python3.11/dist-packages (from unstructured-inference>=0.8.10->unstructured[all-docs]) (1.0.15)\n",
            "Requirement already satisfied: transformers>=4.25.1 in /usr/local/lib/python3.11/dist-packages (from unstructured-inference>=0.8.10->unstructured[all-docs]) (4.51.3)\n",
            "Requirement already satisfied: scipy in /usr/local/lib/python3.11/dist-packages (from unstructured-inference>=0.8.10->unstructured[all-docs]) (1.15.3)\n",
            "Collecting pypdfium2 (from unstructured-inference>=0.8.10->unstructured[all-docs])\n",
            "  Downloading pypdfium2-4.30.1-py3-none-manylinux_2_17_x86_64.manylinux2014_x86_64.whl.metadata (48 kB)\n",
            "\u001b[2K     \u001b[90m━━━━━━━━━━━━━━━━━━━━━━━━━━━━━━━━━━━━━━━━\u001b[0m \u001b[32m48.2/48.2 kB\u001b[0m \u001b[31m2.8 MB/s\u001b[0m eta \u001b[36m0:00:00\u001b[0m\n",
            "\u001b[?25hCollecting marshmallow<4.0.0,>=3.18.0 (from dataclasses-json->unstructured[all-docs])\n",
            "  Downloading marshmallow-3.26.1-py3-none-any.whl.metadata (7.3 kB)\n",
            "Requirement already satisfied: torchvision in /usr/local/lib/python3.11/dist-packages (from effdet->unstructured[all-docs]) (0.21.0+cu124)\n",
            "Requirement already satisfied: pycocotools>=2.0.2 in /usr/local/lib/python3.11/dist-packages (from effdet->unstructured[all-docs]) (2.0.8)\n",
            "Requirement already satisfied: omegaconf>=2.0 in /usr/local/lib/python3.11/dist-packages (from effdet->unstructured[all-docs]) (2.3.0)\n",
            "Requirement already satisfied: google-api-core!=2.0.*,!=2.1.*,!=2.10.*,!=2.2.*,!=2.3.*,!=2.4.*,!=2.5.*,!=2.6.*,!=2.7.*,!=2.8.*,!=2.9.*,<3.0.0,>=1.34.1 in /usr/local/lib/python3.11/dist-packages (from google-api-core[grpc]!=2.0.*,!=2.1.*,!=2.10.*,!=2.2.*,!=2.3.*,!=2.4.*,!=2.5.*,!=2.6.*,!=2.7.*,!=2.8.*,!=2.9.*,<3.0.0,>=1.34.1->google-cloud-vision->unstructured[all-docs]) (2.24.2)\n",
            "Requirement already satisfied: google-auth!=2.24.0,!=2.25.0,<3.0.0,>=2.14.1 in /usr/local/lib/python3.11/dist-packages (from google-cloud-vision->unstructured[all-docs]) (2.38.0)\n",
            "Requirement already satisfied: proto-plus<2.0.0,>=1.22.3 in /usr/local/lib/python3.11/dist-packages (from google-cloud-vision->unstructured[all-docs]) (1.26.1)\n",
            "Requirement already satisfied: six>=1.9 in /usr/local/lib/python3.11/dist-packages (from html5lib->unstructured[all-docs]) (1.17.0)\n",
            "Requirement already satisfied: webencodings in /usr/local/lib/python3.11/dist-packages (from html5lib->unstructured[all-docs]) (0.5.1)\n",
            "Requirement already satisfied: et-xmlfile in /usr/local/lib/python3.11/dist-packages (from openpyxl->unstructured[all-docs]) (2.0.0)\n",
            "Requirement already satisfied: python-dateutil>=2.8.2 in /usr/local/lib/python3.11/dist-packages (from pandas->unstructured[all-docs]) (2.9.0.post0)\n",
            "Requirement already satisfied: pytz>=2020.1 in /usr/local/lib/python3.11/dist-packages (from pandas->unstructured[all-docs]) (2025.2)\n",
            "Requirement already satisfied: tzdata>=2022.7 in /usr/local/lib/python3.11/dist-packages (from pandas->unstructured[all-docs]) (2025.2)\n",
            "Requirement already satisfied: cryptography>=36.0.0 in /usr/local/lib/python3.11/dist-packages (from pdfminer.six->unstructured[all-docs]) (43.0.3)\n",
            "Collecting olefile (from python-oxmsg->unstructured[all-docs])\n",
            "  Downloading olefile-0.47-py2.py3-none-any.whl.metadata (9.7 kB)\n",
            "Collecting aiofiles>=24.1.0 (from unstructured-client->unstructured[all-docs])\n",
            "  Downloading aiofiles-24.1.0-py3-none-any.whl.metadata (10 kB)\n",
            "Requirement already satisfied: aiohappyeyeballs>=2.3.0 in /usr/local/lib/python3.11/dist-packages (from aiohttp<4,>=3.8.6->llama-index-core<0.13,>=0.12.36->llama-index) (2.6.1)\n",
            "Requirement already satisfied: aiosignal>=1.1.2 in /usr/local/lib/python3.11/dist-packages (from aiohttp<4,>=3.8.6->llama-index-core<0.13,>=0.12.36->llama-index) (1.3.2)\n",
            "Requirement already satisfied: attrs>=17.3.0 in /usr/local/lib/python3.11/dist-packages (from aiohttp<4,>=3.8.6->llama-index-core<0.13,>=0.12.36->llama-index) (25.3.0)\n",
            "Requirement already satisfied: frozenlist>=1.1.1 in /usr/local/lib/python3.11/dist-packages (from aiohttp<4,>=3.8.6->llama-index-core<0.13,>=0.12.36->llama-index) (1.6.0)\n",
            "Requirement already satisfied: multidict<7.0,>=4.5 in /usr/local/lib/python3.11/dist-packages (from aiohttp<4,>=3.8.6->llama-index-core<0.13,>=0.12.36->llama-index) (6.4.3)\n",
            "Requirement already satisfied: propcache>=0.2.0 in /usr/local/lib/python3.11/dist-packages (from aiohttp<4,>=3.8.6->llama-index-core<0.13,>=0.12.36->llama-index) (0.3.1)\n",
            "Requirement already satisfied: yarl<2.0,>=1.17.0 in /usr/local/lib/python3.11/dist-packages (from aiohttp<4,>=3.8.6->llama-index-core<0.13,>=0.12.36->llama-index) (1.20.0)\n",
            "Collecting griffe (from banks<3,>=2.0.0->llama-index-core<0.13,>=0.12.36->llama-index)\n",
            "  Downloading griffe-1.7.3-py3-none-any.whl.metadata (5.0 kB)\n",
            "Requirement already satisfied: jinja2 in /usr/local/lib/python3.11/dist-packages (from banks<3,>=2.0.0->llama-index-core<0.13,>=0.12.36->llama-index) (3.1.6)\n",
            "Requirement already satisfied: platformdirs in /usr/local/lib/python3.11/dist-packages (from banks<3,>=2.0.0->llama-index-core<0.13,>=0.12.36->llama-index) (4.3.8)\n",
            "Requirement already satisfied: cffi>=1.12 in /usr/local/lib/python3.11/dist-packages (from cryptography>=36.0.0->pdfminer.six->unstructured[all-docs]) (1.17.1)\n",
            "Requirement already satisfied: googleapis-common-protos<2.0.0,>=1.56.2 in /usr/local/lib/python3.11/dist-packages (from google-api-core!=2.0.*,!=2.1.*,!=2.10.*,!=2.2.*,!=2.3.*,!=2.4.*,!=2.5.*,!=2.6.*,!=2.7.*,!=2.8.*,!=2.9.*,<3.0.0,>=1.34.1->google-api-core[grpc]!=2.0.*,!=2.1.*,!=2.10.*,!=2.2.*,!=2.3.*,!=2.4.*,!=2.5.*,!=2.6.*,!=2.7.*,!=2.8.*,!=2.9.*,<3.0.0,>=1.34.1->google-cloud-vision->unstructured[all-docs]) (1.70.0)\n",
            "Requirement already satisfied: grpcio<2.0dev,>=1.33.2 in /usr/local/lib/python3.11/dist-packages (from google-api-core[grpc]!=2.0.*,!=2.1.*,!=2.10.*,!=2.2.*,!=2.3.*,!=2.4.*,!=2.5.*,!=2.6.*,!=2.7.*,!=2.8.*,!=2.9.*,<3.0.0,>=1.34.1->google-cloud-vision->unstructured[all-docs]) (1.71.0)\n",
            "Requirement already satisfied: grpcio-status<2.0.dev0,>=1.33.2 in /usr/local/lib/python3.11/dist-packages (from google-api-core[grpc]!=2.0.*,!=2.1.*,!=2.10.*,!=2.2.*,!=2.3.*,!=2.4.*,!=2.5.*,!=2.6.*,!=2.7.*,!=2.8.*,!=2.9.*,<3.0.0,>=1.34.1->google-cloud-vision->unstructured[all-docs]) (1.71.0)\n",
            "Requirement already satisfied: cachetools<6.0,>=2.0.0 in /usr/local/lib/python3.11/dist-packages (from google-auth!=2.24.0,!=2.25.0,<3.0.0,>=2.14.1->google-cloud-vision->unstructured[all-docs]) (5.5.2)\n",
            "Requirement already satisfied: pyasn1-modules>=0.2.1 in /usr/local/lib/python3.11/dist-packages (from google-auth!=2.24.0,!=2.25.0,<3.0.0,>=2.14.1->google-cloud-vision->unstructured[all-docs]) (0.4.2)\n",
            "Requirement already satisfied: rsa<5,>=3.1.4 in /usr/local/lib/python3.11/dist-packages (from google-auth!=2.24.0,!=2.25.0,<3.0.0,>=2.14.1->google-cloud-vision->unstructured[all-docs]) (4.9.1)\n",
            "Requirement already satisfied: anyio in /usr/local/lib/python3.11/dist-packages (from httpx<1,>=0.23.0->langsmith<0.4,>=0.1.17->langchain) (4.9.0)\n",
            "Requirement already satisfied: httpcore==1.* in /usr/local/lib/python3.11/dist-packages (from httpx<1,>=0.23.0->langsmith<0.4,>=0.1.17->langchain) (1.0.9)\n",
            "Requirement already satisfied: h11>=0.16 in /usr/local/lib/python3.11/dist-packages (from httpcore==1.*->httpx<1,>=0.23.0->langsmith<0.4,>=0.1.17->langchain) (0.16.0)\n",
            "Requirement already satisfied: jsonpointer>=1.9 in /usr/local/lib/python3.11/dist-packages (from jsonpatch<2.0,>=1.33->langchain-core<1.0.0,>=0.3.58->langchain) (3.0.0)\n",
            "Collecting llama-cloud-services>=0.6.22 (from llama-parse>=0.5.0->llama-index-readers-llama-parse>=0.4.0->llama-index)\n",
            "  Downloading llama_cloud_services-0.6.22-py3-none-any.whl.metadata (3.4 kB)\n",
            "Requirement already satisfied: antlr4-python3-runtime==4.9.* in /usr/local/lib/python3.11/dist-packages (from omegaconf>=2.0->effdet->unstructured[all-docs]) (4.9.3)\n",
            "Requirement already satisfied: distro<2,>=1.7.0 in /usr/local/lib/python3.11/dist-packages (from openai>=1.14.0->llama-index-agent-openai<0.5,>=0.4.0->llama-index) (1.9.0)\n",
            "Requirement already satisfied: jiter<1,>=0.4.0 in /usr/local/lib/python3.11/dist-packages (from openai>=1.14.0->llama-index-agent-openai<0.5,>=0.4.0->llama-index) (0.9.0)\n",
            "Requirement already satisfied: sniffio in /usr/local/lib/python3.11/dist-packages (from openai>=1.14.0->llama-index-agent-openai<0.5,>=0.4.0->llama-index) (1.3.1)\n",
            "Requirement already satisfied: contourpy>=1.0.1 in /usr/local/lib/python3.11/dist-packages (from matplotlib->unstructured-inference>=0.8.10->unstructured[all-docs]) (1.3.2)\n",
            "Requirement already satisfied: cycler>=0.10 in /usr/local/lib/python3.11/dist-packages (from matplotlib->unstructured-inference>=0.8.10->unstructured[all-docs]) (0.12.1)\n",
            "Requirement already satisfied: fonttools>=4.22.0 in /usr/local/lib/python3.11/dist-packages (from matplotlib->unstructured-inference>=0.8.10->unstructured[all-docs]) (4.58.0)\n",
            "Requirement already satisfied: kiwisolver>=1.3.1 in /usr/local/lib/python3.11/dist-packages (from matplotlib->unstructured-inference>=0.8.10->unstructured[all-docs]) (1.4.8)\n",
            "Requirement already satisfied: pyparsing>=2.3.1 in /usr/local/lib/python3.11/dist-packages (from matplotlib->unstructured-inference>=0.8.10->unstructured[all-docs]) (3.2.3)\n",
            "Requirement already satisfied: safetensors in /usr/local/lib/python3.11/dist-packages (from timm->unstructured-inference>=0.8.10->unstructured[all-docs]) (0.5.3)\n",
            "Requirement already satisfied: filelock in /usr/local/lib/python3.11/dist-packages (from torch->unstructured-inference>=0.8.10->unstructured[all-docs]) (3.18.0)\n",
            "Collecting nvidia-cuda-nvrtc-cu12==12.4.127 (from torch->unstructured-inference>=0.8.10->unstructured[all-docs])\n",
            "  Downloading nvidia_cuda_nvrtc_cu12-12.4.127-py3-none-manylinux2014_x86_64.whl.metadata (1.5 kB)\n",
            "Collecting nvidia-cuda-runtime-cu12==12.4.127 (from torch->unstructured-inference>=0.8.10->unstructured[all-docs])\n",
            "  Downloading nvidia_cuda_runtime_cu12-12.4.127-py3-none-manylinux2014_x86_64.whl.metadata (1.5 kB)\n",
            "Collecting nvidia-cuda-cupti-cu12==12.4.127 (from torch->unstructured-inference>=0.8.10->unstructured[all-docs])\n",
            "  Downloading nvidia_cuda_cupti_cu12-12.4.127-py3-none-manylinux2014_x86_64.whl.metadata (1.6 kB)\n",
            "Collecting nvidia-cudnn-cu12==9.1.0.70 (from torch->unstructured-inference>=0.8.10->unstructured[all-docs])\n",
            "  Downloading nvidia_cudnn_cu12-9.1.0.70-py3-none-manylinux2014_x86_64.whl.metadata (1.6 kB)\n",
            "Collecting nvidia-cublas-cu12==12.4.5.8 (from torch->unstructured-inference>=0.8.10->unstructured[all-docs])\n",
            "  Downloading nvidia_cublas_cu12-12.4.5.8-py3-none-manylinux2014_x86_64.whl.metadata (1.5 kB)\n",
            "Collecting nvidia-cufft-cu12==11.2.1.3 (from torch->unstructured-inference>=0.8.10->unstructured[all-docs])\n",
            "  Downloading nvidia_cufft_cu12-11.2.1.3-py3-none-manylinux2014_x86_64.whl.metadata (1.5 kB)\n",
            "Collecting nvidia-curand-cu12==10.3.5.147 (from torch->unstructured-inference>=0.8.10->unstructured[all-docs])\n",
            "  Downloading nvidia_curand_cu12-10.3.5.147-py3-none-manylinux2014_x86_64.whl.metadata (1.5 kB)\n",
            "Collecting nvidia-cusolver-cu12==11.6.1.9 (from torch->unstructured-inference>=0.8.10->unstructured[all-docs])\n",
            "  Downloading nvidia_cusolver_cu12-11.6.1.9-py3-none-manylinux2014_x86_64.whl.metadata (1.6 kB)\n",
            "Collecting nvidia-cusparse-cu12==12.3.1.170 (from torch->unstructured-inference>=0.8.10->unstructured[all-docs])\n",
            "  Downloading nvidia_cusparse_cu12-12.3.1.170-py3-none-manylinux2014_x86_64.whl.metadata (1.6 kB)\n",
            "Requirement already satisfied: nvidia-cusparselt-cu12==0.6.2 in /usr/local/lib/python3.11/dist-packages (from torch->unstructured-inference>=0.8.10->unstructured[all-docs]) (0.6.2)\n",
            "Requirement already satisfied: nvidia-nccl-cu12==2.21.5 in /usr/local/lib/python3.11/dist-packages (from torch->unstructured-inference>=0.8.10->unstructured[all-docs]) (2.21.5)\n",
            "Requirement already satisfied: nvidia-nvtx-cu12==12.4.127 in /usr/local/lib/python3.11/dist-packages (from torch->unstructured-inference>=0.8.10->unstructured[all-docs]) (12.4.127)\n",
            "Collecting nvidia-nvjitlink-cu12==12.4.127 (from torch->unstructured-inference>=0.8.10->unstructured[all-docs])\n",
            "  Downloading nvidia_nvjitlink_cu12-12.4.127-py3-none-manylinux2014_x86_64.whl.metadata (1.5 kB)\n",
            "Requirement already satisfied: triton==3.2.0 in /usr/local/lib/python3.11/dist-packages (from torch->unstructured-inference>=0.8.10->unstructured[all-docs]) (3.2.0)\n",
            "Requirement already satisfied: mpmath<1.4,>=1.1.0 in /usr/local/lib/python3.11/dist-packages (from sympy->onnxruntime>=1.19.0->unstructured[all-docs]) (1.3.0)\n",
            "Requirement already satisfied: tokenizers<0.22,>=0.21 in /usr/local/lib/python3.11/dist-packages (from transformers>=4.25.1->unstructured-inference>=0.8.10->unstructured[all-docs]) (0.21.1)\n",
            "Collecting mypy-extensions>=0.3.0 (from typing-inspect>=0.8.0->llama-index-core<0.13,>=0.12.36->llama-index)\n",
            "  Downloading mypy_extensions-1.1.0-py3-none-any.whl.metadata (1.1 kB)\n",
            "Collecting humanfriendly>=9.1 (from coloredlogs->onnxruntime>=1.19.0->unstructured[all-docs])\n",
            "  Downloading humanfriendly-10.0-py2.py3-none-any.whl.metadata (9.2 kB)\n",
            "Requirement already satisfied: pycparser in /usr/local/lib/python3.11/dist-packages (from cffi>=1.12->cryptography>=36.0.0->pdfminer.six->unstructured[all-docs]) (2.22)\n",
            "Collecting llama-cloud<0.2.0,>=0.1.13 (from llama-index-indices-managed-llama-cloud>=0.4.0->llama-index)\n",
            "  Downloading llama_cloud-0.1.19-py3-none-any.whl.metadata (902 bytes)\n",
            "Collecting python-dotenv<2.0.0,>=1.0.1 (from llama-cloud-services>=0.6.22->llama-parse>=0.5.0->llama-index-readers-llama-parse>=0.4.0->llama-index)\n",
            "  Downloading python_dotenv-1.1.0-py3-none-any.whl.metadata (24 kB)\n",
            "Requirement already satisfied: pyasn1<0.7.0,>=0.6.1 in /usr/local/lib/python3.11/dist-packages (from pyasn1-modules>=0.2.1->google-auth!=2.24.0,!=2.25.0,<3.0.0,>=2.14.1->google-cloud-vision->unstructured[all-docs]) (0.6.1)\n",
            "Collecting colorama>=0.4 (from griffe->banks<3,>=2.0.0->llama-index-core<0.13,>=0.12.36->llama-index)\n",
            "  Downloading colorama-0.4.6-py2.py3-none-any.whl.metadata (17 kB)\n",
            "Requirement already satisfied: MarkupSafe>=2.0 in /usr/local/lib/python3.11/dist-packages (from jinja2->banks<3,>=2.0.0->llama-index-core<0.13,>=0.12.36->llama-index) (3.0.2)\n",
            "Downloading llama_index-0.12.36-py3-none-any.whl (7.0 kB)\n",
            "Downloading llama_index_agent_openai-0.4.7-py3-none-any.whl (14 kB)\n",
            "Downloading llama_index_cli-0.4.1-py3-none-any.whl (28 kB)\n",
            "Downloading llama_index_core-0.12.36-py3-none-any.whl (7.7 MB)\n",
            "\u001b[2K   \u001b[90m━━━━━━━━━━━━━━━━━━━━━━━━━━━━━━━━━━━━━━━━\u001b[0m \u001b[32m7.7/7.7 MB\u001b[0m \u001b[31m64.2 MB/s\u001b[0m eta \u001b[36m0:00:00\u001b[0m\n",
            "\u001b[?25hDownloading filetype-1.2.0-py2.py3-none-any.whl (19 kB)\n",
            "Downloading llama_index_embeddings_openai-0.3.1-py3-none-any.whl (6.2 kB)\n",
            "Downloading llama_index_indices_managed_llama_cloud-0.6.11-py3-none-any.whl (14 kB)\n",
            "Downloading llama_index_llms_openai-0.3.40-py3-none-any.whl (23 kB)\n",
            "Downloading llama_index_multi_modal_llms_openai-0.4.3-py3-none-any.whl (5.9 kB)\n",
            "Downloading llama_index_program_openai-0.3.1-py3-none-any.whl (5.3 kB)\n",
            "Downloading llama_index_question_gen_openai-0.3.0-py3-none-any.whl (2.9 kB)\n",
            "Downloading llama_index_readers_file-0.4.7-py3-none-any.whl (40 kB)\n",
            "\u001b[2K   \u001b[90m━━━━━━━━━━━━━━━━━━━━━━━━━━━━━━━━━━━━━━━━\u001b[0m \u001b[32m40.8/40.8 kB\u001b[0m \u001b[31m2.1 MB/s\u001b[0m eta \u001b[36m0:00:00\u001b[0m\n",
            "\u001b[?25hDownloading llama_index_readers_llama_parse-0.4.0-py3-none-any.whl (2.5 kB)\n",
            "Downloading onnx-1.18.0-cp311-cp311-manylinux_2_17_x86_64.manylinux2014_x86_64.whl (17.6 MB)\n",
            "\u001b[2K   \u001b[90m━━━━━━━━━━━━━━━━━━━━━━━━━━━━━━━━━━━━━━━━\u001b[0m \u001b[32m17.6/17.6 MB\u001b[0m \u001b[31m49.7 MB/s\u001b[0m eta \u001b[36m0:00:00\u001b[0m\n",
            "\u001b[?25hDownloading onnxruntime-1.22.0-cp311-cp311-manylinux_2_27_x86_64.manylinux_2_28_x86_64.whl (16.4 MB)\n",
            "\u001b[2K   \u001b[90m━━━━━━━━━━━━━━━━━━━━━━━━━━━━━━━━━━━━━━━━\u001b[0m \u001b[32m16.4/16.4 MB\u001b[0m \u001b[31m54.7 MB/s\u001b[0m eta \u001b[36m0:00:00\u001b[0m\n",
            "\u001b[?25hDownloading pypdf-5.5.0-py3-none-any.whl (303 kB)\n",
            "\u001b[2K   \u001b[90m━━━━━━━━━━━━━━━━━━━━━━━━━━━━━━━━━━━━━━━━\u001b[0m \u001b[32m303.4/303.4 kB\u001b[0m \u001b[31m19.4 MB/s\u001b[0m eta \u001b[36m0:00:00\u001b[0m\n",
            "\u001b[?25hDownloading python_docx-1.1.2-py3-none-any.whl (244 kB)\n",
            "\u001b[2K   \u001b[90m━━━━━━━━━━━━━━━━━━━━━━━━━━━━━━━━━━━━━━━━\u001b[0m \u001b[32m244.3/244.3 kB\u001b[0m \u001b[31m14.3 MB/s\u001b[0m eta \u001b[36m0:00:00\u001b[0m\n",
            "\u001b[?25hDownloading python_pptx-1.0.2-py3-none-any.whl (472 kB)\n",
            "\u001b[2K   \u001b[90m━━━━━━━━━━━━━━━━━━━━━━━━━━━━━━━━━━━━━━━━\u001b[0m \u001b[32m472.8/472.8 kB\u001b[0m \u001b[31m25.7 MB/s\u001b[0m eta \u001b[36m0:00:00\u001b[0m\n",
            "\u001b[?25hDownloading unstructured_inference-0.8.10-py3-none-any.whl (48 kB)\n",
            "\u001b[2K   \u001b[90m━━━━━━━━━━━━━━━━━━━━━━━━━━━━━━━━━━━━━━━━\u001b[0m \u001b[32m48.9/48.9 kB\u001b[0m \u001b[31m2.9 MB/s\u001b[0m eta \u001b[36m0:00:00\u001b[0m\n",
            "\u001b[?25hDownloading unstructured.pytesseract-0.3.15-py3-none-any.whl (14 kB)\n",
            "Downloading backoff-2.2.1-py3-none-any.whl (15 kB)\n",
            "Downloading dataclasses_json-0.6.7-py3-none-any.whl (28 kB)\n",
            "Downloading effdet-0.4.1-py3-none-any.whl (112 kB)\n",
            "\u001b[2K   \u001b[90m━━━━━━━━━━━━━━━━━━━━━━━━━━━━━━━━━━━━━━━━\u001b[0m \u001b[32m112.5/112.5 kB\u001b[0m \u001b[31m6.7 MB/s\u001b[0m eta \u001b[36m0:00:00\u001b[0m\n",
            "\u001b[?25hDownloading emoji-2.14.1-py3-none-any.whl (590 kB)\n",
            "\u001b[2K   \u001b[90m━━━━━━━━━━━━━━━━━━━━━━━━━━━━━━━━━━━━━━━━\u001b[0m \u001b[32m590.6/590.6 kB\u001b[0m \u001b[31m28.5 MB/s\u001b[0m eta \u001b[36m0:00:00\u001b[0m\n",
            "\u001b[?25hDownloading google_cloud_vision-3.10.1-py3-none-any.whl (526 kB)\n",
            "\u001b[2K   \u001b[90m━━━━━━━━━━━━━━━━━━━━━━━━━━━━━━━━━━━━━━━━\u001b[0m \u001b[32m526.1/526.1 kB\u001b[0m \u001b[31m27.2 MB/s\u001b[0m eta \u001b[36m0:00:00\u001b[0m\n",
            "\u001b[?25hDownloading pdf2image-1.17.0-py3-none-any.whl (11 kB)\n",
            "Downloading pdfminer_six-20250506-py3-none-any.whl (5.6 MB)\n",
            "\u001b[2K   \u001b[90m━━━━━━━━━━━━━━━━━━━━━━━━━━━━━━━━━━━━━━━━\u001b[0m \u001b[32m5.6/5.6 MB\u001b[0m \u001b[31m53.2 MB/s\u001b[0m eta \u001b[36m0:00:00\u001b[0m\n",
            "\u001b[?25hDownloading pi_heif-0.22.0-cp311-cp311-manylinux_2_17_x86_64.manylinux2014_x86_64.whl (1.2 MB)\n",
            "\u001b[2K   \u001b[90m━━━━━━━━━━━━━━━━━━━━━━━━━━━━━━━━━━━━━━━━\u001b[0m \u001b[32m1.2/1.2 MB\u001b[0m \u001b[31m45.9 MB/s\u001b[0m eta \u001b[36m0:00:00\u001b[0m\n",
            "\u001b[?25hDownloading pikepdf-9.7.0-cp311-cp311-manylinux_2_17_x86_64.manylinux2014_x86_64.whl (2.4 MB)\n",
            "\u001b[2K   \u001b[90m━━━━━━━━━━━━━━━━━━━━━━━━━━━━━━━━━━━━━━━━\u001b[0m \u001b[32m2.4/2.4 MB\u001b[0m \u001b[31m26.3 MB/s\u001b[0m eta \u001b[36m0:00:00\u001b[0m\n",
            "\u001b[?25hDownloading pypandoc-1.15-py3-none-any.whl (21 kB)\n",
            "Downloading python_iso639-2025.2.18-py3-none-any.whl (167 kB)\n",
            "\u001b[2K   \u001b[90m━━━━━━━━━━━━━━━━━━━━━━━━━━━━━━━━━━━━━━━━\u001b[0m \u001b[32m167.6/167.6 kB\u001b[0m \u001b[31m10.5 MB/s\u001b[0m eta \u001b[36m0:00:00\u001b[0m\n",
            "\u001b[?25hDownloading python_magic-0.4.27-py2.py3-none-any.whl (13 kB)\n",
            "Downloading python_oxmsg-0.0.2-py3-none-any.whl (31 kB)\n",
            "Downloading rapidfuzz-3.13.0-cp311-cp311-manylinux_2_17_x86_64.manylinux2014_x86_64.whl (3.1 MB)\n",
            "\u001b[2K   \u001b[90m━━━━━━━━━━━━━━━━━━━━━━━━━━━━━━━━━━━━━━━━\u001b[0m \u001b[32m3.1/3.1 MB\u001b[0m \u001b[31m50.2 MB/s\u001b[0m eta \u001b[36m0:00:00\u001b[0m\n",
            "\u001b[?25hDownloading unstructured-0.17.2-py3-none-any.whl (1.8 MB)\n",
            "\u001b[2K   \u001b[90m━━━━━━━━━━━━━━━━━━━━━━━━━━━━━━━━━━━━━━━━\u001b[0m \u001b[32m1.8/1.8 MB\u001b[0m \u001b[31m47.7 MB/s\u001b[0m eta \u001b[36m0:00:00\u001b[0m\n",
            "\u001b[?25hDownloading unstructured_client-0.35.0-py3-none-any.whl (192 kB)\n",
            "\u001b[2K   \u001b[90m━━━━━━━━━━━━━━━━━━━━━━━━━━━━━━━━━━━━━━━━\u001b[0m \u001b[32m192.1/192.1 kB\u001b[0m \u001b[31m12.1 MB/s\u001b[0m eta \u001b[36m0:00:00\u001b[0m\n",
            "\u001b[?25hDownloading aiofiles-24.1.0-py3-none-any.whl (15 kB)\n",
            "Downloading banks-2.1.2-py3-none-any.whl (28 kB)\n",
            "Downloading Deprecated-1.2.18-py2.py3-none-any.whl (10.0 kB)\n",
            "Downloading dirtyjson-1.0.8-py3-none-any.whl (25 kB)\n",
            "Downloading llama_parse-0.6.22-py3-none-any.whl (4.9 kB)\n",
            "Downloading marshmallow-3.26.1-py3-none-any.whl (50 kB)\n",
            "\u001b[2K   \u001b[90m━━━━━━━━━━━━━━━━━━━━━━━━━━━━━━━━━━━━━━━━\u001b[0m \u001b[32m50.9/50.9 kB\u001b[0m \u001b[31m3.0 MB/s\u001b[0m eta \u001b[36m0:00:00\u001b[0m\n",
            "\u001b[?25hDownloading striprtf-0.0.26-py3-none-any.whl (6.9 kB)\n",
            "Downloading nvidia_cublas_cu12-12.4.5.8-py3-none-manylinux2014_x86_64.whl (363.4 MB)\n",
            "\u001b[2K   \u001b[90m━━━━━━━━━━━━━━━━━━━━━━━━━━━━━━━━━━━━━━━━\u001b[0m \u001b[32m363.4/363.4 MB\u001b[0m \u001b[31m1.5 MB/s\u001b[0m eta \u001b[36m0:00:00\u001b[0m\n",
            "\u001b[?25hDownloading nvidia_cuda_cupti_cu12-12.4.127-py3-none-manylinux2014_x86_64.whl (13.8 MB)\n",
            "\u001b[2K   \u001b[90m━━━━━━━━━━━━━━━━━━━━━━━━━━━━━━━━━━━━━━━━\u001b[0m \u001b[32m13.8/13.8 MB\u001b[0m \u001b[31m62.9 MB/s\u001b[0m eta \u001b[36m0:00:00\u001b[0m\n",
            "\u001b[?25hDownloading nvidia_cuda_nvrtc_cu12-12.4.127-py3-none-manylinux2014_x86_64.whl (24.6 MB)\n",
            "\u001b[2K   \u001b[90m━━━━━━━━━━━━━━━━━━━━━━━━━━━━━━━━━━━━━━━━\u001b[0m \u001b[32m24.6/24.6 MB\u001b[0m \u001b[31m51.4 MB/s\u001b[0m eta \u001b[36m0:00:00\u001b[0m\n",
            "\u001b[?25hDownloading nvidia_cuda_runtime_cu12-12.4.127-py3-none-manylinux2014_x86_64.whl (883 kB)\n",
            "\u001b[2K   \u001b[90m━━━━━━━━━━━━━━━━━━━━━━━━━━━━━━━━━━━━━━━━\u001b[0m \u001b[32m883.7/883.7 kB\u001b[0m \u001b[31m33.3 MB/s\u001b[0m eta \u001b[36m0:00:00\u001b[0m\n",
            "\u001b[?25hDownloading nvidia_cudnn_cu12-9.1.0.70-py3-none-manylinux2014_x86_64.whl (664.8 MB)\n",
            "\u001b[2K   \u001b[90m━━━━━━━━━━━━━━━━━━━━━━━━━━━━━━━━━━━━━━━━\u001b[0m \u001b[32m664.8/664.8 MB\u001b[0m \u001b[31m2.8 MB/s\u001b[0m eta \u001b[36m0:00:00\u001b[0m\n",
            "\u001b[?25hDownloading nvidia_cufft_cu12-11.2.1.3-py3-none-manylinux2014_x86_64.whl (211.5 MB)\n",
            "\u001b[2K   \u001b[90m━━━━━━━━━━━━━━━━━━━━━━━━━━━━━━━━━━━━━━━━\u001b[0m \u001b[32m211.5/211.5 MB\u001b[0m \u001b[31m4.9 MB/s\u001b[0m eta \u001b[36m0:00:00\u001b[0m\n",
            "\u001b[?25hDownloading nvidia_curand_cu12-10.3.5.147-py3-none-manylinux2014_x86_64.whl (56.3 MB)\n",
            "\u001b[2K   \u001b[90m━━━━━━━━━━━━━━━━━━━━━━━━━━━━━━━━━━━━━━━━\u001b[0m \u001b[32m56.3/56.3 MB\u001b[0m \u001b[31m9.5 MB/s\u001b[0m eta \u001b[36m0:00:00\u001b[0m\n",
            "\u001b[?25hDownloading nvidia_cusolver_cu12-11.6.1.9-py3-none-manylinux2014_x86_64.whl (127.9 MB)\n",
            "\u001b[2K   \u001b[90m━━━━━━━━━━━━━━━━━━━━━━━━━━━━━━━━━━━━━━━━\u001b[0m \u001b[32m127.9/127.9 MB\u001b[0m \u001b[31m7.1 MB/s\u001b[0m eta \u001b[36m0:00:00\u001b[0m\n",
            "\u001b[?25hDownloading nvidia_cusparse_cu12-12.3.1.170-py3-none-manylinux2014_x86_64.whl (207.5 MB)\n",
            "\u001b[2K   \u001b[90m━━━━━━━━━━━━━━━━━━━━━━━━━━━━━━━━━━━━━━━━\u001b[0m \u001b[32m207.5/207.5 MB\u001b[0m \u001b[31m4.9 MB/s\u001b[0m eta \u001b[36m0:00:00\u001b[0m\n",
            "\u001b[?25hDownloading nvidia_nvjitlink_cu12-12.4.127-py3-none-manylinux2014_x86_64.whl (21.1 MB)\n",
            "\u001b[2K   \u001b[90m━━━━━━━━━━━━━━━━━━━━━━━━━━━━━━━━━━━━━━━━\u001b[0m \u001b[32m21.1/21.1 MB\u001b[0m \u001b[31m70.7 MB/s\u001b[0m eta \u001b[36m0:00:00\u001b[0m\n",
            "\u001b[?25hDownloading typing_inspect-0.9.0-py3-none-any.whl (8.8 kB)\n",
            "Downloading XlsxWriter-3.2.3-py3-none-any.whl (169 kB)\n",
            "\u001b[2K   \u001b[90m━━━━━━━━━━━━━━━━━━━━━━━━━━━━━━━━━━━━━━━━\u001b[0m \u001b[32m169.4/169.4 kB\u001b[0m \u001b[31m11.8 MB/s\u001b[0m eta \u001b[36m0:00:00\u001b[0m\n",
            "\u001b[?25hDownloading aiosqlite-0.21.0-py3-none-any.whl (15 kB)\n",
            "Downloading coloredlogs-15.0.1-py2.py3-none-any.whl (46 kB)\n",
            "\u001b[2K   \u001b[90m━━━━━━━━━━━━━━━━━━━━━━━━━━━━━━━━━━━━━━━━\u001b[0m \u001b[32m46.0/46.0 kB\u001b[0m \u001b[31m2.9 MB/s\u001b[0m eta \u001b[36m0:00:00\u001b[0m\n",
            "\u001b[?25hDownloading olefile-0.47-py2.py3-none-any.whl (114 kB)\n",
            "\u001b[2K   \u001b[90m━━━━━━━━━━━━━━━━━━━━━━━━━━━━━━━━━━━━━━━━\u001b[0m \u001b[32m114.6/114.6 kB\u001b[0m \u001b[31m7.4 MB/s\u001b[0m eta \u001b[36m0:00:00\u001b[0m\n",
            "\u001b[?25hDownloading pypdfium2-4.30.1-py3-none-manylinux_2_17_x86_64.manylinux2014_x86_64.whl (2.9 MB)\n",
            "\u001b[2K   \u001b[90m━━━━━━━━━━━━━━━━━━━━━━━━━━━━━━━━━━━━━━━━\u001b[0m \u001b[32m2.9/2.9 MB\u001b[0m \u001b[31m61.8 MB/s\u001b[0m eta \u001b[36m0:00:00\u001b[0m\n",
            "\u001b[?25hDownloading python_multipart-0.0.20-py3-none-any.whl (24 kB)\n",
            "Downloading humanfriendly-10.0-py2.py3-none-any.whl (86 kB)\n",
            "\u001b[2K   \u001b[90m━━━━━━━━━━━━━━━━━━━━━━━━━━━━━━━━━━━━━━━━\u001b[0m \u001b[32m86.8/86.8 kB\u001b[0m \u001b[31m5.4 MB/s\u001b[0m eta \u001b[36m0:00:00\u001b[0m\n",
            "\u001b[?25hDownloading llama_cloud_services-0.6.22-py3-none-any.whl (37 kB)\n",
            "Downloading llama_cloud-0.1.19-py3-none-any.whl (263 kB)\n",
            "\u001b[2K   \u001b[90m━━━━━━━━━━━━━━━━━━━━━━━━━━━━━━━━━━━━━━━━\u001b[0m \u001b[32m263.6/263.6 kB\u001b[0m \u001b[31m15.1 MB/s\u001b[0m eta \u001b[36m0:00:00\u001b[0m\n",
            "\u001b[?25hDownloading mypy_extensions-1.1.0-py3-none-any.whl (5.0 kB)\n",
            "Downloading griffe-1.7.3-py3-none-any.whl (129 kB)\n",
            "\u001b[2K   \u001b[90m━━━━━━━━━━━━━━━━━━━━━━━━━━━━━━━━━━━━━━━━\u001b[0m \u001b[32m129.3/129.3 kB\u001b[0m \u001b[31m8.3 MB/s\u001b[0m eta \u001b[36m0:00:00\u001b[0m\n",
            "\u001b[?25hDownloading colorama-0.4.6-py2.py3-none-any.whl (25 kB)\n",
            "Downloading python_dotenv-1.1.0-py3-none-any.whl (20 kB)\n",
            "Building wheels for collected packages: langdetect\n",
            "  Building wheel for langdetect (setup.py) ... \u001b[?25l\u001b[?25hdone\n",
            "  Created wheel for langdetect: filename=langdetect-1.0.9-py3-none-any.whl size=993223 sha256=09c62d6f31028aece28a53b1270b39bf1ba0fe30374cc9b421fdc090ed666e0e\n",
            "  Stored in directory: /root/.cache/pip/wheels/0a/f2/b2/e5ca405801e05eb7c8ed5b3b4bcf1fcabcd6272c167640072e\n",
            "Successfully built langdetect\n",
            "Installing collected packages: striprtf, filetype, dirtyjson, XlsxWriter, unstructured.pytesseract, rapidfuzz, python-multipart, python-magic, python-iso639, python-dotenv, python-docx, pypdfium2, pypdf, pypandoc, pi-heif, pdf2image, onnx, olefile, nvidia-nvjitlink-cu12, nvidia-curand-cu12, nvidia-cufft-cu12, nvidia-cuda-runtime-cu12, nvidia-cuda-nvrtc-cu12, nvidia-cuda-cupti-cu12, nvidia-cublas-cu12, mypy-extensions, marshmallow, langdetect, humanfriendly, emoji, deprecated, colorama, backoff, aiosqlite, aiofiles, typing-inspect, python-pptx, python-oxmsg, pikepdf, nvidia-cusparse-cu12, nvidia-cudnn-cu12, griffe, coloredlogs, unstructured-client, pdfminer.six, onnxruntime, nvidia-cusolver-cu12, llama-cloud, dataclasses-json, banks, unstructured, llama-index-core, llama-index-readers-file, llama-index-llms-openai, llama-index-indices-managed-llama-cloud, llama-index-embeddings-openai, llama-cloud-services, google-cloud-vision, llama-parse, llama-index-multi-modal-llms-openai, llama-index-cli, llama-index-agent-openai, unstructured-inference, llama-index-readers-llama-parse, llama-index-program-openai, effdet, llama-index-question-gen-openai, llama-index\n",
            "  Attempting uninstall: nvidia-nvjitlink-cu12\n",
            "    Found existing installation: nvidia-nvjitlink-cu12 12.5.82\n",
            "    Uninstalling nvidia-nvjitlink-cu12-12.5.82:\n",
            "      Successfully uninstalled nvidia-nvjitlink-cu12-12.5.82\n",
            "  Attempting uninstall: nvidia-curand-cu12\n",
            "    Found existing installation: nvidia-curand-cu12 10.3.6.82\n",
            "    Uninstalling nvidia-curand-cu12-10.3.6.82:\n",
            "      Successfully uninstalled nvidia-curand-cu12-10.3.6.82\n",
            "  Attempting uninstall: nvidia-cufft-cu12\n",
            "    Found existing installation: nvidia-cufft-cu12 11.2.3.61\n",
            "    Uninstalling nvidia-cufft-cu12-11.2.3.61:\n",
            "      Successfully uninstalled nvidia-cufft-cu12-11.2.3.61\n",
            "  Attempting uninstall: nvidia-cuda-runtime-cu12\n",
            "    Found existing installation: nvidia-cuda-runtime-cu12 12.5.82\n",
            "    Uninstalling nvidia-cuda-runtime-cu12-12.5.82:\n",
            "      Successfully uninstalled nvidia-cuda-runtime-cu12-12.5.82\n",
            "  Attempting uninstall: nvidia-cuda-nvrtc-cu12\n",
            "    Found existing installation: nvidia-cuda-nvrtc-cu12 12.5.82\n",
            "    Uninstalling nvidia-cuda-nvrtc-cu12-12.5.82:\n",
            "      Successfully uninstalled nvidia-cuda-nvrtc-cu12-12.5.82\n",
            "  Attempting uninstall: nvidia-cuda-cupti-cu12\n",
            "    Found existing installation: nvidia-cuda-cupti-cu12 12.5.82\n",
            "    Uninstalling nvidia-cuda-cupti-cu12-12.5.82:\n",
            "      Successfully uninstalled nvidia-cuda-cupti-cu12-12.5.82\n",
            "  Attempting uninstall: nvidia-cublas-cu12\n",
            "    Found existing installation: nvidia-cublas-cu12 12.5.3.2\n",
            "    Uninstalling nvidia-cublas-cu12-12.5.3.2:\n",
            "      Successfully uninstalled nvidia-cublas-cu12-12.5.3.2\n",
            "  Attempting uninstall: nvidia-cusparse-cu12\n",
            "    Found existing installation: nvidia-cusparse-cu12 12.5.1.3\n",
            "    Uninstalling nvidia-cusparse-cu12-12.5.1.3:\n",
            "      Successfully uninstalled nvidia-cusparse-cu12-12.5.1.3\n",
            "  Attempting uninstall: nvidia-cudnn-cu12\n",
            "    Found existing installation: nvidia-cudnn-cu12 9.3.0.75\n",
            "    Uninstalling nvidia-cudnn-cu12-9.3.0.75:\n",
            "      Successfully uninstalled nvidia-cudnn-cu12-9.3.0.75\n",
            "  Attempting uninstall: nvidia-cusolver-cu12\n",
            "    Found existing installation: nvidia-cusolver-cu12 11.6.3.83\n",
            "    Uninstalling nvidia-cusolver-cu12-11.6.3.83:\n",
            "      Successfully uninstalled nvidia-cusolver-cu12-11.6.3.83\n",
            "Successfully installed XlsxWriter-3.2.3 aiofiles-24.1.0 aiosqlite-0.21.0 backoff-2.2.1 banks-2.1.2 colorama-0.4.6 coloredlogs-15.0.1 dataclasses-json-0.6.7 deprecated-1.2.18 dirtyjson-1.0.8 effdet-0.4.1 emoji-2.14.1 filetype-1.2.0 google-cloud-vision-3.10.1 griffe-1.7.3 humanfriendly-10.0 langdetect-1.0.9 llama-cloud-0.1.19 llama-cloud-services-0.6.22 llama-index-0.12.36 llama-index-agent-openai-0.4.7 llama-index-cli-0.4.1 llama-index-core-0.12.36 llama-index-embeddings-openai-0.3.1 llama-index-indices-managed-llama-cloud-0.6.11 llama-index-llms-openai-0.3.40 llama-index-multi-modal-llms-openai-0.4.3 llama-index-program-openai-0.3.1 llama-index-question-gen-openai-0.3.0 llama-index-readers-file-0.4.7 llama-index-readers-llama-parse-0.4.0 llama-parse-0.6.22 marshmallow-3.26.1 mypy-extensions-1.1.0 nvidia-cublas-cu12-12.4.5.8 nvidia-cuda-cupti-cu12-12.4.127 nvidia-cuda-nvrtc-cu12-12.4.127 nvidia-cuda-runtime-cu12-12.4.127 nvidia-cudnn-cu12-9.1.0.70 nvidia-cufft-cu12-11.2.1.3 nvidia-curand-cu12-10.3.5.147 nvidia-cusolver-cu12-11.6.1.9 nvidia-cusparse-cu12-12.3.1.170 nvidia-nvjitlink-cu12-12.4.127 olefile-0.47 onnx-1.18.0 onnxruntime-1.22.0 pdf2image-1.17.0 pdfminer.six-20250506 pi-heif-0.22.0 pikepdf-9.7.0 pypandoc-1.15 pypdf-5.5.0 pypdfium2-4.30.1 python-docx-1.1.2 python-dotenv-1.1.0 python-iso639-2025.2.18 python-magic-0.4.27 python-multipart-0.0.20 python-oxmsg-0.0.2 python-pptx-1.0.2 rapidfuzz-3.13.0 striprtf-0.0.26 typing-inspect-0.9.0 unstructured-0.17.2 unstructured-client-0.35.0 unstructured-inference-0.8.10 unstructured.pytesseract-0.3.15\n"
          ]
        },
        {
          "output_type": "display_data",
          "data": {
            "application/vnd.colab-display-data+json": {
              "pip_warning": {
                "packages": [
                  "google"
                ]
              },
              "id": "23749ad0f1214eb7bfda9b9c7e83117c"
            }
          },
          "metadata": {}
        }
      ]
    },
    {
      "cell_type": "markdown",
      "id": "a9663ad9-217c-46d3-befc-8ccabeba890b",
      "metadata": {
        "id": "a9663ad9-217c-46d3-befc-8ccabeba890b"
      },
      "source": [
        "# 5 Levels Of Text Splitting\n",
        "\n",
        "In this tutorial we are reviewing the 5 Levels Of Text Splitting. This is an unofficial list put together for fun and educational purposes.\n",
        "\n",
        "Ever try to put a long piece of text into ChatGPT but it tells you it’s too long? Or you're trying to give your application better long term memory, but it’s still just not quite working.\n",
        "\n",
        "One of the most effective strategies to improve performance of your language model applications is to split your large data into smaller pieces. This is call splitting or chunking (we'll use these terms interchangeably). In the world of multi-modal, splitting also applies to images.\n",
        "\n",
        "We are going to cover a lot, but if you make it to the end, I guarantee you’ll have a solid grasp on chunking theory, strategies, and resources to learn more.\n",
        "\n",
        "**Levels Of Text Splitting**\n",
        "* **Level 1: [Character Splitting](#CharacterSplitting)** - Simple static character chunks of data\n",
        "* **Level 2: [Recursive Character Text Splitting](#RecursiveCharacterSplitting)** - Recursive chunking based on a list of separators\n",
        "* **Level 3: [Document Specific Splitting](#DocumentSpecific)** - Various chunking methods for different document types (PDF, Python, Markdown)\n",
        "* **Level 4: [Semantic Splitting](#SemanticChunking)** - Embedding walk based chunking\n",
        "* **Level 5: [Agentic Splitting](#AgenticChunking)** - Experimental method of splitting text with an agent-like system. Good for if you believe that token cost will trend to $0.00\n",
        "* **\\*Bonus Level:\\*** **[Alternative Representation Chunking + Indexing](#BonusLevel)** - Derivative representations of your raw text that will aid in retrieval and indexing\n",
        "\n",
        "**Notebook resources:**\n",
        "* [Video Overview]() - Walkthrough of this code with commentary\n",
        "* [ChunkViz.com](https://www.chunkviz.com/) - Visual representation of chunk splitting methods\n",
        "* [RAGAS](https://github.com/explodinggradients/ragas) - Retrieval evaluation framework\n",
        "\n",
        "This tutorial was created with ❤️ by [Greg Kamradt](https://twitter.com/GregKamradt). MIT license, attribution is always welcome.\n",
        "\n",
        "This tutorial will use code from LangChain (`pip install langchain`) & Llama Index (`pip install llama-index`)\n",
        "\n",
        "**Evaluations**\n",
        "\n",
        "It's important to test your chunking strategies in retrieval evals. It doesn't matter how you chunk if the performance of your application isn't great.\n",
        "\n",
        "Eval Frameworks:\n",
        "\n",
        "* [LangChain Evals](https://python.langchain.com/docs/guides/evaluation/)\n",
        "* [Llama Index Evals](https://docs.llamaindex.ai/en/stable/module_guides/evaluating/root.html)\n",
        "* [RAGAS Evals](https://github.com/explodinggradients/ragas)\n",
        "\n",
        "I'm not going to demo evals for each method because success is domain specific. The arbitrary eval that I pick may not be suitable for your data. If anyone is interested in collaborating on a rigorous evaluation of different chunking strategies, please reach out (contact@dataindependent.com).\n",
        "\n",
        "If you only walk away from this tutorial with one thing have it be the **The Chunking Commandment**\n",
        "\n",
        "**The Chunking Commandment:** Your goal is not to chunk for chunking sake, our goal is to get our data in a format where it can be retrieved for value later.\n",
        "\n",
        "## Level 1: Character Splitting <a id=\"CharacterSplitting\"></a>\n",
        "Character splitting is the most basic form of splitting up your text. It is the process of simply dividing your text into N-character sized chunks regardless of their content or form.\n",
        "\n",
        "This method isn't recommended for any applications - but it's a great starting point for us to understand the basics.\n",
        "\n",
        "* **Pros:** Easy & Simple\n",
        "* **Cons:** Very rigid and doesn't take into account the structure of your text\n",
        "\n",
        "Concepts to know:\n",
        "* **Chunk Size** - The number of characters you would like in your chunks. 50, 100, 100,000, etc.\n",
        "* **Chunk Overlap** - The amount you would like your sequential chunks to overlap. This is to try to avoid cutting a single piece of context into multiple pieces. This will create duplicate data across chunks.\n",
        "\n",
        "First let's get some sample text"
      ]
    },
    {
      "cell_type": "code",
      "execution_count": 1,
      "id": "c96299fc-30f5-4edf-ac23-23a29f9c7282",
      "metadata": {
        "id": "c96299fc-30f5-4edf-ac23-23a29f9c7282"
      },
      "outputs": [],
      "source": [
        "text = \"This is the text I would like to chunk up. It is the example text for this exercise\""
      ]
    },
    {
      "cell_type": "markdown",
      "id": "4e1cf67e-98d7-48bd-9867-f72be72e3f4a",
      "metadata": {
        "id": "4e1cf67e-98d7-48bd-9867-f72be72e3f4a"
      },
      "source": [
        "Then let's split this text manually"
      ]
    },
    {
      "cell_type": "code",
      "execution_count": 2,
      "id": "f11fb88f-17ed-44c2-b4de-a8a527fe63c7",
      "metadata": {
        "colab": {
          "base_uri": "https://localhost:8080/"
        },
        "id": "f11fb88f-17ed-44c2-b4de-a8a527fe63c7",
        "outputId": "fe0ea26a-4bcf-49ed-8713-d87d0a5bd0c0"
      },
      "outputs": [
        {
          "output_type": "execute_result",
          "data": {
            "text/plain": [
              "['This is the text I would like to ch',\n",
              " 'unk up. It is the example text for ',\n",
              " 'this exercise']"
            ]
          },
          "metadata": {},
          "execution_count": 2
        }
      ],
      "source": [
        "# Create a list that will hold your chunks\n",
        "chunks = []\n",
        "\n",
        "chunk_size = 35 # Characters\n",
        "\n",
        "# Run through the a range with the length of your text and iterate every chunk_size you want\n",
        "for i in range(0, len(text), chunk_size):\n",
        "    chunk = text[i:i + chunk_size]\n",
        "    chunks.append(chunk)\n",
        "chunks"
      ]
    },
    {
      "cell_type": "markdown",
      "id": "140085b7-c6af-4003-923c-73feb1825965",
      "metadata": {
        "id": "140085b7-c6af-4003-923c-73feb1825965"
      },
      "source": [
        "Congratulations! You just split your first text. We have long way to go but you're already making progress. Feel like a language model practitioner yet?\n",
        "\n",
        "When working with text in the language model world, we don't deal with raw strings. It is more common to work with documents. Documents are objects that hold the text you're concerned with, but also additional metadata which makes filtering and manipulation easier later.\n",
        "\n",
        "We could convert our list of strings into documents, but I'd rather start from scratch and create the docs.\n",
        "\n",
        "Let's load up LangChains `CharacterSplitter` to do this for us"
      ]
    },
    {
      "cell_type": "code",
      "execution_count": 3,
      "id": "d85945f0-4a09-4bd9-bdb6-bafe03089053",
      "metadata": {
        "id": "d85945f0-4a09-4bd9-bdb6-bafe03089053"
      },
      "outputs": [],
      "source": [
        "from langchain.text_splitter import CharacterTextSplitter"
      ]
    },
    {
      "cell_type": "markdown",
      "id": "ff5f3c0a-09c9-45a9-8f47-d28baf22b201",
      "metadata": {
        "id": "ff5f3c0a-09c9-45a9-8f47-d28baf22b201"
      },
      "source": [
        "Then let's load up this text splitter. I need to specify `chunk overlap` and `separator` or else we'll get funk results. We'll get into those next"
      ]
    },
    {
      "cell_type": "code",
      "execution_count": 4,
      "id": "3dcbeb8d-c5a0-4047-8250-967313c20935",
      "metadata": {
        "id": "3dcbeb8d-c5a0-4047-8250-967313c20935"
      },
      "outputs": [],
      "source": [
        "text_splitter = CharacterTextSplitter(chunk_size = 35, chunk_overlap=0, separator='', strip_whitespace=False)"
      ]
    },
    {
      "cell_type": "markdown",
      "id": "5ae25bbe-d7d1-44da-820b-3cd34a1cfc67",
      "metadata": {
        "id": "5ae25bbe-d7d1-44da-820b-3cd34a1cfc67"
      },
      "source": [
        "Then we can actually split our text via `create_documents`. Note: `create_documents` expects a list of texts, so if you just have a string (like we do) you'll need to wrap it in `[]`"
      ]
    },
    {
      "cell_type": "code",
      "execution_count": 5,
      "id": "afe4945b-ce08-49aa-a5dc-65a0e59922f2",
      "metadata": {
        "colab": {
          "base_uri": "https://localhost:8080/"
        },
        "id": "afe4945b-ce08-49aa-a5dc-65a0e59922f2",
        "outputId": "239075e9-3634-4e38-942a-cd7231c960e7"
      },
      "outputs": [
        {
          "output_type": "execute_result",
          "data": {
            "text/plain": [
              "[Document(metadata={}, page_content='This is the text I would like to ch'),\n",
              " Document(metadata={}, page_content='unk up. It is the example text for '),\n",
              " Document(metadata={}, page_content='this exercise')]"
            ]
          },
          "metadata": {},
          "execution_count": 5
        }
      ],
      "source": [
        "text_splitter.create_documents([text])"
      ]
    },
    {
      "cell_type": "markdown",
      "id": "331025f4-6ef4-4459-bcb6-df7824e78ce4",
      "metadata": {
        "id": "331025f4-6ef4-4459-bcb6-df7824e78ce4"
      },
      "source": [
        "Notice how this time we have the same chunks, but they are in documents. These will play nicely with the rest of the LangChain world. Also notice how the trailing whitespace on the end of the 2nd chunk is missing. This is because LangChain removes it, see [this line](https://github.com/langchain-ai/langchain/blob/f36ef0739dbb548cabdb4453e6819fc3d826414f/libs/langchain/langchain/text_splitter.py#L167) for where they do it. You can avoid this with `strip_whitespace=False`"
      ]
    },
    {
      "cell_type": "markdown",
      "id": "1ed0f193-4098-4fb1-a42f-7f96cd182188",
      "metadata": {
        "id": "1ed0f193-4098-4fb1-a42f-7f96cd182188"
      },
      "source": [
        "**Chunk Overlap & Separators**\n",
        "\n",
        "**Chunk overlap** will blend together our chunks so that the tail of Chunk #1 will be the same thing and the head of Chunk #2 and so on and so forth.\n",
        "\n",
        "This time I'll load up my overlap with a value of 4, this means 4 characters of overlap"
      ]
    },
    {
      "cell_type": "code",
      "execution_count": 6,
      "id": "fc66f496-7b0d-4b2a-a43d-e8f06d58c934",
      "metadata": {
        "id": "fc66f496-7b0d-4b2a-a43d-e8f06d58c934"
      },
      "outputs": [],
      "source": [
        "text_splitter = CharacterTextSplitter(chunk_size = 35, chunk_overlap=4, separator='')"
      ]
    },
    {
      "cell_type": "code",
      "execution_count": 7,
      "id": "fd5d7e36-b592-430e-9069-cc025c78d7ef",
      "metadata": {
        "colab": {
          "base_uri": "https://localhost:8080/"
        },
        "id": "fd5d7e36-b592-430e-9069-cc025c78d7ef",
        "outputId": "9ca4e2ef-c731-446e-fd0d-09d72469b105"
      },
      "outputs": [
        {
          "output_type": "execute_result",
          "data": {
            "text/plain": [
              "[Document(metadata={}, page_content='This is the text I would like to ch'),\n",
              " Document(metadata={}, page_content='o chunk up. It is the example text'),\n",
              " Document(metadata={}, page_content='ext for this exercise')]"
            ]
          },
          "metadata": {},
          "execution_count": 7
        }
      ],
      "source": [
        "text_splitter.create_documents([text])"
      ]
    },
    {
      "cell_type": "markdown",
      "id": "dcd4aaa8-b90b-499e-b2d5-bc623b5bb751",
      "metadata": {
        "id": "dcd4aaa8-b90b-499e-b2d5-bc623b5bb751"
      },
      "source": [
        "Notice how we have the same chunks, but now there is overlap between 1 & 2 and 2 & 3. The 'o ch' on the tail of Chunk #1 matches the 'o ch' of the head of Chunk #2.\n",
        "\n",
        "I wanted a better way to visualize this, so I made [ChunkViz.com](www.chunkviz.com) to help show it. Here's what the same text looks like.\n",
        "\n",
        "<div style=\"text-align: center;\">\n",
        "    <img src=\"https://github.com/FullStackRetrieval-com/RetrievalTutorials/blob/main/tutorials/LevelsOfTextSplitting/static/ChunkVizCharacter34_4_w_overlap.png?raw=1\" alt=\"image\" style=\"max-width: 800px;\">\n",
        "</div>\n",
        "\n",
        "static/ChunkVizCharacterRecursive.png\n",
        "\n",
        "Check out how we have three colors, with two overlaping sections.\n",
        "\n",
        "**Separators** are character(s) sequences you would like to split on. Say you wanted to chunk your data at `ch`, you can specify it."
      ]
    },
    {
      "cell_type": "code",
      "execution_count": 8,
      "id": "814ce9aa-17c3-4205-b433-2eae612c2225",
      "metadata": {
        "id": "814ce9aa-17c3-4205-b433-2eae612c2225"
      },
      "outputs": [],
      "source": [
        "text_splitter = CharacterTextSplitter(chunk_size = 35, chunk_overlap=0, separator='ch')"
      ]
    },
    {
      "cell_type": "code",
      "execution_count": 9,
      "id": "bb759b1f-dab0-4f5e-a0c0-220374313da6",
      "metadata": {
        "colab": {
          "base_uri": "https://localhost:8080/"
        },
        "id": "bb759b1f-dab0-4f5e-a0c0-220374313da6",
        "outputId": "752a433e-1cdd-4884-b6c4-35b3af71032c"
      },
      "outputs": [
        {
          "output_type": "execute_result",
          "data": {
            "text/plain": [
              "[Document(metadata={}, page_content='This is the text I would like to'),\n",
              " Document(metadata={}, page_content='unk up. It is the example text for this exercise')]"
            ]
          },
          "metadata": {},
          "execution_count": 9
        }
      ],
      "source": [
        "text_splitter.create_documents([text])"
      ]
    },
    {
      "cell_type": "markdown",
      "id": "72c7ff4a-b6f0-4924-9a9c-2791dddc5b37",
      "metadata": {
        "id": "72c7ff4a-b6f0-4924-9a9c-2791dddc5b37"
      },
      "source": [
        "#### Llama Index\n",
        "\n",
        "[Llama Index](https://www.llamaindex.ai/) is a great choice for flexibility in the chunking and indexing process. They provide node relationships out of the box which can aid in retrieval later.\n",
        "\n",
        "Let's take a look at their sentence splitter. It is similar to the character splitter, but using its default settings, it'll split on sentences instead."
      ]
    },
    {
      "cell_type": "code",
      "execution_count": 11,
      "id": "624832d6-f3fd-45c4-b52e-bbc86e5e3cd0",
      "metadata": {
        "id": "624832d6-f3fd-45c4-b52e-bbc86e5e3cd0"
      },
      "outputs": [],
      "source": [
        "from llama_index.core.node_parser import SentenceSplitter\n",
        "from llama_index.core import SimpleDirectoryReader"
      ]
    },
    {
      "cell_type": "markdown",
      "id": "b6e77494-a253-4414-b32d-2246fcb396ef",
      "metadata": {
        "id": "b6e77494-a253-4414-b32d-2246fcb396ef"
      },
      "source": [
        "Load up your splitter"
      ]
    },
    {
      "cell_type": "code",
      "execution_count": 12,
      "id": "ef9e6627-81a5-463d-9180-5ff2ff1d40f9",
      "metadata": {
        "id": "ef9e6627-81a5-463d-9180-5ff2ff1d40f9"
      },
      "outputs": [],
      "source": [
        "splitter = SentenceSplitter(\n",
        "    chunk_size=200,\n",
        "    chunk_overlap=15,\n",
        ")"
      ]
    },
    {
      "cell_type": "markdown",
      "id": "23214df1-064d-47ad-9058-f9a5f113b6cf",
      "metadata": {
        "id": "23214df1-064d-47ad-9058-f9a5f113b6cf"
      },
      "source": [
        "Load up your document"
      ]
    },
    {
      "cell_type": "code",
      "execution_count": 15,
      "id": "7cafba29-b973-4b37-806f-6f4893eae02e",
      "metadata": {
        "id": "7cafba29-b973-4b37-806f-6f4893eae02e"
      },
      "outputs": [],
      "source": [
        "documents = SimpleDirectoryReader(\n",
        "    input_files=[\"/content/RetrievalTutorials/data/PGEssays/mit.txt\"]\n",
        ").load_data()\n",
        "\n"
      ]
    },
    {
      "cell_type": "markdown",
      "id": "d2ceae08-1f5e-46bc-9d98-e95182fe8c3c",
      "metadata": {
        "id": "d2ceae08-1f5e-46bc-9d98-e95182fe8c3c"
      },
      "source": [
        "Create your nodes. Nodes are similar to documents but with more relationship data added to them."
      ]
    },
    {
      "cell_type": "code",
      "execution_count": 16,
      "id": "52f9a2e2-3d56-4727-afce-c81c13089324",
      "metadata": {
        "id": "52f9a2e2-3d56-4727-afce-c81c13089324"
      },
      "outputs": [],
      "source": [
        "nodes = splitter.get_nodes_from_documents(documents)"
      ]
    },
    {
      "cell_type": "markdown",
      "id": "ec353aac-ea8f-421a-9895-0af8afdc08e0",
      "metadata": {
        "id": "ec353aac-ea8f-421a-9895-0af8afdc08e0"
      },
      "source": [
        "Then let's take a look at one"
      ]
    },
    {
      "cell_type": "code",
      "execution_count": 17,
      "id": "898a421f-54a0-45a4-8acb-c7087b6a883f",
      "metadata": {
        "colab": {
          "base_uri": "https://localhost:8080/"
        },
        "id": "898a421f-54a0-45a4-8acb-c7087b6a883f",
        "outputId": "9049bf13-4133-4010-9598-0ace58705eae"
      },
      "outputs": [
        {
          "output_type": "execute_result",
          "data": {
            "text/plain": [
              "TextNode(id_='f5579bf8-c5d6-4421-ab7b-101e3545881e', embedding=None, metadata={'file_path': '/content/RetrievalTutorials/data/PGEssays/mit.txt', 'file_name': 'mit.txt', 'file_type': 'text/plain', 'file_size': 36045, 'creation_date': '2025-05-19', 'last_modified_date': '2025-05-19'}, excluded_embed_metadata_keys=['file_name', 'file_type', 'file_size', 'creation_date', 'last_modified_date', 'last_accessed_date'], excluded_llm_metadata_keys=['file_name', 'file_type', 'file_size', 'creation_date', 'last_modified_date', 'last_accessed_date'], relationships={<NodeRelationship.SOURCE: '1'>: RelatedNodeInfo(node_id='91baf552-771c-4f9a-951f-f51e82711c4e', node_type=<ObjectType.DOCUMENT: '4'>, metadata={'file_path': '/content/RetrievalTutorials/data/PGEssays/mit.txt', 'file_name': 'mit.txt', 'file_type': 'text/plain', 'file_size': 36045, 'creation_date': '2025-05-19', 'last_modified_date': '2025-05-19'}, hash='82037f99af66877fcc9673afc4390add43a36500b28a996f8f52a9cb281783e4'), <NodeRelationship.NEXT: '3'>: RelatedNodeInfo(node_id='ae2cea90-e52d-45e1-a936-18690dae6009', node_type=<ObjectType.TEXT: '1'>, metadata={}, hash='48913db5a781248a4f31e1d225f472b19573b90c7585b27f8ae887d47add4a67')}, metadata_template='{key}: {value}', metadata_separator='\\n', text=\"Want to start a startup?  Get funded by\\nY Combinator.\\n\\n\\n\\n\\nOctober 2006(This essay is derived from a talk at MIT.)\\nTill recently graduating seniors had two choices: get a job or go\\nto grad school.  I think there will increasingly be a third option:\\nto start your own startup.  But how common will that be?I'm sure the default will always be to get a job, but starting a\\nstartup could well become as popular as grad school.  In the late\\n90s my professor friends used to complain that they couldn't get\\ngrad students, because all the undergrads were going to work for\\nstartups.\", mimetype='text/plain', start_char_idx=2, end_char_idx=576, metadata_seperator='\\n', text_template='{metadata_str}\\n\\n{content}')"
            ]
          },
          "metadata": {},
          "execution_count": 17
        }
      ],
      "source": [
        "nodes[0]"
      ]
    },
    {
      "cell_type": "markdown",
      "id": "539aa1a2-67b8-4585-b0d3-306703ea856b",
      "metadata": {
        "id": "539aa1a2-67b8-4585-b0d3-306703ea856b"
      },
      "source": [
        "As you can see there is a lot more relationship data held within Llama Index's nodes. We'll talk about those later, I don't want to get ahead of ourselves\n",
        "\n",
        "Basic Character splitting is likely only useful for a few applications, maybe yours!\n",
        "\n",
        "## Level 2: Recursive Character Text Splitting\n",
        "<a id=\"RecursiveCharacterSplitting\"></a>\n",
        "Let's jump a level of complexity.\n",
        "\n",
        "The problem with Level #1 is that we don't take into account the structure of our document at all. We simply split by a fix number of characters.\n",
        "\n",
        "The Recursive Character Text Splitter helps with this. With it, we'll specify a series of separatators which will be used to split our docs.\n",
        "\n",
        "You can see the default separators for LangChain [here](https://github.com/langchain-ai/langchain/blob/9ef2feb6747f5a69d186bd623b569ad722829a5e/libs/langchain/langchain/text_splitter.py#L842). Let's take a look at them one by one.\n",
        "\n",
        "* \"\\n\\n\" - Double new line, or most commonly paragraph breaks\n",
        "* \"\\n\" - New lines\n",
        "* \" \" - Spaces\n",
        "* \"\" - Characters\n",
        "\n",
        "I'm not sure why a period (\".\") isn't included on the list, perhaps it is not universal enough? If you know, let me know.\n",
        "\n",
        "This is the swiss army knife of splitters and my first choice when mocking up a quick application. If you don't know which splitter to start with, this is a good first bet.\n",
        "\n",
        "Let's try it out"
      ]
    },
    {
      "cell_type": "code",
      "execution_count": 18,
      "id": "49f42bea-3d06-404d-9f8c-f15f7ff7591b",
      "metadata": {
        "id": "49f42bea-3d06-404d-9f8c-f15f7ff7591b"
      },
      "outputs": [],
      "source": [
        "from langchain.text_splitter import RecursiveCharacterTextSplitter"
      ]
    },
    {
      "cell_type": "markdown",
      "id": "bb6f79f4-769b-474b-8d7d-19cb48407cd6",
      "metadata": {
        "id": "bb6f79f4-769b-474b-8d7d-19cb48407cd6"
      },
      "source": [
        "Then let's load up a larger piece of text"
      ]
    },
    {
      "cell_type": "code",
      "execution_count": 19,
      "id": "0772695d-0c5e-4e19-bb69-14e9bd7a15a7",
      "metadata": {
        "id": "0772695d-0c5e-4e19-bb69-14e9bd7a15a7"
      },
      "outputs": [],
      "source": [
        "text = \"\"\"\n",
        "One of the most important things I didn't understand about the world when I was a child is the degree to which the returns for performance are superlinear.\n",
        "\n",
        "Teachers and coaches implicitly told us the returns were linear. \"You get out,\" I heard a thousand times, \"what you put in.\" They meant well, but this is rarely true. If your product is only half as good as your competitor's, you don't get half as many customers. You get no customers, and you go out of business.\n",
        "\n",
        "It's obviously true that the returns for performance are superlinear in business. Some think this is a flaw of capitalism, and that if we changed the rules it would stop being true. But superlinear returns for performance are a feature of the world, not an artifact of rules we've invented. We see the same pattern in fame, power, military victories, knowledge, and even benefit to humanity. In all of these, the rich get richer. [1]\n",
        "\"\"\""
      ]
    },
    {
      "cell_type": "markdown",
      "id": "9fbb158c-6bbe-4f49-95df-a8b43965a566",
      "metadata": {
        "id": "9fbb158c-6bbe-4f49-95df-a8b43965a566"
      },
      "source": [
        "Now let's make our text splitter"
      ]
    },
    {
      "cell_type": "code",
      "execution_count": 20,
      "id": "03ec54c4-bda6-4254-97dd-983775b1d729",
      "metadata": {
        "id": "03ec54c4-bda6-4254-97dd-983775b1d729"
      },
      "outputs": [],
      "source": [
        "text_splitter = RecursiveCharacterTextSplitter(chunk_size = 65, chunk_overlap=0)"
      ]
    },
    {
      "cell_type": "code",
      "execution_count": 21,
      "id": "887c7676-1e67-4084-94d3-59689eb399c6",
      "metadata": {
        "colab": {
          "base_uri": "https://localhost:8080/"
        },
        "id": "887c7676-1e67-4084-94d3-59689eb399c6",
        "outputId": "c8e27fc5-77bd-4a6a-fe81-0d0472aa5a5e"
      },
      "outputs": [
        {
          "output_type": "execute_result",
          "data": {
            "text/plain": [
              "[Document(metadata={}, page_content=\"One of the most important things I didn't understand about the\"),\n",
              " Document(metadata={}, page_content='world when I was a child is the degree to which the returns for'),\n",
              " Document(metadata={}, page_content='performance are superlinear.'),\n",
              " Document(metadata={}, page_content='Teachers and coaches implicitly told us the returns were linear.'),\n",
              " Document(metadata={}, page_content='\"You get out,\" I heard a thousand times, \"what you put in.\" They'),\n",
              " Document(metadata={}, page_content='meant well, but this is rarely true. If your product is only'),\n",
              " Document(metadata={}, page_content=\"half as good as your competitor's, you don't get half as many\"),\n",
              " Document(metadata={}, page_content='customers. You get no customers, and you go out of business.'),\n",
              " Document(metadata={}, page_content=\"It's obviously true that the returns for performance are\"),\n",
              " Document(metadata={}, page_content='superlinear in business. Some think this is a flaw of'),\n",
              " Document(metadata={}, page_content='capitalism, and that if we changed the rules it would stop being'),\n",
              " Document(metadata={}, page_content='true. But superlinear returns for performance are a feature of'),\n",
              " Document(metadata={}, page_content=\"the world, not an artifact of rules we've invented. We see the\"),\n",
              " Document(metadata={}, page_content='same pattern in fame, power, military victories, knowledge, and'),\n",
              " Document(metadata={}, page_content='even benefit to humanity. In all of these, the rich get richer.'),\n",
              " Document(metadata={}, page_content='[1]')]"
            ]
          },
          "metadata": {},
          "execution_count": 21
        }
      ],
      "source": [
        "text_splitter.create_documents([text])"
      ]
    },
    {
      "cell_type": "markdown",
      "id": "3fa00043-1655-4113-bb28-f3a998d5713a",
      "metadata": {
        "id": "3fa00043-1655-4113-bb28-f3a998d5713a"
      },
      "source": [
        "Notice how now there are more chunks that end with a period \".\". This is because those likely are the end of a paragraph and the splitter first looks for double new lines (paragraph break).\n",
        "\n",
        "Once paragraphs are split, then it looks at the chunk size, if a chunk is too big, then it'll split by the next separator. If the chunk is still too big, then it'll move onto the next one and so forth.\n",
        "\n",
        "For text of this size, let's split on something bigger."
      ]
    },
    {
      "cell_type": "code",
      "execution_count": 22,
      "id": "6da8734e-47da-4a08-8459-9bf8bfed7fe4",
      "metadata": {
        "colab": {
          "base_uri": "https://localhost:8080/"
        },
        "id": "6da8734e-47da-4a08-8459-9bf8bfed7fe4",
        "outputId": "a18a1e63-d2b6-47a9-82c4-bcf7d318a69b"
      },
      "outputs": [
        {
          "output_type": "execute_result",
          "data": {
            "text/plain": [
              "[Document(metadata={}, page_content=\"One of the most important things I didn't understand about the world when I was a child is the degree to which the returns for performance are superlinear.\"),\n",
              " Document(metadata={}, page_content='Teachers and coaches implicitly told us the returns were linear. \"You get out,\" I heard a thousand times, \"what you put in.\" They meant well, but this is rarely true. If your product is only half as good as your competitor\\'s, you don\\'t get half as many customers. You get no customers, and you go out of business.'),\n",
              " Document(metadata={}, page_content=\"It's obviously true that the returns for performance are superlinear in business. Some think this is a flaw of capitalism, and that if we changed the rules it would stop being true. But superlinear returns for performance are a feature of the world, not an artifact of rules we've invented. We see the same pattern in fame, power, military victories, knowledge, and even benefit to humanity. In all of these, the rich get richer. [1]\")]"
            ]
          },
          "metadata": {},
          "execution_count": 22
        }
      ],
      "source": [
        "text_splitter = RecursiveCharacterTextSplitter(chunk_size = 450, chunk_overlap=0)\n",
        "text_splitter.create_documents([text])"
      ]
    },
    {
      "cell_type": "markdown",
      "id": "1e99768f-8732-44e4-b8d8-cc5ac1fe4661",
      "metadata": {
        "id": "1e99768f-8732-44e4-b8d8-cc5ac1fe4661"
      },
      "source": [
        "For this text, 450 splits the paragraphs perfectly. You can even switch the chunk size to 469 and get the same splits. This is because this splitter builds in a bit of cushion and wiggle room to allow your chunks to 'snap' to the nearest separator.\n",
        "\n",
        "Let's view this visually\n",
        "\n",
        "<div style=\"text-align: center;\">\n",
        "    <img src=\"https://github.com/FullStackRetrieval-com/RetrievalTutorials/blob/main/tutorials/LevelsOfTextSplitting/static/ChunkVizCharacterRecursive.png?raw=1\" alt=\"image\" style=\"max-width: 800px;\">\n",
        "</div>\n",
        "\n",
        "Wow - you already made it to level 2, awesome! We're on a roll. If you like the content, I send updates to email subscribers on projects I'm working on. If you want to get the scoop, sign up [here](https://mail.gregkamradt.com/signup)."
      ]
    },
    {
      "cell_type": "markdown",
      "id": "c5f32a73-0c8a-498c-a3a1-3e7dba4658c9",
      "metadata": {
        "id": "c5f32a73-0c8a-498c-a3a1-3e7dba4658c9"
      },
      "source": [
        "## Level 3: Document Specific Splitting <a id=\"DocumentSpecific\"></a>\n",
        "\n",
        "Stepping up our levels ladder, let's start to handle document types other than normal prose in a .txt. What if you have pictures? or a PDF? or code snippets?\n",
        "\n",
        "Our first two levels wouldn't work great for this so we'll need to find a different tactic.\n",
        "\n",
        "This level is all about making your chunking strategy fit your different data formats. Let's run through a bunch of examples of this in action\n",
        "\n",
        "The Markdown, Python, and JS splitters will basically be similar to Recursive Character, but with different separators.\n",
        "\n",
        "See all of LangChains document splitters [here](https://python.langchain.com/docs/modules/data_connection/document_transformers/text_splitters/code_splitter) and Llama Index ([HTML](https://docs.llamaindex.ai/en/stable/module_guides/loading/node_parsers/modules.html#htmlnodeparser), [JSON](https://docs.llamaindex.ai/en/stable/module_guides/loading/node_parsers/modules.html#jsonnodeparser), [Markdown](https://docs.llamaindex.ai/en/stable/module_guides/loading/node_parsers/modules.html#markdownnodeparser))\n",
        "\n",
        "### Markdown\n",
        "\n",
        "You can see the separators [here](https://github.com/langchain-ai/langchain/blob/9ef2feb6747f5a69d186bd623b569ad722829a5e/libs/langchain/langchain/text_splitter.py#L1175).\n",
        "\n",
        "Separators:\n",
        "* `\\n#{1,6}` - Split by new lines followed by a header (H1 through H6)\n",
        "* ```` ```\\n ```` - Code blocks\n",
        "* `\\n\\\\*\\\\*\\\\*+\\n` - Horizontal Lines\n",
        "* `\\n---+\\n` - Horizontal Lines\n",
        "* `\\n___+\\n` - Horizontal Lines\n",
        "* `\\n\\n` Double new lines\n",
        "* `\\n` - New line\n",
        "* `\" \"` - Spaces\n",
        "* `\"\"` - Character"
      ]
    },
    {
      "cell_type": "code",
      "execution_count": 23,
      "id": "298fe868-0872-4fa9-9146-fa33e9dd5706",
      "metadata": {
        "id": "298fe868-0872-4fa9-9146-fa33e9dd5706"
      },
      "outputs": [],
      "source": [
        "from langchain.text_splitter import MarkdownTextSplitter"
      ]
    },
    {
      "cell_type": "code",
      "execution_count": 24,
      "id": "e1d390ed-d046-44f9-a492-9760141f7982",
      "metadata": {
        "id": "e1d390ed-d046-44f9-a492-9760141f7982"
      },
      "outputs": [],
      "source": [
        "splitter = MarkdownTextSplitter(chunk_size = 40, chunk_overlap=0)"
      ]
    },
    {
      "cell_type": "code",
      "execution_count": 25,
      "id": "1ba14168-451b-4e9c-b1d0-d1eac6996ad3",
      "metadata": {
        "id": "1ba14168-451b-4e9c-b1d0-d1eac6996ad3"
      },
      "outputs": [],
      "source": [
        "markdown_text = \"\"\"\n",
        "# Fun in California\n",
        "\n",
        "## Driving\n",
        "\n",
        "Try driving on the 1 down to San Diego\n",
        "\n",
        "### Food\n",
        "\n",
        "Make sure to eat a burrito while you're there\n",
        "\n",
        "## Hiking\n",
        "\n",
        "Go to Yosemite\n",
        "\"\"\""
      ]
    },
    {
      "cell_type": "code",
      "execution_count": 26,
      "id": "15dcf8de-551a-4477-8e68-57c4c50ddbc4",
      "metadata": {
        "colab": {
          "base_uri": "https://localhost:8080/"
        },
        "id": "15dcf8de-551a-4477-8e68-57c4c50ddbc4",
        "outputId": "62e93bfa-f8f8-4cd8-ff54-bb5de6210a05"
      },
      "outputs": [
        {
          "output_type": "execute_result",
          "data": {
            "text/plain": [
              "[Document(metadata={}, page_content='# Fun in California\\n\\n## Driving'),\n",
              " Document(metadata={}, page_content='Try driving on the 1 down to San Diego'),\n",
              " Document(metadata={}, page_content='### Food'),\n",
              " Document(metadata={}, page_content=\"Make sure to eat a burrito while you're\"),\n",
              " Document(metadata={}, page_content='there'),\n",
              " Document(metadata={}, page_content='## Hiking\\n\\nGo to Yosemite')]"
            ]
          },
          "metadata": {},
          "execution_count": 26
        }
      ],
      "source": [
        "splitter.create_documents([markdown_text])"
      ]
    },
    {
      "cell_type": "markdown",
      "id": "56591620-ef0c-41c2-b539-35ad676ed20f",
      "metadata": {
        "id": "56591620-ef0c-41c2-b539-35ad676ed20f"
      },
      "source": [
        "Notice how the splits gravitate towards markdown sections. However, it's still not perfect. Check out how there is a chunk with just \"there\" in it. You'll run into this at low-sized chunks.\n",
        "\n",
        "### Python\n",
        "\n",
        "See the python splitters [here](https://github.com/langchain-ai/langchain/blob/9ef2feb6747f5a69d186bd623b569ad722829a5e/libs/langchain/langchain/text_splitter.py#L1069)\n",
        "\n",
        "* `\\nclass` - Classes first\n",
        "* `\\ndef` - Functions next\n",
        "* `\\n\\tdef` - Indented functions\n",
        "* `\\n\\n` - Double New lines\n",
        "* `\\n` - New Lines\n",
        "* `\" \"` - Spaces\n",
        "* `\"\"` - Characters\n",
        "\n",
        "\n",
        "Let's load up our splitter"
      ]
    },
    {
      "cell_type": "code",
      "execution_count": 27,
      "id": "66edcde5-1e96-4b61-8636-8129d31d7850",
      "metadata": {
        "id": "66edcde5-1e96-4b61-8636-8129d31d7850"
      },
      "outputs": [],
      "source": [
        "from langchain.text_splitter import PythonCodeTextSplitter"
      ]
    },
    {
      "cell_type": "code",
      "execution_count": 28,
      "id": "2afa8f93-6b07-484f-86ff-9836f5a5fae1",
      "metadata": {
        "id": "2afa8f93-6b07-484f-86ff-9836f5a5fae1"
      },
      "outputs": [],
      "source": [
        "python_text = \"\"\"\n",
        "class Person:\n",
        "  def __init__(self, name, age):\n",
        "    self.name = name\n",
        "    self.age = age\n",
        "\n",
        "p1 = Person(\"John\", 36)\n",
        "\n",
        "for i in range(10):\n",
        "    print (i)\n",
        "\"\"\""
      ]
    },
    {
      "cell_type": "code",
      "execution_count": 29,
      "id": "6e8fcc85-714d-4b5c-a5ce-a3f30cfb447b",
      "metadata": {
        "id": "6e8fcc85-714d-4b5c-a5ce-a3f30cfb447b"
      },
      "outputs": [],
      "source": [
        "python_splitter = PythonCodeTextSplitter(chunk_size=100, chunk_overlap=0)"
      ]
    },
    {
      "cell_type": "code",
      "execution_count": 30,
      "id": "a7b6dd89-6bb9-496a-a85d-3f1871ff9cd0",
      "metadata": {
        "colab": {
          "base_uri": "https://localhost:8080/"
        },
        "id": "a7b6dd89-6bb9-496a-a85d-3f1871ff9cd0",
        "outputId": "2b59a2b4-9a6a-4872-8836-9de4c7ad7553"
      },
      "outputs": [
        {
          "output_type": "execute_result",
          "data": {
            "text/plain": [
              "[Document(metadata={}, page_content='class Person:\\n  def __init__(self, name, age):\\n    self.name = name\\n    self.age = age'),\n",
              " Document(metadata={}, page_content='p1 = Person(\"John\", 36)\\n\\nfor i in range(10):\\n    print (i)')]"
            ]
          },
          "metadata": {},
          "execution_count": 30
        }
      ],
      "source": [
        "python_splitter.create_documents([python_text])"
      ]
    },
    {
      "cell_type": "markdown",
      "id": "6c004f19-9e67-451e-abdd-b103acce2996",
      "metadata": {
        "id": "6c004f19-9e67-451e-abdd-b103acce2996"
      },
      "source": [
        "Check out how the class stays together in a single document (good), then the rest of the code is in a second document (ok).\n",
        "\n",
        "I needed to play with the chunk size to get a clean result like that. You'll likely need to do the same for yours which is why using evaluations to determine optimal chunk sizes is crucial.\n",
        "\n",
        "### JS\n",
        "\n",
        "Very similar to python. See the separators [here](https://github.com/langchain-ai/langchain/blob/9ef2feb6747f5a69d186bd623b569ad722829a5e/libs/langchain/langchain/text_splitter.py#L983).\n",
        "\n",
        "Separators:\n",
        "* `\\nfunction` - Indicates the beginning of a function declaration\n",
        "* `\\nconst` - Used for declaring constant variables\n",
        "* `\\nlet` - Used for declaring block-scoped variables\n",
        "* `\\nvar` - Used for declaring a variable\n",
        "* `\\nclass` - Indicates the start of a class definition\n",
        "* `\\nif` - Indicates the beginning of an if statement\n",
        "* `\\nfor` - Used for for-loops\n",
        "* `\\nwhile` - Used for while-loops\n",
        "* `\\nswitch` - Used for switch statements\n",
        "* `\\ncase` - Used within switch statements\n",
        "* `\\ndefault` - Also used within switch statements\n",
        "* `\\n\\n` - Indicates a larger separation in text or code\n",
        "* `\\n` - Separates lines of code or text\n",
        "* `\" \"` - Separates words or tokens in the code\n",
        "* `\"\"` - Makes every character a separate element"
      ]
    },
    {
      "cell_type": "code",
      "execution_count": 31,
      "id": "a5225b66-4d79-455b-92a1-841fa23ccc4f",
      "metadata": {
        "id": "a5225b66-4d79-455b-92a1-841fa23ccc4f"
      },
      "outputs": [],
      "source": [
        "from langchain.text_splitter import RecursiveCharacterTextSplitter, Language"
      ]
    },
    {
      "cell_type": "code",
      "execution_count": 32,
      "id": "d75090fa-4d22-4348-8452-eb50eafa784d",
      "metadata": {
        "id": "d75090fa-4d22-4348-8452-eb50eafa784d"
      },
      "outputs": [],
      "source": [
        "javascript_text = \"\"\"\n",
        "// Function is called, the return value will end up in x\n",
        "let x = myFunction(4, 3);\n",
        "\n",
        "function myFunction(a, b) {\n",
        "// Function returns the product of a and b\n",
        "  return a * b;\n",
        "}\n",
        "\"\"\""
      ]
    },
    {
      "cell_type": "code",
      "execution_count": 33,
      "id": "909fde28-43ba-4f07-b9ae-04c21db04055",
      "metadata": {
        "id": "909fde28-43ba-4f07-b9ae-04c21db04055"
      },
      "outputs": [],
      "source": [
        "js_splitter = RecursiveCharacterTextSplitter.from_language(\n",
        "    language=Language.JS, chunk_size=65, chunk_overlap=0\n",
        ")"
      ]
    },
    {
      "cell_type": "code",
      "execution_count": 34,
      "id": "5b70d936-bc31-4ecc-b190-6dd8fffdacb9",
      "metadata": {
        "colab": {
          "base_uri": "https://localhost:8080/"
        },
        "id": "5b70d936-bc31-4ecc-b190-6dd8fffdacb9",
        "outputId": "e3052d3f-06ca-4850-859f-43a801d60d9f"
      },
      "outputs": [
        {
          "output_type": "execute_result",
          "data": {
            "text/plain": [
              "[Document(metadata={}, page_content='// Function is called, the return value will end up in x'),\n",
              " Document(metadata={}, page_content='let x = myFunction(4, 3);'),\n",
              " Document(metadata={}, page_content='function myFunction(a, b) {'),\n",
              " Document(metadata={}, page_content='// Function returns the product of a and b\\n  return a * b;\\n}')]"
            ]
          },
          "metadata": {},
          "execution_count": 34
        }
      ],
      "source": [
        "js_splitter.create_documents([javascript_text])"
      ]
    },
    {
      "cell_type": "markdown",
      "id": "8fab2014-e705-4ade-87ea-d967a9c01593",
      "metadata": {
        "id": "8fab2014-e705-4ade-87ea-d967a9c01593"
      },
      "source": [
        "### PDFs w/ tables\n",
        "\n",
        "Ok now things will get a bit spicier.\n",
        "\n",
        "PDFs are an extremely common data type for language model work. Often they'll contain tables that contain information.\n",
        "\n",
        "This could be financial data, studies, academic papers, etc.\n",
        "\n",
        "Trying to split tables by a character based separator isn't reliable. We need to try out a different method. For a deep dive on this I recommend checking out [Lance Martin's](https://twitter.com/RLanceMartin) [tutorial](https://twitter.com/RLanceMartin/status/1721942636364456336) w/ LangChain.\n",
        "\n",
        "I'll be going through a text based methods. [Mayo](https://twitter.com/mayowaoshin) has also outlined a GPT-4V method which tries to pulls tables via vision rather than text. You can check out [here](https://twitter.com/mayowaoshin/status/1727399231734886633).\n",
        "\n",
        "A very convenient way to do this is with [Unstructured](https://unstructured.io/), a library dedicated to making your data LLM ready."
      ]
    },
    {
      "cell_type": "code",
      "execution_count": 35,
      "id": "ffd078d0-5651-4ab0-b299-b2ed5a4f7cef",
      "metadata": {
        "id": "ffd078d0-5651-4ab0-b299-b2ed5a4f7cef"
      },
      "outputs": [],
      "source": [
        "import os\n",
        "from unstructured.partition.pdf import partition_pdf\n",
        "from unstructured.staging.base import elements_to_json"
      ]
    },
    {
      "cell_type": "markdown",
      "id": "b174a72b-0d43-4440-9ef8-f5f3aed0c651",
      "metadata": {
        "id": "b174a72b-0d43-4440-9ef8-f5f3aed0c651"
      },
      "source": [
        "Let's load up our PDF and then parition it. This is a PDF from a [Salesforce earning report](https://investor.salesforce.com/financials/default.aspx)."
      ]
    },
    {
      "cell_type": "code",
      "source": [
        "# Install Poppler utilities for PDF processing\n",
        "!sudo apt-get update\n",
        "!sudo apt-get install -y poppler-utils"
      ],
      "metadata": {
        "id": "2rmsER3XMwL8",
        "outputId": "7d9bd62a-c477-4057-edd1-ba6de1311ed0",
        "colab": {
          "base_uri": "https://localhost:8080/"
        }
      },
      "id": "2rmsER3XMwL8",
      "execution_count": 39,
      "outputs": [
        {
          "output_type": "stream",
          "name": "stdout",
          "text": [
            "\r0% [Working]\r            \rGet:1 https://developer.download.nvidia.com/compute/cuda/repos/ubuntu2204/x86_64  InRelease [1,581 B]\n",
            "Get:2 https://cloud.r-project.org/bin/linux/ubuntu jammy-cran40/ InRelease [3,632 B]\n",
            "Get:3 http://security.ubuntu.com/ubuntu jammy-security InRelease [129 kB]\n",
            "Get:4 https://r2u.stat.illinois.edu/ubuntu jammy InRelease [6,555 B]\n",
            "Hit:5 http://archive.ubuntu.com/ubuntu jammy InRelease\n",
            "Get:6 https://developer.download.nvidia.com/compute/cuda/repos/ubuntu2204/x86_64  Packages [1,683 kB]\n",
            "Get:7 http://archive.ubuntu.com/ubuntu jammy-updates InRelease [128 kB]\n",
            "Hit:8 https://ppa.launchpadcontent.net/deadsnakes/ppa/ubuntu jammy InRelease\n",
            "Hit:9 https://ppa.launchpadcontent.net/graphics-drivers/ppa/ubuntu jammy InRelease\n",
            "Get:10 http://archive.ubuntu.com/ubuntu jammy-backports InRelease [127 kB]\n",
            "Get:11 https://ppa.launchpadcontent.net/ubuntugis/ppa/ubuntu jammy InRelease [24.6 kB]\n",
            "Get:12 https://r2u.stat.illinois.edu/ubuntu jammy/main amd64 Packages [2,726 kB]\n",
            "Get:13 https://r2u.stat.illinois.edu/ubuntu jammy/main all Packages [8,948 kB]\n",
            "Get:14 http://security.ubuntu.com/ubuntu jammy-security/restricted amd64 Packages [4,363 kB]\n",
            "Get:15 http://security.ubuntu.com/ubuntu jammy-security/main amd64 Packages [2,934 kB]\n",
            "Get:16 http://archive.ubuntu.com/ubuntu jammy-updates/restricted amd64 Packages [4,517 kB]\n",
            "Get:17 https://ppa.launchpadcontent.net/ubuntugis/ppa/ubuntu jammy/main amd64 Packages [77.3 kB]\n",
            "Get:18 http://archive.ubuntu.com/ubuntu jammy-updates/main amd64 Packages [3,245 kB]\n",
            "Get:19 http://archive.ubuntu.com/ubuntu jammy-updates/universe amd64 Packages [1,546 kB]\n",
            "Get:20 http://archive.ubuntu.com/ubuntu jammy-backports/universe amd64 Packages [35.2 kB]\n",
            "Get:21 http://archive.ubuntu.com/ubuntu jammy-backports/main amd64 Packages [83.2 kB]\n",
            "Fetched 30.6 MB in 5s (6,007 kB/s)\n",
            "Reading package lists... Done\n",
            "W: Skipping acquire of configured file 'main/source/Sources' as repository 'https://r2u.stat.illinois.edu/ubuntu jammy InRelease' does not seem to provide it (sources.list entry misspelt?)\n",
            "Reading package lists... Done\n",
            "Building dependency tree... Done\n",
            "Reading state information... Done\n",
            "The following NEW packages will be installed:\n",
            "  poppler-utils\n",
            "0 upgraded, 1 newly installed, 0 to remove and 89 not upgraded.\n",
            "Need to get 186 kB of archives.\n",
            "After this operation, 697 kB of additional disk space will be used.\n",
            "Get:1 http://archive.ubuntu.com/ubuntu jammy-updates/main amd64 poppler-utils amd64 22.02.0-2ubuntu0.8 [186 kB]\n",
            "Fetched 186 kB in 1s (269 kB/s)\n",
            "debconf: unable to initialize frontend: Dialog\n",
            "debconf: (No usable dialog-like program is installed, so the dialog based frontend cannot be used. at /usr/share/perl5/Debconf/FrontEnd/Dialog.pm line 78, <> line 1.)\n",
            "debconf: falling back to frontend: Readline\n",
            "debconf: unable to initialize frontend: Readline\n",
            "debconf: (This frontend requires a controlling tty.)\n",
            "debconf: falling back to frontend: Teletype\n",
            "dpkg-preconfigure: unable to re-open stdin: \n",
            "Selecting previously unselected package poppler-utils.\n",
            "(Reading database ... 126102 files and directories currently installed.)\n",
            "Preparing to unpack .../poppler-utils_22.02.0-2ubuntu0.8_amd64.deb ...\n",
            "Unpacking poppler-utils (22.02.0-2ubuntu0.8) ...\n",
            "Setting up poppler-utils (22.02.0-2ubuntu0.8) ...\n",
            "Processing triggers for man-db (2.10.2-1) ...\n"
          ]
        }
      ]
    },
    {
      "cell_type": "code",
      "execution_count": 42,
      "id": "2ae9042d-be6f-411a-8835-bda30ffa0805",
      "metadata": {
        "colab": {
          "base_uri": "https://localhost:8080/",
          "height": 168,
          "referenced_widgets": [
            "8dea38919eff48b48c7c4d89ce4f1525",
            "4d219b7f6a6c4988a5224189c3add33c",
            "7354ba6f557e4bcf8fbab616d5a481dd",
            "e9f8873ca405430cad2f8428683a7291",
            "13ad27247cf849e2a7cb16df3847c2fe",
            "9b7af54c2e2743a59ba66e4d98dda1b9",
            "4b10b534ed95475689199bf069aee5b4",
            "7a40327a97a0488294b6bf90166e5c37",
            "368568f58dd6438a8038629c6a72cbf6",
            "7daf1e5be27046f1860cf7306927d8ff",
            "f11ee27c379d4fd58286536aca0794c5",
            "010bb5a9a1374c1f91ac606eb3da602d",
            "ac90a2d99f864d46ab1b28259e2afced",
            "83d4b767e976452d92e5de2edec0d31b",
            "22db2b8b5573430eb20b914990cfdd18",
            "6e8964a97d344143af05e795d7db3749",
            "f0954df0005e4da696d5a94a68af1af1",
            "17545ca226b84195b74f13ef0b727dbf",
            "1af7a6f1152c4617885723d494b22662",
            "938ead07956947a0a48dd999d6d59bc3",
            "4153e1c5afe646fc8f1a189f55caa0c1",
            "8f488ac4b59949069f49ebeacb61b6c7",
            "078cb8e36b784190bd2d0ea0bdc278e7",
            "9235a234dc9e4355b0fd079551e14724",
            "b5fb908caf5243a6a50a3248310057be",
            "95dd4dcaa480489db7045b5a6686712a",
            "73ca295b07f94178b45e4e4427417a60",
            "f2eef9f759a74c0b9ea11871a693d098",
            "bcc88e8a55ec4e188e6771b390fc1d93",
            "519ef00c2bd84fd1b5abe18e880b0a98",
            "7267caba7d084bd3918e76b75ef773d7",
            "d038a58cfa7a4d28ab43b3241bc0b70f",
            "6e3371d26a9a4278a96108237a2161ec"
          ]
        },
        "id": "2ae9042d-be6f-411a-8835-bda30ffa0805",
        "outputId": "9c17b857-9df2-48b0-e8b5-7bd07a5df662"
      },
      "outputs": [
        {
          "output_type": "display_data",
          "data": {
            "text/plain": [
              "config.json:   0%|          | 0.00/1.47k [00:00<?, ?B/s]"
            ],
            "application/vnd.jupyter.widget-view+json": {
              "version_major": 2,
              "version_minor": 0,
              "model_id": "8dea38919eff48b48c7c4d89ce4f1525"
            }
          },
          "metadata": {}
        },
        {
          "output_type": "stream",
          "name": "stderr",
          "text": [
            "Xet Storage is enabled for this repo, but the 'hf_xet' package is not installed. Falling back to regular HTTP download. For better performance, install the package with: `pip install huggingface_hub[hf_xet]` or `pip install hf_xet`\n",
            "WARNING:huggingface_hub.file_download:Xet Storage is enabled for this repo, but the 'hf_xet' package is not installed. Falling back to regular HTTP download. For better performance, install the package with: `pip install huggingface_hub[hf_xet]` or `pip install hf_xet`\n"
          ]
        },
        {
          "output_type": "display_data",
          "data": {
            "text/plain": [
              "model.safetensors:   0%|          | 0.00/115M [00:00<?, ?B/s]"
            ],
            "application/vnd.jupyter.widget-view+json": {
              "version_major": 2,
              "version_minor": 0,
              "model_id": "010bb5a9a1374c1f91ac606eb3da602d"
            }
          },
          "metadata": {}
        },
        {
          "output_type": "display_data",
          "data": {
            "text/plain": [
              "model.safetensors:   0%|          | 0.00/46.8M [00:00<?, ?B/s]"
            ],
            "application/vnd.jupyter.widget-view+json": {
              "version_major": 2,
              "version_minor": 0,
              "model_id": "078cb8e36b784190bd2d0ea0bdc278e7"
            }
          },
          "metadata": {}
        }
      ],
      "source": [
        "filename = \"/content/RetrievalTutorials/tutorials/LevelsOfTextSplitting/static/SalesforceFinancial.pdf\"\n",
        "\n",
        "# Extracts the elements from the PDF\n",
        "elements = partition_pdf(\n",
        "    filename=filename,\n",
        "\n",
        "    # Unstructured Helpers\n",
        "    strategy=\"hi_res\",\n",
        "    infer_table_structure=True,\n",
        "    model_name=\"yolox\"\n",
        ")"
      ]
    },
    {
      "cell_type": "markdown",
      "id": "f65ad413-80f9-43da-8fb5-3a32373c3686",
      "metadata": {
        "id": "f65ad413-80f9-43da-8fb5-3a32373c3686"
      },
      "source": [
        "Let's look at our elements"
      ]
    },
    {
      "cell_type": "code",
      "execution_count": 43,
      "id": "0f5ac388-5b4e-4dcd-bf74-84220c8cdff4",
      "metadata": {
        "colab": {
          "base_uri": "https://localhost:8080/"
        },
        "id": "0f5ac388-5b4e-4dcd-bf74-84220c8cdff4",
        "outputId": "0031ba2e-405f-4390-d32d-f68fedde3b81"
      },
      "outputs": [
        {
          "output_type": "execute_result",
          "data": {
            "text/plain": [
              "[<unstructured.documents.elements.NarrativeText at 0x78adbadd2f50>,\n",
              " <unstructured.documents.elements.NarrativeText at 0x78adbadd2a50>,\n",
              " <unstructured.documents.elements.NarrativeText at 0x78adbadd2250>,\n",
              " <unstructured.documents.elements.NarrativeText at 0x78adbadd1d90>,\n",
              " <unstructured.documents.elements.NarrativeText at 0x78adbadd17d0>,\n",
              " <unstructured.documents.elements.NarrativeText at 0x78adbadd0d10>,\n",
              " <unstructured.documents.elements.NarrativeText at 0x78adbadd0a90>,\n",
              " <unstructured.documents.elements.NarrativeText at 0x78adbadd0e50>,\n",
              " <unstructured.documents.elements.Title at 0x78adbab385d0>,\n",
              " <unstructured.documents.elements.Title at 0x78adbab38790>,\n",
              " <unstructured.documents.elements.Table at 0x78adbadabc10>,\n",
              " <unstructured.documents.elements.Text at 0x78adbab38610>,\n",
              " <unstructured.documents.elements.Title at 0x78adbadd1c90>,\n",
              " <unstructured.documents.elements.Text at 0x78adbada9b50>,\n",
              " <unstructured.documents.elements.Title at 0x78adbada9490>,\n",
              " <unstructured.documents.elements.NarrativeText at 0x78adbb061390>,\n",
              " <unstructured.documents.elements.NarrativeText at 0x78adbb18a3d0>]"
            ]
          },
          "metadata": {},
          "execution_count": 43
        }
      ],
      "source": [
        "elements"
      ]
    },
    {
      "cell_type": "markdown",
      "id": "1a081974-002c-4060-9d0c-2d4a5f270044",
      "metadata": {
        "id": "1a081974-002c-4060-9d0c-2d4a5f270044"
      },
      "source": [
        "These are just unstructured objects, we could look at them all but I want to look at the table it parsed."
      ]
    },
    {
      "cell_type": "code",
      "execution_count": 44,
      "id": "9c5460db-689d-4e7a-a5bc-a10477c4a61e",
      "metadata": {
        "id": "9c5460db-689d-4e7a-a5bc-a10477c4a61e"
      },
      "outputs": [],
      "source": [
        "elements[-4].metadata.text_as_html"
      ]
    },
    {
      "cell_type": "markdown",
      "id": "8c269535-4fe9-44f2-8e0d-8578d706db7c",
      "metadata": {
        "id": "8c269535-4fe9-44f2-8e0d-8578d706db7c"
      },
      "source": [
        "That table may look messy, but because it's in HTML format, the LLM is able to parse it much more easily than if it was tab or comma separated. You can copy and paste that html into a [html viewer](https://codebeautify.org/htmlviewer) online to see it reconstructed.\n",
        "\n",
        "<div style=\"text-align: center;\">\n",
        "    <img src=\"https://github.com/FullStackRetrieval-com/RetrievalTutorials/blob/main/tutorials/LevelsOfTextSplitting/static/SalesforceFinancialTable.png?raw=1\" alt=\"image\" style=\"max-width: 800px;\">\n",
        "</div>"
      ]
    },
    {
      "cell_type": "markdown",
      "id": "1ed1a5fe-245a-4d3c-86aa-03fca86ba5cf",
      "metadata": {
        "id": "1ed1a5fe-245a-4d3c-86aa-03fca86ba5cf"
      },
      "source": [
        "Awesome, Unstructured was able to pull out the tables for us. It's not perfect, but the team is upgrading their toolset all the time.\n",
        "\n",
        "**Important Point:** Later on when we are doing semantic search over our chunks, trying to match on embeddings from the table directly will be difficult. A common practice that developers do is to *summarize* the table after you've extracted it. Then get an embedding of that summary. If the summary embedding matches what you're looking for, then pass the raw table to your LLM.\n",
        "\n",
        "### Multi-Modal (text + images)\n",
        "\n",
        "Next we'll dive into the world of multi-modal text splitting. This is a very active field and best practices are evolving. I'll show you a method that was made popular by [Lance Martin](https://twitter.com/RLanceMartin/status/1713638963255366091) of LangChain. You can check out his source code [here](https://github.com/langchain-ai/langchain/blob/master/cookbook/Semi_structured_and_multi_modal_RAG.ipynb). If you find a method that works better, share it out with the community!"
      ]
    },
    {
      "cell_type": "code",
      "execution_count": 45,
      "id": "dee2ed53-96c8-4cf3-89d9-681ff5d4552f",
      "metadata": {
        "id": "dee2ed53-96c8-4cf3-89d9-681ff5d4552f"
      },
      "outputs": [],
      "source": [
        "#!pip3 install \"unstructured[all-docs]\"\n",
        "from typing import Any\n",
        "\n",
        "from pydantic import BaseModel\n",
        "from unstructured.partition.pdf import partition_pdf"
      ]
    },
    {
      "cell_type": "markdown",
      "id": "ea2f20e1-e0fb-4d17-8ec7-faa4276fba23",
      "metadata": {
        "id": "ea2f20e1-e0fb-4d17-8ec7-faa4276fba23"
      },
      "source": [
        "First, let's go get a PDF to work with. This will be from a visual instruction tuning [paper](https://llava-vl.github.io/).\n",
        "\n",
        "<div style=\"text-align: center;\">\n",
        "    <img src=\"https://github.com/FullStackRetrieval-com/RetrievalTutorials/blob/main/tutorials/LevelsOfTextSplitting/static/VisualInstructionSnapshot.png?raw=1\" alt=\"image\" style=\"max-width: 800px;\">\n",
        "</div>"
      ]
    },
    {
      "cell_type": "code",
      "execution_count": 46,
      "id": "3f2d1771-7170-48c2-a614-480d7d2167df",
      "metadata": {
        "id": "3f2d1771-7170-48c2-a614-480d7d2167df"
      },
      "outputs": [],
      "source": [
        "filepath = \"/content/RetrievalTutorials/tutorials/LevelsOfTextSplitting/static/VisualInstruction.pdf\""
      ]
    },
    {
      "cell_type": "code",
      "execution_count": 48,
      "id": "d9240942-2702-45ae-8333-8ac9c3e10343",
      "metadata": {
        "id": "d9240942-2702-45ae-8333-8ac9c3e10343"
      },
      "outputs": [],
      "source": [
        "# Get elements\n",
        "raw_pdf_elements = partition_pdf(\n",
        "    filename=filepath,\n",
        "\n",
        "    # Using pdf format to find embedded image blocks\n",
        "    extract_images_in_pdf=True,\n",
        "\n",
        "    # Use layout model (YOLOX) to get bounding boxes (for tables) and find titles\n",
        "    # Titles are any sub-section of the document\n",
        "    infer_table_structure=True,\n",
        "\n",
        "    # Post processing to aggregate text once we have the title\n",
        "    chunking_strategy=\"by_title\",\n",
        "    # Chunking params to aggregate text blocks\n",
        "    # Attempt to create a new chunk 3800 chars\n",
        "    # Attempt to keep chunks > 2000 chars\n",
        "    # Hard max on chunks\n",
        "    max_characters=4000,\n",
        "    new_after_n_chars=3800,\n",
        "    combine_text_under_n_chars=2000,\n",
        "    image_output_dir_path=\"/content/RetrievalTutorials/tutorials/LevelsOfTextSplitting/static/pdfImages/\",\n",
        ")"
      ]
    },
    {
      "cell_type": "markdown",
      "id": "2c45aab5-5f51-4d67-9ea2-17c5489a5c2a",
      "metadata": {
        "id": "2c45aab5-5f51-4d67-9ea2-17c5489a5c2a"
      },
      "source": [
        "If you head over to `static/pdfImages/` and check out the images that were parsed.\n",
        "\n",
        "But the images don't do anything sitting in a folder, we need to do something with them! Though a bit outside the scope of chunking, let's talk about how to work with these.\n",
        "\n",
        "The common tactics will either use a multi-modal model to generate summaries of the images or use the image itself for your task. Others get embeddings of images (like [CLIP](https://openai.com/research/clip)).\n",
        "\n",
        "Let's generate summaries so you'll be inspired to take this to the next step. We'll use GPT-4V. Check out other models [here](https://platform.openai.com/docs/model)."
      ]
    },
    {
      "cell_type": "code",
      "source": [
        "!pip install langchain-community"
      ],
      "metadata": {
        "id": "ypBvFsd5URsb",
        "outputId": "1fe6c92d-dc07-4145-ed1b-01c24c75e337",
        "colab": {
          "base_uri": "https://localhost:8080/"
        }
      },
      "id": "ypBvFsd5URsb",
      "execution_count": 50,
      "outputs": [
        {
          "output_type": "stream",
          "name": "stdout",
          "text": [
            "Collecting langchain-community\n",
            "  Downloading langchain_community-0.3.24-py3-none-any.whl.metadata (2.5 kB)\n",
            "Requirement already satisfied: langchain-core<1.0.0,>=0.3.59 in /usr/local/lib/python3.11/dist-packages (from langchain-community) (0.3.59)\n",
            "Requirement already satisfied: langchain<1.0.0,>=0.3.25 in /usr/local/lib/python3.11/dist-packages (from langchain-community) (0.3.25)\n",
            "Requirement already satisfied: SQLAlchemy<3,>=1.4 in /usr/local/lib/python3.11/dist-packages (from langchain-community) (2.0.40)\n",
            "Requirement already satisfied: requests<3,>=2 in /usr/local/lib/python3.11/dist-packages (from langchain-community) (2.32.3)\n",
            "Requirement already satisfied: PyYAML>=5.3 in /usr/local/lib/python3.11/dist-packages (from langchain-community) (6.0.2)\n",
            "Requirement already satisfied: aiohttp<4.0.0,>=3.8.3 in /usr/local/lib/python3.11/dist-packages (from langchain-community) (3.11.15)\n",
            "Requirement already satisfied: tenacity!=8.4.0,<10,>=8.1.0 in /usr/local/lib/python3.11/dist-packages (from langchain-community) (9.1.2)\n",
            "Requirement already satisfied: dataclasses-json<0.7,>=0.5.7 in /usr/local/lib/python3.11/dist-packages (from langchain-community) (0.6.7)\n",
            "Collecting pydantic-settings<3.0.0,>=2.4.0 (from langchain-community)\n",
            "  Downloading pydantic_settings-2.9.1-py3-none-any.whl.metadata (3.8 kB)\n",
            "Requirement already satisfied: langsmith<0.4,>=0.1.125 in /usr/local/lib/python3.11/dist-packages (from langchain-community) (0.3.42)\n",
            "Collecting httpx-sse<1.0.0,>=0.4.0 (from langchain-community)\n",
            "  Downloading httpx_sse-0.4.0-py3-none-any.whl.metadata (9.0 kB)\n",
            "Requirement already satisfied: numpy>=1.26.2 in /usr/local/lib/python3.11/dist-packages (from langchain-community) (2.0.2)\n",
            "Requirement already satisfied: aiohappyeyeballs>=2.3.0 in /usr/local/lib/python3.11/dist-packages (from aiohttp<4.0.0,>=3.8.3->langchain-community) (2.6.1)\n",
            "Requirement already satisfied: aiosignal>=1.1.2 in /usr/local/lib/python3.11/dist-packages (from aiohttp<4.0.0,>=3.8.3->langchain-community) (1.3.2)\n",
            "Requirement already satisfied: attrs>=17.3.0 in /usr/local/lib/python3.11/dist-packages (from aiohttp<4.0.0,>=3.8.3->langchain-community) (25.3.0)\n",
            "Requirement already satisfied: frozenlist>=1.1.1 in /usr/local/lib/python3.11/dist-packages (from aiohttp<4.0.0,>=3.8.3->langchain-community) (1.6.0)\n",
            "Requirement already satisfied: multidict<7.0,>=4.5 in /usr/local/lib/python3.11/dist-packages (from aiohttp<4.0.0,>=3.8.3->langchain-community) (6.4.3)\n",
            "Requirement already satisfied: propcache>=0.2.0 in /usr/local/lib/python3.11/dist-packages (from aiohttp<4.0.0,>=3.8.3->langchain-community) (0.3.1)\n",
            "Requirement already satisfied: yarl<2.0,>=1.17.0 in /usr/local/lib/python3.11/dist-packages (from aiohttp<4.0.0,>=3.8.3->langchain-community) (1.20.0)\n",
            "Requirement already satisfied: marshmallow<4.0.0,>=3.18.0 in /usr/local/lib/python3.11/dist-packages (from dataclasses-json<0.7,>=0.5.7->langchain-community) (3.26.1)\n",
            "Requirement already satisfied: typing-inspect<1,>=0.4.0 in /usr/local/lib/python3.11/dist-packages (from dataclasses-json<0.7,>=0.5.7->langchain-community) (0.9.0)\n",
            "Requirement already satisfied: langchain-text-splitters<1.0.0,>=0.3.8 in /usr/local/lib/python3.11/dist-packages (from langchain<1.0.0,>=0.3.25->langchain-community) (0.3.8)\n",
            "Requirement already satisfied: pydantic<3.0.0,>=2.7.4 in /usr/local/lib/python3.11/dist-packages (from langchain<1.0.0,>=0.3.25->langchain-community) (2.11.4)\n",
            "Requirement already satisfied: jsonpatch<2.0,>=1.33 in /usr/local/lib/python3.11/dist-packages (from langchain-core<1.0.0,>=0.3.59->langchain-community) (1.33)\n",
            "Requirement already satisfied: packaging<25,>=23.2 in /usr/local/lib/python3.11/dist-packages (from langchain-core<1.0.0,>=0.3.59->langchain-community) (24.2)\n",
            "Requirement already satisfied: typing-extensions>=4.7 in /usr/local/lib/python3.11/dist-packages (from langchain-core<1.0.0,>=0.3.59->langchain-community) (4.13.2)\n",
            "Requirement already satisfied: httpx<1,>=0.23.0 in /usr/local/lib/python3.11/dist-packages (from langsmith<0.4,>=0.1.125->langchain-community) (0.28.1)\n",
            "Requirement already satisfied: orjson<4.0.0,>=3.9.14 in /usr/local/lib/python3.11/dist-packages (from langsmith<0.4,>=0.1.125->langchain-community) (3.10.18)\n",
            "Requirement already satisfied: requests-toolbelt<2.0.0,>=1.0.0 in /usr/local/lib/python3.11/dist-packages (from langsmith<0.4,>=0.1.125->langchain-community) (1.0.0)\n",
            "Requirement already satisfied: zstandard<0.24.0,>=0.23.0 in /usr/local/lib/python3.11/dist-packages (from langsmith<0.4,>=0.1.125->langchain-community) (0.23.0)\n",
            "Requirement already satisfied: python-dotenv>=0.21.0 in /usr/local/lib/python3.11/dist-packages (from pydantic-settings<3.0.0,>=2.4.0->langchain-community) (1.1.0)\n",
            "Requirement already satisfied: typing-inspection>=0.4.0 in /usr/local/lib/python3.11/dist-packages (from pydantic-settings<3.0.0,>=2.4.0->langchain-community) (0.4.0)\n",
            "Requirement already satisfied: charset-normalizer<4,>=2 in /usr/local/lib/python3.11/dist-packages (from requests<3,>=2->langchain-community) (3.4.2)\n",
            "Requirement already satisfied: idna<4,>=2.5 in /usr/local/lib/python3.11/dist-packages (from requests<3,>=2->langchain-community) (3.10)\n",
            "Requirement already satisfied: urllib3<3,>=1.21.1 in /usr/local/lib/python3.11/dist-packages (from requests<3,>=2->langchain-community) (2.4.0)\n",
            "Requirement already satisfied: certifi>=2017.4.17 in /usr/local/lib/python3.11/dist-packages (from requests<3,>=2->langchain-community) (2025.4.26)\n",
            "Requirement already satisfied: greenlet>=1 in /usr/local/lib/python3.11/dist-packages (from SQLAlchemy<3,>=1.4->langchain-community) (3.2.2)\n",
            "Requirement already satisfied: anyio in /usr/local/lib/python3.11/dist-packages (from httpx<1,>=0.23.0->langsmith<0.4,>=0.1.125->langchain-community) (4.9.0)\n",
            "Requirement already satisfied: httpcore==1.* in /usr/local/lib/python3.11/dist-packages (from httpx<1,>=0.23.0->langsmith<0.4,>=0.1.125->langchain-community) (1.0.9)\n",
            "Requirement already satisfied: h11>=0.16 in /usr/local/lib/python3.11/dist-packages (from httpcore==1.*->httpx<1,>=0.23.0->langsmith<0.4,>=0.1.125->langchain-community) (0.16.0)\n",
            "Requirement already satisfied: jsonpointer>=1.9 in /usr/local/lib/python3.11/dist-packages (from jsonpatch<2.0,>=1.33->langchain-core<1.0.0,>=0.3.59->langchain-community) (3.0.0)\n",
            "Requirement already satisfied: annotated-types>=0.6.0 in /usr/local/lib/python3.11/dist-packages (from pydantic<3.0.0,>=2.7.4->langchain<1.0.0,>=0.3.25->langchain-community) (0.7.0)\n",
            "Requirement already satisfied: pydantic-core==2.33.2 in /usr/local/lib/python3.11/dist-packages (from pydantic<3.0.0,>=2.7.4->langchain<1.0.0,>=0.3.25->langchain-community) (2.33.2)\n",
            "Requirement already satisfied: mypy-extensions>=0.3.0 in /usr/local/lib/python3.11/dist-packages (from typing-inspect<1,>=0.4.0->dataclasses-json<0.7,>=0.5.7->langchain-community) (1.1.0)\n",
            "Requirement already satisfied: sniffio>=1.1 in /usr/local/lib/python3.11/dist-packages (from anyio->httpx<1,>=0.23.0->langsmith<0.4,>=0.1.125->langchain-community) (1.3.1)\n",
            "Downloading langchain_community-0.3.24-py3-none-any.whl (2.5 MB)\n",
            "\u001b[2K   \u001b[90m━━━━━━━━━━━━━━━━━━━━━━━━━━━━━━━━━━━━━━━━\u001b[0m \u001b[32m2.5/2.5 MB\u001b[0m \u001b[31m26.3 MB/s\u001b[0m eta \u001b[36m0:00:00\u001b[0m\n",
            "\u001b[?25hDownloading httpx_sse-0.4.0-py3-none-any.whl (7.8 kB)\n",
            "Downloading pydantic_settings-2.9.1-py3-none-any.whl (44 kB)\n",
            "\u001b[2K   \u001b[90m━━━━━━━━━━━━━━━━━━━━━━━━━━━━━━━━━━━━━━━━\u001b[0m \u001b[32m44.4/44.4 kB\u001b[0m \u001b[31m2.1 MB/s\u001b[0m eta \u001b[36m0:00:00\u001b[0m\n",
            "\u001b[?25hInstalling collected packages: httpx-sse, pydantic-settings, langchain-community\n",
            "Successfully installed httpx-sse-0.4.0 langchain-community-0.3.24 pydantic-settings-2.9.1\n"
          ]
        }
      ]
    },
    {
      "cell_type": "code",
      "source": [
        "import os\n",
        "from google.colab import userdata\n",
        "\n",
        "# Get the Colab variable value using userdata.get()\n",
        "colab_variable_value = userdata.get('OPENAI_API_KEY') # Replace 'YOUR_COLAB_VARIABLE_NAME'\n",
        "\n",
        "# Set the value as an environment variable\n",
        "os.environ['OPENAI_API_KEY'] = colab_variable_value # Replace 'YOUR_ENVIRONMENT_VARIABLE_NAME'"
      ],
      "metadata": {
        "id": "yKrbx5gDV2dd"
      },
      "id": "yKrbx5gDV2dd",
      "execution_count": 52,
      "outputs": []
    },
    {
      "cell_type": "code",
      "execution_count": 53,
      "id": "fc40dacd-09a0-4ce0-ae8c-87a3910a1408",
      "metadata": {
        "colab": {
          "base_uri": "https://localhost:8080/"
        },
        "id": "fc40dacd-09a0-4ce0-ae8c-87a3910a1408",
        "outputId": "716f5adb-0f5e-4d51-f44c-01b96e39e588"
      },
      "outputs": [
        {
          "output_type": "execute_result",
          "data": {
            "text/plain": [
              "True"
            ]
          },
          "metadata": {},
          "execution_count": 53
        }
      ],
      "source": [
        "from langchain.chat_models import ChatOpenAI\n",
        "from langchain.schema.messages import HumanMessage\n",
        "import os\n",
        "from dotenv import load_dotenv\n",
        "from PIL import Image\n",
        "import base64\n",
        "import io\n",
        "\n",
        "load_dotenv()"
      ]
    },
    {
      "cell_type": "markdown",
      "id": "9fe7b48f-7da2-430f-a0dd-c8e1766854a3",
      "metadata": {
        "id": "9fe7b48f-7da2-430f-a0dd-c8e1766854a3"
      },
      "source": [
        "We'll be using gpt-4-vision today"
      ]
    },
    {
      "cell_type": "code",
      "execution_count": 54,
      "id": "59b1b6d2-4d84-41dc-8698-8be52e6f5bd8",
      "metadata": {
        "colab": {
          "base_uri": "https://localhost:8080/"
        },
        "id": "59b1b6d2-4d84-41dc-8698-8be52e6f5bd8",
        "outputId": "2dca1f56-a2bf-4ac8-a650-64f6acb48f28"
      },
      "outputs": [
        {
          "output_type": "stream",
          "name": "stderr",
          "text": [
            "<ipython-input-54-6f38cd46e306>:1: LangChainDeprecationWarning: The class `ChatOpenAI` was deprecated in LangChain 0.0.10 and will be removed in 1.0. An updated version of the class exists in the :class:`~langchain-openai package and should be used instead. To use it run `pip install -U :class:`~langchain-openai` and import as `from :class:`~langchain_openai import ChatOpenAI``.\n",
            "  llm = ChatOpenAI(model=\"gpt-4-vision-preview\")\n"
          ]
        }
      ],
      "source": [
        "llm = ChatOpenAI(model=\"gpt-4-vision-preview\")"
      ]
    },
    {
      "cell_type": "markdown",
      "id": "6ea28491-e225-4667-8666-3b0541dbf2b7",
      "metadata": {
        "id": "6ea28491-e225-4667-8666-3b0541dbf2b7"
      },
      "source": [
        "I'm creating quick helper function to convert the image from file to base64 so we can pass it to GPT-4V"
      ]
    },
    {
      "cell_type": "code",
      "execution_count": 56,
      "id": "ed1f096a-abd1-4380-af24-6c65074d2420",
      "metadata": {
        "id": "ed1f096a-abd1-4380-af24-6c65074d2420"
      },
      "outputs": [],
      "source": [
        "# Function to convert image to base64\n",
        "def image_to_base64(image_path):\n",
        "    with Image.open(image_path) as image:\n",
        "        buffered = io.BytesIO()\n",
        "        image.save(buffered, format=image.format)\n",
        "        img_str = base64.b64encode(buffered.getvalue())\n",
        "        return img_str.decode('utf-8')\n",
        "\n",
        "image_str = image_to_base64(\"/content/RetrievalTutorials/tutorials/LevelsOfTextSplitting/static/pdfImages/figure-15-6.jpg\")"
      ]
    },
    {
      "cell_type": "markdown",
      "id": "80becf02-83bd-4560-af3a-dece72259296",
      "metadata": {
        "id": "80becf02-83bd-4560-af3a-dece72259296"
      },
      "source": [
        "Then we can go ahead and pass our image to the LLM"
      ]
    },
    {
      "cell_type": "code",
      "execution_count": 58,
      "id": "638d7f95-d181-4b4a-aeb0-b40367f0f215",
      "metadata": {
        "id": "638d7f95-d181-4b4a-aeb0-b40367f0f215"
      },
      "outputs": [],
      "source": [
        "chat = ChatOpenAI(model=\"gpt-4o\",\n",
        "                  max_tokens=1024)\n",
        "\n",
        "msg = chat.invoke(\n",
        "    [\n",
        "        HumanMessage(\n",
        "            content=[\n",
        "                {\"type\": \"text\", \"text\" : \"Please give a summary of the image provided. Be descriptive\"},\n",
        "                {\n",
        "                    \"type\": \"image_url\",\n",
        "                    \"image_url\": {\n",
        "                        \"url\": f\"data:image/jpeg;base64,{image_str}\"\n",
        "                    },\n",
        "                },\n",
        "            ]\n",
        "        )\n",
        "    ]\n",
        ")"
      ]
    },
    {
      "cell_type": "markdown",
      "id": "67130242-5d72-4304-a705-c9177558a7d4",
      "metadata": {
        "id": "67130242-5d72-4304-a705-c9177558a7d4"
      },
      "source": [
        "Then the summary returned is what we will put into our vectordata base. Then when it comes time to do our retrieval process, we'll use these embeddings for semantic search."
      ]
    },
    {
      "cell_type": "code",
      "execution_count": 59,
      "id": "a51c2833-ee05-43b2-9cd2-6710d6e73ee8",
      "metadata": {
        "colab": {
          "base_uri": "https://localhost:8080/",
          "height": 53
        },
        "id": "a51c2833-ee05-43b2-9cd2-6710d6e73ee8",
        "outputId": "ab28c846-454e-455a-f7da-c2d0c101e358"
      },
      "outputs": [
        {
          "output_type": "execute_result",
          "data": {
            "text/plain": [
              "'The image shows a baking tray with several pieces of fried chicken arranged to resemble a map of the world. The pieces are shaped to look like various continents. Above the image, there\\'s text that humorously states, \"Sometimes I just look at pictures of the earth from space and I marvel at how beautiful it all is.\" This adds a comedic twist by comparing the chicken pieces to a view of Earth from space.'"
            ],
            "application/vnd.google.colaboratory.intrinsic+json": {
              "type": "string"
            }
          },
          "metadata": {},
          "execution_count": 59
        }
      ],
      "source": [
        "msg.content"
      ]
    },
    {
      "cell_type": "markdown",
      "id": "b129deb0-7b11-48f6-bc3e-210658e9f8e4",
      "metadata": {
        "id": "b129deb0-7b11-48f6-bc3e-210658e9f8e4"
      },
      "source": [
        "<div style=\"text-align: center;\">\n",
        "    <img src=\"https://github.com/FullStackRetrieval-com/RetrievalTutorials/blob/main/tutorials/LevelsOfTextSplitting/static/pdfImages/figure-15-6.jpg?raw=1\" alt=\"image\" style=\"max-width: 800px;\"><br>\n",
        "    <span><i>static/pdfImages/figure-15-6.jpg</i></span>\n",
        "</div>\n",
        "\n",
        "Hm, that seems about right!\n",
        "\n",
        "There are a ton of ways to go about this (check out the bonus section for more) so don't take my word for it - try 'em."
      ]
    },
    {
      "cell_type": "markdown",
      "id": "0ba7cf0e-ec8e-4115-be32-e49aaf5adccc",
      "metadata": {
        "id": "0ba7cf0e-ec8e-4115-be32-e49aaf5adccc"
      },
      "source": [
        "## Level 4: Semantic Chunking <a id=\"SemanticChunking\"></a>\n",
        "Isn't it weird that we have a global constant for chunk size? Isn't it even weirder that our normal chunking mechanisms don't take into account the actual content?\n",
        "\n",
        "I'm not the only one who thinks so\n",
        "\n",
        "<blockquote class=\"twitter-tweet\"><p lang=\"en\" dir=\"ltr\">Weird idea: chunk size when doing retrieval-augmented generation is an annoying hyperparam &amp; feels naive to tune it to a global constant value.<br><br>Could we train an e2e chunking model? i.e. system that takes in a long passage, and outputs a sequence of [span, embedding] pairs?</p>&mdash; Linus (@thesephist) <a href=\"https://twitter.com/thesephist/status/1724159343237456248?ref_src=twsrc%5Etfw\">November 13, 2023</a></blockquote> <script async src=\"https://platform.twitter.com/widgets.js\" charset=\"utf-8\"></script>\n",
        "\n",
        "There has to be a better way - let's explore and find out.\n",
        "\n",
        "Embeddings represent the semantic meaning of a string. They don't do much on their own, but when compared to embeddings of other texts you can start to infer the relationship between chunks. I want to lean into this property and explore using embeddings to find clusters of semantically similar texts.\n",
        "\n",
        "The hypothesis is that semantically similar chunks should be held together.\n",
        "\n",
        "I tried a few methods:\n",
        "1) **Heirarchical clustering with positional reward** - I wanted to see how heirarchical clustering of sentence embeddings would do. But because I chose to split on sentences, there was an issue with small short sentences after a long one. You know? (like this last sentenence). They could change the meaning of a chunk, so I added a positional reward and clusters were more likely to form if they were sentences next to each other. This ended up being ok, but tuning the parameters was slow and unoptimal.\n",
        "2) **Find break points between sequential sentences** - Next up I tried a walk method. I started at the first sentence, got the embedding, then compared it to sentence #2, then compared #2 and #3 and so on. I was looking for \"break points\" where embedding distance was large. If it was above a threshold, then I considered it the start of a new semantic section. I originally tried taking embeddings of every sentence, but this turned out to be too noisy. So I ended up taking groups of 3 sentences (a window), then got an embedding, then dropped the first sentence, and added the next one. This worked out a bit better.\n",
        "\n",
        "I'll show method #2 here - It's not perfect by any means, but it's a good starting point for an exploration and I'd love to hear about how you think it could be improved.\n",
        "\n",
        "First, let's load up our essay that we'll run through. I'm just doing a single essay here to keep the tokens down.\n",
        "\n",
        "We'll be using Paul Graham's [MIT essay](https://paulgraham.com/mit.html)"
      ]
    },
    {
      "cell_type": "code",
      "execution_count": 60,
      "id": "7c5bb388-0534-4ef5-b5d2-322e945a513b",
      "metadata": {
        "id": "7c5bb388-0534-4ef5-b5d2-322e945a513b"
      },
      "outputs": [],
      "source": [
        "with open('/content/RetrievalTutorials/data/PGEssays/mit.txt') as file:\n",
        "    essay = file.read()"
      ]
    },
    {
      "cell_type": "markdown",
      "id": "6d18623d-6fc1-4b90-a016-ee79ac28b9ad",
      "metadata": {
        "id": "6d18623d-6fc1-4b90-a016-ee79ac28b9ad"
      },
      "source": [
        "Then I want to split the entire essay into 1-sentence chunks. I'm going to split on \".\" \"?\" and \"!\". There are better ways to do this but this is quick and easy for now."
      ]
    },
    {
      "cell_type": "code",
      "execution_count": 61,
      "id": "1dbbfa5a-45a2-4c6e-84f5-d774183717d0",
      "metadata": {
        "colab": {
          "base_uri": "https://localhost:8080/"
        },
        "id": "1dbbfa5a-45a2-4c6e-84f5-d774183717d0",
        "outputId": "ac075c22-6cbe-416b-c97c-4e74d1e272c6"
      },
      "outputs": [
        {
          "output_type": "stream",
          "name": "stdout",
          "text": [
            "317 senteneces were found\n"
          ]
        }
      ],
      "source": [
        "import re\n",
        "\n",
        "# Splitting the essay on '.', '?', and '!'\n",
        "single_sentences_list = re.split(r'(?<=[.?!])\\s+', essay)\n",
        "print (f\"{len(single_sentences_list)} senteneces were found\")"
      ]
    },
    {
      "cell_type": "markdown",
      "id": "6340df5c-bae9-4f04-a69a-4263c7e912de",
      "metadata": {
        "id": "6340df5c-bae9-4f04-a69a-4263c7e912de"
      },
      "source": [
        "But a list of sentences can be tough to add more data too. I'm going to turn this into a list of dictionaries (`List[dict]`), of which, the sentences will be a key-value. Then we can start to add more data to each sentence."
      ]
    },
    {
      "cell_type": "code",
      "execution_count": 62,
      "id": "b1bc484a-5d6f-4df5-a1ec-7803908fac95",
      "metadata": {
        "colab": {
          "base_uri": "https://localhost:8080/"
        },
        "id": "b1bc484a-5d6f-4df5-a1ec-7803908fac95",
        "outputId": "b1462266-9189-44db-cb74-13a38f7d1f42"
      },
      "outputs": [
        {
          "output_type": "execute_result",
          "data": {
            "text/plain": [
              "[{'sentence': '\\n\\nWant to start a startup?', 'index': 0},\n",
              " {'sentence': 'Get funded by\\nY Combinator.', 'index': 1},\n",
              " {'sentence': 'October 2006(This essay is derived from a talk at MIT.)\\nTill recently graduating seniors had two choices: get a job or go\\nto grad school.',\n",
              "  'index': 2}]"
            ]
          },
          "metadata": {},
          "execution_count": 62
        }
      ],
      "source": [
        "sentences = [{'sentence': x, 'index' : i} for i, x in enumerate(single_sentences_list)]\n",
        "sentences[:3]"
      ]
    },
    {
      "cell_type": "markdown",
      "id": "7655fbb4-73a8-43dd-a6b7-565ecf85890a",
      "metadata": {
        "id": "7655fbb4-73a8-43dd-a6b7-565ecf85890a"
      },
      "source": [
        "Great, now that we have our sentences, I want to combine the sentence before and after so that we reduce noise and capture more of the relationships between sequential sentences.\n",
        "\n",
        "Let's create a function so we can use it again. The `buffer_size` is configurable so you can select how big of a window you want. Keep this number in mind for the later steps. I'll just use `buffer_size=1` for now."
      ]
    },
    {
      "cell_type": "code",
      "execution_count": 63,
      "id": "c2c5e5ef-bfbe-4680-9761-0ba7615cc645",
      "metadata": {
        "id": "c2c5e5ef-bfbe-4680-9761-0ba7615cc645"
      },
      "outputs": [],
      "source": [
        "def combine_sentences(sentences, buffer_size=1):\n",
        "    # Go through each sentence dict\n",
        "    for i in range(len(sentences)):\n",
        "\n",
        "        # Create a string that will hold the sentences which are joined\n",
        "        combined_sentence = ''\n",
        "\n",
        "        # Add sentences before the current one, based on the buffer size.\n",
        "        for j in range(i - buffer_size, i):\n",
        "            # Check if the index j is not negative (to avoid index out of range like on the first one)\n",
        "            if j >= 0:\n",
        "                # Add the sentence at index j to the combined_sentence string\n",
        "                combined_sentence += sentences[j]['sentence'] + ' '\n",
        "\n",
        "        # Add the current sentence\n",
        "        combined_sentence += sentences[i]['sentence']\n",
        "\n",
        "        # Add sentences after the current one, based on the buffer size\n",
        "        for j in range(i + 1, i + 1 + buffer_size):\n",
        "            # Check if the index j is within the range of the sentences list\n",
        "            if j < len(sentences):\n",
        "                # Add the sentence at index j to the combined_sentence string\n",
        "                combined_sentence += ' ' + sentences[j]['sentence']\n",
        "\n",
        "        # Then add the whole thing to your dict\n",
        "        # Store the combined sentence in the current sentence dict\n",
        "        sentences[i]['combined_sentence'] = combined_sentence\n",
        "\n",
        "    return sentences\n",
        "\n",
        "sentences = combine_sentences(sentences)"
      ]
    },
    {
      "cell_type": "code",
      "execution_count": 64,
      "id": "a0c06ebf-af2c-4f14-924d-e0d0cab05f09",
      "metadata": {
        "colab": {
          "base_uri": "https://localhost:8080/"
        },
        "id": "a0c06ebf-af2c-4f14-924d-e0d0cab05f09",
        "outputId": "3546369e-a6cf-4a2a-bd0d-46490a5dbef2"
      },
      "outputs": [
        {
          "output_type": "execute_result",
          "data": {
            "text/plain": [
              "[{'sentence': '\\n\\nWant to start a startup?',\n",
              "  'index': 0,\n",
              "  'combined_sentence': '\\n\\nWant to start a startup? Get funded by\\nY Combinator.'},\n",
              " {'sentence': 'Get funded by\\nY Combinator.',\n",
              "  'index': 1,\n",
              "  'combined_sentence': '\\n\\nWant to start a startup? Get funded by\\nY Combinator. October 2006(This essay is derived from a talk at MIT.)\\nTill recently graduating seniors had two choices: get a job or go\\nto grad school.'},\n",
              " {'sentence': 'October 2006(This essay is derived from a talk at MIT.)\\nTill recently graduating seniors had two choices: get a job or go\\nto grad school.',\n",
              "  'index': 2,\n",
              "  'combined_sentence': 'Get funded by\\nY Combinator. October 2006(This essay is derived from a talk at MIT.)\\nTill recently graduating seniors had two choices: get a job or go\\nto grad school. I think there will increasingly be a third option:\\nto start your own startup.'}]"
            ]
          },
          "metadata": {},
          "execution_count": 64
        }
      ],
      "source": [
        "sentences[:3]"
      ]
    },
    {
      "cell_type": "markdown",
      "id": "0deb04a6-d0ad-4757-af8c-d6d600794357",
      "metadata": {
        "id": "0deb04a6-d0ad-4757-af8c-d6d600794357"
      },
      "source": [
        "Check out how the 2nd sentence (index #1) has the first sentence and 3rd sentence in its `combined_sentence` key now.\n",
        "\n",
        "Now I want to get embeddings for the combined sentences, so we can get the distances between the groups of 3 and find breakpoints. I'll use OpenAI's embeddings for this."
      ]
    },
    {
      "cell_type": "code",
      "execution_count": 65,
      "id": "d757106f-d6cd-4504-96f1-4fe1f82e0b7e",
      "metadata": {
        "colab": {
          "base_uri": "https://localhost:8080/"
        },
        "id": "d757106f-d6cd-4504-96f1-4fe1f82e0b7e",
        "outputId": "3ac0a8e7-1c5a-4e98-aadd-ce64a684b3ac"
      },
      "outputs": [
        {
          "output_type": "stream",
          "name": "stderr",
          "text": [
            "<ipython-input-65-7b4e0c0c808f>:2: LangChainDeprecationWarning: The class `OpenAIEmbeddings` was deprecated in LangChain 0.0.9 and will be removed in 1.0. An updated version of the class exists in the :class:`~langchain-openai package and should be used instead. To use it run `pip install -U :class:`~langchain-openai` and import as `from :class:`~langchain_openai import OpenAIEmbeddings``.\n",
            "  oaiembeds = OpenAIEmbeddings()\n"
          ]
        }
      ],
      "source": [
        "from langchain.embeddings import OpenAIEmbeddings\n",
        "oaiembeds = OpenAIEmbeddings()"
      ]
    },
    {
      "cell_type": "markdown",
      "id": "9d5da984-67dc-43ce-b871-b5e91186767a",
      "metadata": {
        "id": "9d5da984-67dc-43ce-b871-b5e91186767a"
      },
      "source": [
        "Now let's go get our embeddings. We'll do this in batch to make it quicker."
      ]
    },
    {
      "cell_type": "code",
      "execution_count": 66,
      "id": "8a18ba5b-4c9f-42d8-bad0-ca0825715f1b",
      "metadata": {
        "id": "8a18ba5b-4c9f-42d8-bad0-ca0825715f1b"
      },
      "outputs": [],
      "source": [
        "embeddings = oaiembeds.embed_documents([x['combined_sentence'] for x in sentences])"
      ]
    },
    {
      "cell_type": "markdown",
      "id": "6a2cdc46-ad21-4e8e-a540-548aa3604212",
      "metadata": {
        "id": "6a2cdc46-ad21-4e8e-a540-548aa3604212"
      },
      "source": [
        "Now we have a list of embeddings, but we need to add them to our list of dicts"
      ]
    },
    {
      "cell_type": "code",
      "execution_count": 67,
      "id": "45828ce9-31cf-4810-a5e8-2098201a91dd",
      "metadata": {
        "id": "45828ce9-31cf-4810-a5e8-2098201a91dd"
      },
      "outputs": [],
      "source": [
        "for i, sentence in enumerate(sentences):\n",
        "    sentence['combined_sentence_embedding'] = embeddings[i]"
      ]
    },
    {
      "cell_type": "markdown",
      "id": "7a4f5f3e-f436-4374-be90-a1f5f819e518",
      "metadata": {
        "id": "7a4f5f3e-f436-4374-be90-a1f5f819e518"
      },
      "source": [
        "Great, now we're getting to the cool part, let's check out the cosine distances between sequential embedding pairs to see where the break points are. We'll add 'distance_to_next' as another key"
      ]
    },
    {
      "cell_type": "code",
      "execution_count": 68,
      "id": "95792785-a966-4b40-a9c4-c76eaed71766",
      "metadata": {
        "id": "95792785-a966-4b40-a9c4-c76eaed71766"
      },
      "outputs": [],
      "source": [
        "from sklearn.metrics.pairwise import cosine_similarity\n",
        "\n",
        "def calculate_cosine_distances(sentences):\n",
        "    distances = []\n",
        "    for i in range(len(sentences) - 1):\n",
        "        embedding_current = sentences[i]['combined_sentence_embedding']\n",
        "        embedding_next = sentences[i + 1]['combined_sentence_embedding']\n",
        "\n",
        "        # Calculate cosine similarity\n",
        "        similarity = cosine_similarity([embedding_current], [embedding_next])[0][0]\n",
        "\n",
        "        # Convert to cosine distance\n",
        "        distance = 1 - similarity\n",
        "\n",
        "        # Append cosine distance to the list\n",
        "        distances.append(distance)\n",
        "\n",
        "        # Store distance in the dictionary\n",
        "        sentences[i]['distance_to_next'] = distance\n",
        "\n",
        "    # Optionally handle the last sentence\n",
        "    # sentences[-1]['distance_to_next'] = None  # or a default value\n",
        "\n",
        "    return distances, sentences"
      ]
    },
    {
      "cell_type": "markdown",
      "id": "45abeb2e-605b-4556-82ca-b7c99eec742a",
      "metadata": {
        "id": "45abeb2e-605b-4556-82ca-b7c99eec742a"
      },
      "source": [
        "Great, now let's pull out the distances from our sentences and then add them as well"
      ]
    },
    {
      "cell_type": "code",
      "execution_count": 69,
      "id": "336bf78a-8109-4fc5-92b3-28aa049b9f99",
      "metadata": {
        "id": "336bf78a-8109-4fc5-92b3-28aa049b9f99"
      },
      "outputs": [],
      "source": [
        "distances, sentences = calculate_cosine_distances(sentences)"
      ]
    },
    {
      "cell_type": "markdown",
      "id": "57eeacef-1594-41ea-a5f9-70f99b8878f3",
      "metadata": {
        "id": "57eeacef-1594-41ea-a5f9-70f99b8878f3"
      },
      "source": [
        "Let's take a look at what our distances array looks like."
      ]
    },
    {
      "cell_type": "code",
      "execution_count": 70,
      "id": "3c330493-20f9-456e-a6f7-7e16cac4f3d1",
      "metadata": {
        "colab": {
          "base_uri": "https://localhost:8080/"
        },
        "id": "3c330493-20f9-456e-a6f7-7e16cac4f3d1",
        "outputId": "3ae886c6-4e32-4ed5-fc97-ac50bb61fa87"
      },
      "outputs": [
        {
          "output_type": "execute_result",
          "data": {
            "text/plain": [
              "[np.float64(0.08122531967666569),\n",
              " np.float64(0.02730736206060569),\n",
              " np.float64(0.047320329568523944)]"
            ]
          },
          "metadata": {},
          "execution_count": 70
        }
      ],
      "source": [
        "distances[:3]"
      ]
    },
    {
      "cell_type": "markdown",
      "id": "7e960090-8714-4481-adec-33fe39c31bc4",
      "metadata": {
        "id": "7e960090-8714-4481-adec-33fe39c31bc4"
      },
      "source": [
        "Hm, yep, just a bunch of numbers that aren't fun to look at. Let's plot them."
      ]
    },
    {
      "cell_type": "code",
      "execution_count": 71,
      "id": "986e4885-b079-4a4a-9ae4-a1227d6ce1bc",
      "metadata": {
        "colab": {
          "base_uri": "https://localhost:8080/",
          "height": 430
        },
        "id": "986e4885-b079-4a4a-9ae4-a1227d6ce1bc",
        "outputId": "b6892b9d-13bf-47c9-dba2-7567abf020e9"
      },
      "outputs": [
        {
          "output_type": "display_data",
          "data": {
            "text/plain": [
              "<Figure size 640x480 with 1 Axes>"
            ],
            "image/png": "[encoded data removed]"
          },
          "metadata": {}
        }
      ],
      "source": [
        "import matplotlib.pyplot as plt\n",
        "\n",
        "plt.plot(distances);"
      ]
    },
    {
      "cell_type": "markdown",
      "id": "f4703f6b-9bf1-45ef-b0ea-a4fb95cc9007",
      "metadata": {
        "id": "f4703f6b-9bf1-45ef-b0ea-a4fb95cc9007"
      },
      "source": [
        "Hm, cool! It's interesting to see sections where distances are smaller and then areas of larger distances. What stands out to me most is the outliers which are spread out.\n",
        "\n",
        "There are many ways to chunk up the essay based off these distances, but I'm going to consider any distance above the 95th percentile of distances as a break point. This is the only parameter we'll need to config.\n",
        "\n",
        "I'm going to build in the final viz, check out the video for an iterative build and an overview."
      ]
    },
    {
      "cell_type": "markdown",
      "id": "5044cd49-ef33-4d00-a629-bc3411b7939e",
      "metadata": {
        "id": "5044cd49-ef33-4d00-a629-bc3411b7939e"
      },
      "source": [
        "Let's look at the chunks that came out"
      ]
    },
    {
      "cell_type": "code",
      "execution_count": 72,
      "id": "cba11136-a6fb-4ec6-83db-0476c9efc5e0",
      "metadata": {
        "colab": {
          "base_uri": "https://localhost:8080/",
          "height": 472
        },
        "id": "cba11136-a6fb-4ec6-83db-0476c9efc5e0",
        "outputId": "09d1a2b8-4fbc-468a-b63c-77b8c0f7c69b"
      },
      "outputs": [
        {
          "output_type": "display_data",
          "data": {
            "text/plain": [
              "<Figure size 640x480 with 1 Axes>"
            ],
            "image/png": "[encoded data removed]"
          },
          "metadata": {}
        }
      ],
      "source": [
        "import numpy as np\n",
        "\n",
        "plt.plot(distances);\n",
        "\n",
        "y_upper_bound = .2\n",
        "plt.ylim(0, y_upper_bound)\n",
        "plt.xlim(0, len(distances))\n",
        "\n",
        "# We need to get the distance threshold that we'll consider an outlier\n",
        "# We'll use numpy .percentile() for this\n",
        "breakpoint_percentile_threshold = 95\n",
        "breakpoint_distance_threshold = np.percentile(distances, breakpoint_percentile_threshold) # If you want more chunks, lower the percentile cutoff\n",
        "plt.axhline(y=breakpoint_distance_threshold, color='r', linestyle='-');\n",
        "\n",
        "# Then we'll see how many distances are actually above this one\n",
        "num_distances_above_theshold = len([x for x in distances if x > breakpoint_distance_threshold]) # The amount of distances above your threshold\n",
        "plt.text(x=(len(distances)*.01), y=y_upper_bound/50, s=f\"{num_distances_above_theshold + 1} Chunks\");\n",
        "\n",
        "# Then we'll get the index of the distances that are above the threshold. This will tell us where we should split our text\n",
        "indices_above_thresh = [i for i, x in enumerate(distances) if x > breakpoint_distance_threshold] # The indices of those breakpoints on your list\n",
        "\n",
        "# Start of the shading and text\n",
        "colors = ['b', 'g', 'r', 'c', 'm', 'y', 'k']\n",
        "for i, breakpoint_index in enumerate(indices_above_thresh):\n",
        "    start_index = 0 if i == 0 else indices_above_thresh[i - 1]\n",
        "    end_index = breakpoint_index if i < len(indices_above_thresh) - 1 else len(distances)\n",
        "\n",
        "    plt.axvspan(start_index, end_index, facecolor=colors[i % len(colors)], alpha=0.25)\n",
        "    plt.text(x=np.average([start_index, end_index]),\n",
        "             y=breakpoint_distance_threshold + (y_upper_bound)/ 20,\n",
        "             s=f\"Chunk #{i}\", horizontalalignment='center',\n",
        "             rotation='vertical')\n",
        "\n",
        "# # Additional step to shade from the last breakpoint to the end of the dataset\n",
        "if indices_above_thresh:\n",
        "    last_breakpoint = indices_above_thresh[-1]\n",
        "    if last_breakpoint < len(distances):\n",
        "        plt.axvspan(last_breakpoint, len(distances), facecolor=colors[len(indices_above_thresh) % len(colors)], alpha=0.25)\n",
        "        plt.text(x=np.average([last_breakpoint, len(distances)]),\n",
        "                 y=breakpoint_distance_threshold + (y_upper_bound)/ 20,\n",
        "                 s=f\"Chunk #{i+1}\",\n",
        "                 rotation='vertical')\n",
        "\n",
        "plt.title(\"PG Essay Chunks Based On Embedding Breakpoints\")\n",
        "plt.xlabel(\"Index of sentences in essay (Sentence Position)\")\n",
        "plt.ylabel(\"Cosine distance between sequential sentences\")\n",
        "plt.show()"
      ]
    },
    {
      "cell_type": "markdown",
      "id": "6c942fe5-cfb4-44b2-8177-35983e88ea82",
      "metadata": {
        "id": "6c942fe5-cfb4-44b2-8177-35983e88ea82"
      },
      "source": [
        "Well now that we've succefully distracted ourselves with a visualization, now we need to combine the sentences into chunks.\n",
        "\n",
        "Because we have our breakpoints [23, 40, 51...] I want to make the first chunk 0-22, since the distance jumped on sentence 23."
      ]
    },
    {
      "cell_type": "code",
      "execution_count": 73,
      "id": "f17828f0-4d1b-4514-ad87-343301cb8450",
      "metadata": {
        "id": "f17828f0-4d1b-4514-ad87-343301cb8450"
      },
      "outputs": [],
      "source": [
        "# Initialize the start index\n",
        "start_index = 0\n",
        "\n",
        "# Create a list to hold the grouped sentences\n",
        "chunks = []\n",
        "\n",
        "# Iterate through the breakpoints to slice the sentences\n",
        "for index in indices_above_thresh:\n",
        "    # The end index is the current breakpoint\n",
        "    end_index = index\n",
        "\n",
        "    # Slice the sentence_dicts from the current start index to the end index\n",
        "    group = sentences[start_index:end_index + 1]\n",
        "    combined_text = ' '.join([d['sentence'] for d in group])\n",
        "    chunks.append(combined_text)\n",
        "\n",
        "    # Update the start index for the next group\n",
        "    start_index = index + 1\n",
        "\n",
        "# The last group, if any sentences remain\n",
        "if start_index < len(sentences):\n",
        "    combined_text = ' '.join([d['sentence'] for d in sentences[start_index:]])\n",
        "    chunks.append(combined_text)\n",
        "\n",
        "# grouped_sentences now contains the chunked sentences"
      ]
    },
    {
      "cell_type": "markdown",
      "id": "8418f022-d929-427e-9977-ec12c4eb0236",
      "metadata": {
        "id": "8418f022-d929-427e-9977-ec12c4eb0236"
      },
      "source": [
        "Great now let's manually inspect a few to make sure they look ok."
      ]
    },
    {
      "cell_type": "code",
      "execution_count": 74,
      "id": "d709135b-6465-4720-8eb8-60dc9f91efac",
      "metadata": {
        "colab": {
          "base_uri": "https://localhost:8080/"
        },
        "id": "d709135b-6465-4720-8eb8-60dc9f91efac",
        "outputId": "ef9eb032-fc58-4e84-c661-5f8455a171c8"
      },
      "outputs": [
        {
          "output_type": "stream",
          "name": "stdout",
          "text": [
            "Chunk #0\n",
            "Want to start a startup? Get funded by\n",
            "Y Combinator. October 2006(This essay is derived from a talk at MIT.)\n",
            "Till recently graduating seniors had two choices: get a job or go\n",
            "to grad school. I think\n",
            "...\n",
            "]\n",
            "About a month into each funding\n",
            "cycle we have an event called Prototype Day where each startup\n",
            "presents to the others what they've got so far. You might think\n",
            "they wouldn't need any more motivation.\n",
            "\n",
            "\n",
            "Chunk #1\n",
            "They're working on their\n",
            "cool new idea; they have funding for the immediate future; and\n",
            "they're playing a game with only two outcomes: wealth or failure. You'd think that would be motivation enough. A\n",
            "...\n",
            "e tell people not to? For the same reason that the probably\n",
            "apocryphal violinist, whenever he was asked to judge someone's\n",
            "playing, would always say they didn't have enough talent to make\n",
            "it as a pro.\n",
            "\n",
            "\n"
          ]
        }
      ],
      "source": [
        "for i, chunk in enumerate(chunks[:2]):\n",
        "    buffer = 200\n",
        "\n",
        "    print (f\"Chunk #{i}\")\n",
        "    print (chunk[:buffer].strip())\n",
        "    print (\"...\")\n",
        "    print (chunk[-buffer:].strip())\n",
        "    print (\"\\n\")"
      ]
    },
    {
      "cell_type": "markdown",
      "id": "c4a86473-b267-483d-ac45-e0f4d30b67e6",
      "metadata": {
        "id": "c4a86473-b267-483d-ac45-e0f4d30b67e6"
      },
      "source": [
        "I want to re-emphasize that this is an exploration of a method that is far from usable yet. This method should be tested with RAG eval to ensure that it works for your use case.\n",
        "\n",
        "I didn't worry about chunk size or overlap with this method, but you could recursively split large chunks if you needed to.\n",
        "\n",
        "How should it be improved? Let me [know](https://twitter.com/GregKamradt)! See me tease this [here](https://twitter.com/GregKamradt/status/1737921395974430953)."
      ]
    },
    {
      "cell_type": "markdown",
      "id": "c43ff201-d657-49e0-8a03-8e6460113393",
      "metadata": {
        "id": "c43ff201-d657-49e0-8a03-8e6460113393"
      },
      "source": [
        "## Level 5: Agentic Chunking <a id=\"AgenticChunking\"></a>\n",
        "Taking level 4 even further - can we instruct an LLM to do this task like a human would?\n",
        "\n",
        "How does a human even go about chunking in the first place?\n",
        "\n",
        "Well...let me think, how would I go about chunking a document into its discrete parts such that the results were semantically similar?\n",
        "\n",
        "1. I would get myself a scratch piece of paper or notepad\n",
        "2. I'd start at the top of the essay and assume the first part will be a chunk (since we don't have any yet)\n",
        "3. Then I would keep going down the essay and evaluate if a new sentence or piece of the essay should be a part of the first chunk, if not, then create a new one\n",
        "4. Then keep doing that all the way down the essay until we got to the end.\n",
        "\n",
        "Woah! Wait a minute - this is pseudo code for something we can try out. See me tease this [here](https://twitter.com/GregKamradt/status/1738276097471754735).\n",
        "\n",
        "I debated whether or not to hold myself to the strict standard of using the *raw text* from a document, or use a derived form. The former felt like I was being too harsh, so I decided to explore using [propositions](https://twitter.com/LangChainAI/status/1735708004618764470). This is a cool concept ([research paper](https://arxiv.org/pdf/2312.06648.pdf)) that extracts stand alone statements from a raw piece of text.\n",
        "\n",
        "Example: `Greg went to the park. He likes walking` > `['Greg went to the park.', 'Greg likes walking']`\n",
        "\n",
        "Let's do it:"
      ]
    },
    {
      "cell_type": "code",
      "execution_count": 88,
      "id": "5a6f79c0-f6bd-4561-bf0a-434955d875e5",
      "metadata": {
        "id": "5a6f79c0-f6bd-4561-bf0a-434955d875e5"
      },
      "outputs": [],
      "source": [
        "from langchain.output_parsers.openai_tools import JsonOutputToolsParser\n",
        "from langchain_community.chat_models import ChatOpenAI\n",
        "from langchain_core.prompts import ChatPromptTemplate\n",
        "from langchain_core.runnables import RunnableLambda\n",
        "from langchain.chains import create_extraction_chain\n",
        "from typing import Optional, List\n",
        "from langchain.chains import create_extraction_chain_pydantic\n",
        "from pydantic import BaseModel\n",
        "from langchain import hub"
      ]
    },
    {
      "cell_type": "markdown",
      "id": "3ba10ec8-8227-4b95-a2cc-4149941dfe98",
      "metadata": {
        "id": "3ba10ec8-8227-4b95-a2cc-4149941dfe98"
      },
      "source": [
        "Pulling out propositions is done via a well-crafted prompt. I'm going to pull it from [LangHub](https://smith.langchain.com/hub?organizationId=50995362-9ea0-4378-ad97-b4edae2f9f22), LangChain's home for prompts.\n",
        "\n",
        "You can view the proposition prompt [here](https://smith.langchain.com/hub/wfh/proposal-indexing?organizationId=50995362-9ea0-4378-ad97-b4edae2f9f22).\n",
        "\n",
        "I'll use gpt-4 as the LLM because we aren't messing around. I care more about performance than I do speed or cost."
      ]
    },
    {
      "cell_type": "code",
      "execution_count": 89,
      "id": "6de38943-7697-413e-a2e8-8a62cda914b8",
      "metadata": {
        "colab": {
          "base_uri": "https://localhost:8080/"
        },
        "id": "6de38943-7697-413e-a2e8-8a62cda914b8",
        "outputId": "969401f4-e012-437f-c601-2d6455fcf011"
      },
      "outputs": [
        {
          "output_type": "stream",
          "name": "stderr",
          "text": [
            "/usr/local/lib/python3.11/dist-packages/langsmith/client.py:272: LangSmithMissingAPIKeyWarning: API key must be provided when using hosted LangSmith API\n",
            "  warnings.warn(\n"
          ]
        }
      ],
      "source": [
        "obj = hub.pull(\"wfh/proposal-indexing\")\n",
        "llm = ChatOpenAI(model='gpt-4o', openai_api_key = os.environ['OPENAI_API_KEY'])"
      ]
    },
    {
      "cell_type": "markdown",
      "id": "5a838bc4-e732-492d-80a5-8c829ca637ef",
      "metadata": {
        "id": "5a838bc4-e732-492d-80a5-8c829ca637ef"
      },
      "source": [
        "Then I'll make a runnable w/ langchain, this'll be a short way to combine the prompt and llm"
      ]
    },
    {
      "cell_type": "code",
      "execution_count": 90,
      "id": "97236eb3-361e-4ebd-aa13-979ac8718f5f",
      "metadata": {
        "id": "97236eb3-361e-4ebd-aa13-979ac8718f5f"
      },
      "outputs": [],
      "source": [
        "# use it in a runnable\n",
        "runnable = obj | llm"
      ]
    },
    {
      "cell_type": "markdown",
      "id": "bea6b054-bac6-4ce6-be8f-724a6ea1c5ef",
      "metadata": {
        "id": "bea6b054-bac6-4ce6-be8f-724a6ea1c5ef"
      },
      "source": [
        "The output from a runnable is a json-esque structure in a string. We need to pull the sentences out. I found that LangChain's example extraction was giving me a hard time so I'm doing it manually with a pydantic data class. There is definitely room to improve this.\n",
        "\n",
        "Create your class then put it in an extraction chain."
      ]
    },
    {
      "cell_type": "code",
      "execution_count": 91,
      "id": "10116bfe-12a0-4f8c-95bf-67a0f8c1ceb5",
      "metadata": {
        "id": "10116bfe-12a0-4f8c-95bf-67a0f8c1ceb5"
      },
      "outputs": [],
      "source": [
        "# Pydantic data class\n",
        "class Sentences(BaseModel):\n",
        "    sentences: List[str]\n",
        "\n",
        "# Extraction\n",
        "extraction_chain = create_extraction_chain_pydantic(pydantic_schema=Sentences, llm=llm)"
      ]
    },
    {
      "cell_type": "markdown",
      "id": "a462b5c8-5cb2-4dcb-bedd-6ee1ce2cfd08",
      "metadata": {
        "id": "a462b5c8-5cb2-4dcb-bedd-6ee1ce2cfd08"
      },
      "source": [
        "Then wrap it together in a function that'll return a list of propositions to us"
      ]
    },
    {
      "cell_type": "code",
      "execution_count": 97,
      "id": "7ec04652-19e3-4cab-a882-7c31cd87fe1a",
      "metadata": {
        "id": "7ec04652-19e3-4cab-a882-7c31cd87fe1a"
      },
      "outputs": [],
      "source": [
        "def get_propositions(text):\n",
        "    runnable_output = runnable.invoke({\n",
        "    \t\"input\": text\n",
        "    }).content\n",
        "    # print(runnable_output)\n",
        "    propositions = extraction_chain.run(runnable_output)[0].sentences\n",
        "    return propositions"
      ]
    },
    {
      "cell_type": "markdown",
      "id": "de0bf288-24ba-4a50-a225-400c6fff5c61",
      "metadata": {
        "id": "de0bf288-24ba-4a50-a225-400c6fff5c61"
      },
      "source": [
        "Go get your text of choice."
      ]
    },
    {
      "cell_type": "code",
      "execution_count": 81,
      "id": "2be92b95-76d6-4a2c-ba2f-67379998956e",
      "metadata": {
        "id": "2be92b95-76d6-4a2c-ba2f-67379998956e"
      },
      "outputs": [],
      "source": [
        "with open('/content/RetrievalTutorials/data/PGEssays/superlinear.txt') as file:\n",
        "    essay = file.read()"
      ]
    },
    {
      "cell_type": "markdown",
      "id": "25f4ee69-a87e-481e-b01d-403021a2610b",
      "metadata": {
        "id": "25f4ee69-a87e-481e-b01d-403021a2610b"
      },
      "source": [
        "Then you need to decide what you send to your proposal maker. The prompt has an example that is about 1K characters long. So I would experiment with what works for you. This isn't another chunking decision, just pick something reasonable and try it out.\n",
        "\n",
        "I'm using paragraphs"
      ]
    },
    {
      "cell_type": "code",
      "execution_count": 82,
      "id": "1121baaf-c65a-4dce-a942-83cfbf6891cc",
      "metadata": {
        "id": "1121baaf-c65a-4dce-a942-83cfbf6891cc"
      },
      "outputs": [],
      "source": [
        "paragraphs = essay.split(\"\\n\\n\")"
      ]
    },
    {
      "cell_type": "markdown",
      "id": "e29ae4f7-e58b-4941-b243-ccc72c3bf37c",
      "metadata": {
        "id": "e29ae4f7-e58b-4941-b243-ccc72c3bf37c"
      },
      "source": [
        "Let's see how many we have"
      ]
    },
    {
      "cell_type": "code",
      "execution_count": 83,
      "id": "6a2c36b2-bce3-461f-9f52-af1c10b1c3ab",
      "metadata": {
        "colab": {
          "base_uri": "https://localhost:8080/"
        },
        "id": "6a2c36b2-bce3-461f-9f52-af1c10b1c3ab",
        "outputId": "036d587c-0b85-4209-81c4-29f44f1aeadc"
      },
      "outputs": [
        {
          "output_type": "execute_result",
          "data": {
            "text/plain": [
              "53"
            ]
          },
          "metadata": {},
          "execution_count": 83
        }
      ],
      "source": [
        "len(paragraphs)"
      ]
    },
    {
      "cell_type": "markdown",
      "id": "6c3cb285-abf3-4334-aff7-5f84d741c7f4",
      "metadata": {
        "id": "6c3cb285-abf3-4334-aff7-5f84d741c7f4"
      },
      "source": [
        "That's too many for a demo, I'll do just the first couple to show it off."
      ]
    },
    {
      "cell_type": "code",
      "execution_count": 98,
      "id": "46fddfc4-7cd6-4fe4-add7-7a12c593ef6c",
      "metadata": {
        "colab": {
          "base_uri": "https://localhost:8080/"
        },
        "id": "46fddfc4-7cd6-4fe4-add7-7a12c593ef6c",
        "outputId": "cbdd4f06-a060-4666-a36f-8b86bcdc62bd"
      },
      "outputs": [
        {
          "output_type": "stream",
          "name": "stdout",
          "text": [
            "Done with 0\n",
            "Done with 1\n",
            "Done with 2\n",
            "Done with 3\n",
            "Done with 4\n"
          ]
        }
      ],
      "source": [
        "essay_propositions = []\n",
        "\n",
        "for i, para in enumerate(paragraphs[:5]):\n",
        "    propositions = get_propositions(para)\n",
        "\n",
        "    essay_propositions.extend(propositions)\n",
        "    print (f\"Done with {i}\")"
      ]
    },
    {
      "cell_type": "markdown",
      "id": "c01906ad-b5a2-4b73-a079-4564b66b147e",
      "metadata": {
        "id": "c01906ad-b5a2-4b73-a079-4564b66b147e"
      },
      "source": [
        "Let's take a look at what the propositions look like"
      ]
    },
    {
      "cell_type": "code",
      "execution_count": 99,
      "id": "4867944e-13f0-4207-b787-692eeebadea6",
      "metadata": {
        "colab": {
          "base_uri": "https://localhost:8080/"
        },
        "id": "4867944e-13f0-4207-b787-692eeebadea6",
        "outputId": "4eab04d1-f5c6-4e2c-f277-a14a198b2ca2"
      },
      "outputs": [
        {
          "output_type": "stream",
          "name": "stdout",
          "text": [
            "You have 14 propositions\n"
          ]
        },
        {
          "output_type": "execute_result",
          "data": {
            "text/plain": [
              "['The month is October.',\n",
              " 'The year is 2023.',\n",
              " \"One important thing I didn't understand about the world when I was a child is the degree to which the returns for performance are superlinear.\",\n",
              " 'The returns for performance are superlinear.',\n",
              " 'Teachers and coaches implicitly told us the returns were linear.',\n",
              " \"Teachers and coaches said, 'You get out what you put in.'\",\n",
              " \"'You get out what you put in' was heard a thousand times.\",\n",
              " 'Teachers and coaches meant well.',\n",
              " \"The statement 'You get out what you put in' is rarely true.\",\n",
              " \"If your product is only half as good as your competitor's, you don't get half as many customers.\"]"
            ]
          },
          "metadata": {},
          "execution_count": 99
        }
      ],
      "source": [
        "print (f\"You have {len(essay_propositions)} propositions\")\n",
        "essay_propositions[:10]"
      ]
    },
    {
      "cell_type": "markdown",
      "id": "941ebfc6-da6a-4fb8-833d-ed2e9810f25e",
      "metadata": {
        "id": "941ebfc6-da6a-4fb8-833d-ed2e9810f25e"
      },
      "source": [
        "So you'll see that they look like regular sentences, but they are actually statements that are able to stand on their own. For example, one of the sentences in the raw text is \"They meant well, but this is rarely true.\" if you were to chunk that on it's own, the LLM would have no idea who you're talking about. Who meant well? What is rarely true? But those have been covered by the propositions.\n",
        "\n",
        "Now onto the cool part, we need a system that can reason about each proposition and determine whether or not it should be a part of an existing chunk or if a new chunk should be made.\n",
        "\n",
        "The pseudo code for how this works is above - I also review this code in the video so make sure to go watch that if you want to see me chat about it live.\n",
        "\n",
        "The script is also in this repo if you've cloned it."
      ]
    },
    {
      "source": [
        "# custom script\n",
        "import sys\n",
        "import os\n",
        "\n",
        "# Define the path to the directory containing agentic_chunker.py\n",
        "chunker_module_path = \"/content/RetrievalTutorials/tutorials/LevelsOfTextSplitting/\"\n",
        "\n",
        "# Add the path to sys.path if it's not already there\n",
        "if chunker_module_path not in sys.path:\n",
        "    sys.path.append(chunker_module_path)\n",
        "    print(f\"Added {chunker_module_path} to sys.path\") # Optional: print message to confirm\n",
        "\n",
        "# Now you can import the module\n",
        "import importlib\n",
        "import agentic_chunker\n",
        "importlib.reload(agentic_chunker)\n",
        "from agentic_chunker import AgenticChunker"
      ],
      "cell_type": "code",
      "metadata": {
        "id": "bueaoZSvZwgu"
      },
      "id": "bueaoZSvZwgu",
      "execution_count": 114,
      "outputs": []
    },
    {
      "cell_type": "code",
      "execution_count": 115,
      "id": "f550431a-9484-4095-a888-31ec3cbe1b42",
      "metadata": {
        "id": "f550431a-9484-4095-a888-31ec3cbe1b42"
      },
      "outputs": [],
      "source": [
        "ac = AgenticChunker()"
      ]
    },
    {
      "cell_type": "markdown",
      "id": "833086aa-d1b7-4ac8-9d85-3a71e6e634ab",
      "metadata": {
        "id": "833086aa-d1b7-4ac8-9d85-3a71e6e634ab"
      },
      "source": [
        "Then let's pass in our propositions to it. There are a lot in the full list so I'm only going to do a subset.\n",
        "\n",
        "This method is slow and expensive, but let's see how the results are.\n",
        "\n",
        "You can turn off the print statements via setting `ac = AgenticChunker(print_logging=False)` when you create your chunker."
      ]
    },
    {
      "cell_type": "code",
      "execution_count": 116,
      "id": "f7e9892a-9a1c-4269-a262-7cc4ab0eed32",
      "metadata": {
        "colab": {
          "base_uri": "https://localhost:8080/"
        },
        "id": "f7e9892a-9a1c-4269-a262-7cc4ab0eed32",
        "outputId": "47b3cc91-8a47-4c51-8c0d-500f88f2464c"
      },
      "outputs": [
        {
          "output_type": "stream",
          "name": "stdout",
          "text": [
            "\n",
            "Adding: 'The month is October.'\n",
            "No chunks, creating a new one\n",
            "Created new chunk (d6ddc): Date & Times\n",
            "\n",
            "Adding: 'The year is 2023.'\n",
            "Chunk Found (d6ddc), adding to: Date & Times\n",
            "\n",
            "Adding: 'One important thing I didn't understand about the world when I was a child is the degree to which the returns for performance are superlinear.'\n",
            "No chunks found\n",
            "Created new chunk (bf532): Adult Realizations & Misconceptions\n",
            "\n",
            "Adding: 'The returns for performance are superlinear.'\n",
            "No chunks found\n",
            "Created new chunk (6431a): Investment Performance Returns\n",
            "\n",
            "Adding: 'Teachers and coaches implicitly told us the returns were linear.'\n",
            "Chunk Found (bf532), adding to: Adult Realizations & Misconceptions\n",
            "\n",
            "Adding: 'Teachers and coaches said, 'You get out what you put in.''\n",
            "Chunk Found (bf532), adding to: Performance & Reward Dynamics\n",
            "\n",
            "Adding: ''You get out what you put in' was heard a thousand times.'\n",
            "Chunk Found (bf532), adding to: Misconceptions of Effort & Performance Returns\n",
            "\n",
            "Adding: 'Teachers and coaches meant well.'\n",
            "No chunks found\n",
            "Created new chunk (505dc): Educational Approaches\n",
            "\n",
            "Adding: 'The statement 'You get out what you put in' is rarely true.'\n",
            "Chunk Found (bf532), adding to: Effort & Performance Returns: Expectations vs. Reality\n",
            "\n",
            "Adding: 'If your product is only half as good as your competitor's, you don't get half as many customers.'\n",
            "Chunk Found (bf532), adding to: Effort & Performance Returns Misconceptions\n",
            "\n",
            "Adding: 'If your product is only half as good as your competitor's, you get no customers.'\n",
            "No chunks found\n",
            "Created new chunk (1b0ce): Product Quality & Customer Acquisition\n",
            "\n",
            "Adding: 'If your product is only half as good as your competitor's, you go out of business.'\n",
            "Chunk Found (1b0ce), adding to: Product Quality & Customer Acquisition\n",
            "\n",
            "Adding: 'The returns for performance in business are superlinear.'\n",
            "Chunk Found (bf532), adding to: Effort & Outcome Dynamics\n",
            "\n",
            "Adding: 'You can't understand the world without understanding the concept of superlinear returns.'\n",
            "Chunk Found (bf532), adding to: Superlinear Returns on Performance\n"
          ]
        }
      ],
      "source": [
        "ac.add_propositions(essay_propositions)"
      ]
    },
    {
      "cell_type": "markdown",
      "id": "1481fe66-f73c-4fd2-a51c-3a1131a8e57c",
      "metadata": {
        "id": "1481fe66-f73c-4fd2-a51c-3a1131a8e57c"
      },
      "source": [
        "Cool, looks like a few chunks were made. Let's check them out"
      ]
    },
    {
      "cell_type": "code",
      "execution_count": 117,
      "id": "27c79f2a-119e-45f2-8883-0f623a7c211e",
      "metadata": {
        "colab": {
          "base_uri": "https://localhost:8080/"
        },
        "id": "27c79f2a-119e-45f2-8883-0f623a7c211e",
        "outputId": "b0d661f5-db79-4c5d-9c40-f4e51c2cff66"
      },
      "outputs": [
        {
          "output_type": "stream",
          "name": "stdout",
          "text": [
            "\n",
            "You have 5 chunks\n",
            "\n",
            "Chunk #0\n",
            "Chunk ID: d6ddc\n",
            "Summary: This chunk contains information about specific dates and times related to the current month and year.\n",
            "Propositions:\n",
            "    -The month is October.\n",
            "    -The year is 2023.\n",
            "\n",
            "\n",
            "\n",
            "Chunk #1\n",
            "Chunk ID: bf532\n",
            "Summary: This chunk explores the concept of superlinear returns versus the commonly taught idea of linear returns in effort, performance, and business success.\n",
            "Propositions:\n",
            "    -One important thing I didn't understand about the world when I was a child is the degree to which the returns for performance are superlinear.\n",
            "    -Teachers and coaches implicitly told us the returns were linear.\n",
            "    -Teachers and coaches said, 'You get out what you put in.'\n",
            "    -'You get out what you put in' was heard a thousand times.\n",
            "    -The statement 'You get out what you put in' is rarely true.\n",
            "    -If your product is only half as good as your competitor's, you don't get half as many customers.\n",
            "    -The returns for performance in business are superlinear.\n",
            "    -You can't understand the world without understanding the concept of superlinear returns.\n",
            "\n",
            "\n",
            "\n",
            "Chunk #2\n",
            "Chunk ID: 6431a\n",
            "Summary: This chunk contains discussions about the nature of returns on performance.\n",
            "Propositions:\n",
            "    -The returns for performance are superlinear.\n",
            "\n",
            "\n",
            "\n",
            "Chunk #3\n",
            "Chunk ID: 505dc\n",
            "Summary: This chunk contains information about the intentions and attitudes of educators and instructors.\n",
            "Propositions:\n",
            "    -Teachers and coaches meant well.\n",
            "\n",
            "\n",
            "\n",
            "Chunk #4\n",
            "Chunk ID: 1b0ce\n",
            "Summary: This chunk discusses the consequences of inferior product quality on business sustainability and customer acquisition.\n",
            "Propositions:\n",
            "    -If your product is only half as good as your competitor's, you get no customers.\n",
            "    -If your product is only half as good as your competitor's, you go out of business.\n",
            "\n",
            "\n",
            "\n"
          ]
        }
      ],
      "source": [
        "ac.pretty_print_chunks()"
      ]
    },
    {
      "cell_type": "markdown",
      "id": "e4aebf75-53b9-4695-bea9-effa0adf967e",
      "metadata": {
        "id": "e4aebf75-53b9-4695-bea9-effa0adf967e"
      },
      "source": [
        "Awesome, then if we wanted to get the chunks properly, then we get extract a list of strings with them. The chunks propositions will be joined in the same string"
      ]
    },
    {
      "cell_type": "code",
      "execution_count": 118,
      "id": "e90e5eb4-676f-4310-8bbf-be87f94d07eb",
      "metadata": {
        "id": "e90e5eb4-676f-4310-8bbf-be87f94d07eb"
      },
      "outputs": [],
      "source": [
        "chunks = ac.get_chunks(get_type='list_of_strings')"
      ]
    },
    {
      "cell_type": "code",
      "execution_count": 119,
      "id": "d08eb17e-10ab-426e-8998-bed29ab76dac",
      "metadata": {
        "colab": {
          "base_uri": "https://localhost:8080/"
        },
        "id": "d08eb17e-10ab-426e-8998-bed29ab76dac",
        "outputId": "4325fa25-6b71-4417-9bfa-6e16abf8908e"
      },
      "outputs": [
        {
          "output_type": "execute_result",
          "data": {
            "text/plain": [
              "['The month is October. The year is 2023.',\n",
              " \"One important thing I didn't understand about the world when I was a child is the degree to which the returns for performance are superlinear. Teachers and coaches implicitly told us the returns were linear. Teachers and coaches said, 'You get out what you put in.' 'You get out what you put in' was heard a thousand times. The statement 'You get out what you put in' is rarely true. If your product is only half as good as your competitor's, you don't get half as many customers. The returns for performance in business are superlinear. You can't understand the world without understanding the concept of superlinear returns.\",\n",
              " 'The returns for performance are superlinear.',\n",
              " 'Teachers and coaches meant well.',\n",
              " \"If your product is only half as good as your competitor's, you get no customers. If your product is only half as good as your competitor's, you go out of business.\"]"
            ]
          },
          "metadata": {},
          "execution_count": 119
        }
      ],
      "source": [
        "chunks"
      ]
    },
    {
      "cell_type": "markdown",
      "id": "e920b345-0294-4b5d-995c-da36bdfaeace",
      "metadata": {
        "id": "e920b345-0294-4b5d-995c-da36bdfaeace"
      },
      "source": [
        "Great, now we can go use that in our evaluations for your retrieval."
      ]
    },
    {
      "cell_type": "markdown",
      "id": "75a8462b-8c10-4550-b42c-453ecdec3647",
      "metadata": {
        "id": "75a8462b-8c10-4550-b42c-453ecdec3647"
      },
      "source": [
        "## Bonus Level: Alternative Representation <a id=\"BonusLevel\"></a>\n",
        "So far I've shown how to chunk up your raw text (okay, I was a bit liberal with level 5).\n",
        "\n",
        "But what if your raw text isn't the best way to represent your data for your task?\n",
        "\n",
        "For example, if you're doing semantic search on chat messages, raw chat messages may lack the context to make a successful embedding. Maybe actually trying to semantic search of a summary of a conversation would do better. Or maybe hypothetical questions that the chat would answer?\n",
        "\n",
        "This is where the world of chunking/splitting starts to dive into the world of [indexing](https://docs.llamaindex.ai/en/stable/understanding/indexing/indexing.html#what-is-an-index). When you index, you're making a choice about how you want to represent your data in your data base or knowledge base.\n",
        "\n",
        "This is more of a retrieval topic, but it's worth talking about with chunking.\n",
        "\n",
        "Let's quickly go through a few popular alternative ways developers like to represent their data. There are unlimited methods to try. We'll review 4 of them\n",
        "\n",
        "* **[Multi-Vector Indexing](https://python.langchain.com/docs/modules/data_connection/retrievers/multi_vector)** - This is when you do semantic search for a vector that is derived from something other than your raw text\n",
        "    * **Summaries** - A summary of your chunk\n",
        "    * **Hypothetical questions** - Good for chat messages used as knowledge base\n",
        "    * **Child Documents** - Parent Document Retriever\n",
        "* **Graph Based Chunking** - Transposing your raw text into a graph structure\n",
        "\n",
        "### Summaries\n",
        "Instead of embedding your raw text, embed a summary of your raw text which will have more dense information"
      ]
    },
    {
      "cell_type": "code",
      "execution_count": null,
      "id": "fce9678d-187e-4293-b1aa-eda9045035ee",
      "metadata": {
        "id": "fce9678d-187e-4293-b1aa-eda9045035ee"
      },
      "outputs": [],
      "source": [
        "import uuid\n",
        "\n",
        "from langchain.chat_models import ChatOpenAI\n",
        "from langchain.prompts import ChatPromptTemplate\n",
        "from langchain_core.documents import Document\n",
        "from langchain_core.output_parsers import StrOutputParser\n",
        "from langchain.text_splitter import RecursiveCharacterTextSplitter\n",
        "from langchain.retrievers.multi_vector import MultiVectorRetriever\n",
        "from langchain.storage import InMemoryByteStore\n",
        "from langchain.embeddings import OpenAIEmbeddings\n",
        "from langchain.vectorstores import Chroma"
      ]
    },
    {
      "cell_type": "markdown",
      "id": "b445bc40-531b-4a65-b4ee-852377862ce9",
      "metadata": {
        "id": "b445bc40-531b-4a65-b4ee-852377862ce9"
      },
      "source": [
        "Let's use our Super Linear essay again. I'll split it into large chunks"
      ]
    },
    {
      "cell_type": "code",
      "execution_count": null,
      "id": "ca8c1a25-aaff-4d74-a5fd-f681f7cf478f",
      "metadata": {
        "id": "ca8c1a25-aaff-4d74-a5fd-f681f7cf478f",
        "outputId": "f2322d1d-d394-4c96-aca4-74519622e133"
      },
      "outputs": [
        {
          "name": "stdout",
          "output_type": "stream",
          "text": [
            "You have 6 docs\n"
          ]
        }
      ],
      "source": [
        "with open('../../data/PGEssays/superlinear.txt') as file:\n",
        "    essay = file.read()\n",
        "\n",
        "splitter = RecursiveCharacterTextSplitter(chunk_size=4000, chunk_overlap=0)\n",
        "\n",
        "docs = splitter.create_documents([essay])\n",
        "\n",
        "print (f\"You have {len(docs)} docs\")"
      ]
    },
    {
      "cell_type": "markdown",
      "id": "3b418bdb-c03c-4885-8a74-983c5732f6dc",
      "metadata": {
        "id": "3b418bdb-c03c-4885-8a74-983c5732f6dc"
      },
      "source": [
        "Spin up a chain that will quickly summarize for you"
      ]
    },
    {
      "cell_type": "code",
      "execution_count": null,
      "id": "460da5b4-cd95-4ea5-ae21-57c2cf99b80f",
      "metadata": {
        "id": "460da5b4-cd95-4ea5-ae21-57c2cf99b80f"
      },
      "outputs": [],
      "source": [
        "chain = (\n",
        "    {\"doc\": lambda x: x.page_content}\n",
        "    | ChatPromptTemplate.from_template(\"Summarize the following document:\\n\\n{doc}\")\n",
        "    | ChatOpenAI(max_retries=0)\n",
        "    | StrOutputParser()\n",
        ")"
      ]
    },
    {
      "cell_type": "markdown",
      "id": "df67afe1-694f-47a5-acea-7a788ea5ba07",
      "metadata": {
        "id": "df67afe1-694f-47a5-acea-7a788ea5ba07"
      },
      "source": [
        "Then let's get the summaries"
      ]
    },
    {
      "cell_type": "code",
      "execution_count": null,
      "id": "d6473c02-5728-418d-a201-5216d83599dd",
      "metadata": {
        "id": "d6473c02-5728-418d-a201-5216d83599dd"
      },
      "outputs": [],
      "source": [
        "summaries = chain.batch(docs, {\"max_concurrency\": 5})"
      ]
    },
    {
      "cell_type": "markdown",
      "id": "f9282853-9a62-4ffd-a1bf-b0e8853ed864",
      "metadata": {
        "id": "f9282853-9a62-4ffd-a1bf-b0e8853ed864"
      },
      "source": [
        "Let's look at a sample"
      ]
    },
    {
      "cell_type": "code",
      "execution_count": null,
      "id": "6ecc0c8f-3eb5-4e42-bd6e-2fdec56cc5b1",
      "metadata": {
        "id": "6ecc0c8f-3eb5-4e42-bd6e-2fdec56cc5b1",
        "outputId": "d7900d4b-0458-4edd-b277-4d14d2c79498"
      },
      "outputs": [
        {
          "data": {
            "text/plain": [
              "\"The document discusses the concept of superlinear returns for performance, where the rewards for performance are not proportional to the effort put in. It explains that this concept is present in various aspects of life, such as business, fame, power, military victories, and benefit to humanity. The document emphasizes the importance of understanding this concept, especially for ambitious individuals. It also discusses how exponential growth and thresholds are fundamental causes of superlinear returns, using examples such as bacterial cultures and startups. The document also mentions Y Combinator's focus on growth rate as a key factor in achieving exponential growth. Additionally, it explores how humans are not naturally accustomed to exponential growth and discusses historical examples of exponential growth, such as empires.\""
            ]
          },
          "execution_count": 85,
          "metadata": {},
          "output_type": "execute_result"
        }
      ],
      "source": [
        "summaries[0]"
      ]
    },
    {
      "cell_type": "markdown",
      "id": "9aaa4786-1d43-463b-a63d-55e1a9f35af3",
      "metadata": {
        "id": "9aaa4786-1d43-463b-a63d-55e1a9f35af3"
      },
      "source": [
        "Then we are going to create a vectorstore (holds vectors + summaries) and a docstore (holds raw docs)"
      ]
    },
    {
      "cell_type": "code",
      "execution_count": null,
      "id": "cc76c297-804f-4e5a-9fed-f28b88f57059",
      "metadata": {
        "id": "cc76c297-804f-4e5a-9fed-f28b88f57059"
      },
      "outputs": [],
      "source": [
        "# The vectorstore to use to index the child chunks\n",
        "vectorstore = Chroma(collection_name=\"summaries\", embedding_function=OpenAIEmbeddings())\n",
        "\n",
        "# The storage layer for the parent documents\n",
        "store = InMemoryByteStore()\n",
        "\n",
        "id_key = \"doc_id\"\n",
        "\n",
        "# The retriever (empty to start)\n",
        "retriever = MultiVectorRetriever(\n",
        "    vectorstore=vectorstore,\n",
        "    byte_store=store,\n",
        "    id_key=id_key,\n",
        ")\n",
        "doc_ids = [str(uuid.uuid4()) for _ in docs]"
      ]
    },
    {
      "cell_type": "markdown",
      "id": "63f44d2b-6a25-431c-be0b-72fff86e019c",
      "metadata": {
        "id": "63f44d2b-6a25-431c-be0b-72fff86e019c"
      },
      "source": [
        "Then you want to create documents out of your summary list, add the doc_id to it's metadata. This will tie it back to the original document so you know which summary goes with which original doc."
      ]
    },
    {
      "cell_type": "code",
      "execution_count": null,
      "id": "032d5cb8-cfe5-4a89-bb9a-fb2872e41be3",
      "metadata": {
        "id": "032d5cb8-cfe5-4a89-bb9a-fb2872e41be3"
      },
      "outputs": [],
      "source": [
        "summary_docs = [\n",
        "    Document(page_content=s, metadata={id_key: doc_ids[i]})\n",
        "    for i, s in enumerate(summaries)\n",
        "]"
      ]
    },
    {
      "cell_type": "markdown",
      "id": "02878000-5341-42fc-a1b0-a7e9da3367d7",
      "metadata": {
        "id": "02878000-5341-42fc-a1b0-a7e9da3367d7"
      },
      "source": [
        "Then add them both to your vectorestore and docstore. When you add the docs to the vectorstore it will get the embeddings for them too."
      ]
    },
    {
      "cell_type": "code",
      "execution_count": null,
      "id": "53351f4d-f5db-4aeb-9b79-f4a0a3ba30f6",
      "metadata": {
        "id": "53351f4d-f5db-4aeb-9b79-f4a0a3ba30f6"
      },
      "outputs": [],
      "source": [
        "# Adds the summaries\n",
        "retriever.vectorstore.add_documents(summary_docs)\n",
        "\n",
        "# Adds the raw documents\n",
        "retriever.docstore.mset(list(zip(doc_ids, docs)))"
      ]
    },
    {
      "cell_type": "markdown",
      "id": "e761a8ae-d31c-483b-bdf4-4a625e3e9662",
      "metadata": {
        "id": "e761a8ae-d31c-483b-bdf4-4a625e3e9662"
      },
      "source": [
        "Then if you want you can add the original docs to the vectorstore as well. Just make sure to add the doc id to it as well so you can tie it all together"
      ]
    },
    {
      "cell_type": "code",
      "execution_count": null,
      "id": "d5c3b781-3166-4d91-ad03-48bc8b246d61",
      "metadata": {
        "id": "d5c3b781-3166-4d91-ad03-48bc8b246d61"
      },
      "outputs": [],
      "source": [
        "# for i, doc in enumerate(docs):\n",
        "#     doc.metadata[id_key] = doc_ids[i]\n",
        "# retriever.vectorstore.add_documents(docs)"
      ]
    },
    {
      "cell_type": "markdown",
      "id": "b3397531-c8d3-4037-8f64-c51eeb6dc49b",
      "metadata": {
        "id": "b3397531-c8d3-4037-8f64-c51eeb6dc49b"
      },
      "source": [
        "Great, now that we've done all that work, let's try a search. If you run the code below, you'll search on the summary embeddings, but you'll get the raw documents returned."
      ]
    },
    {
      "cell_type": "code",
      "execution_count": null,
      "id": "b2b9848e-136b-496f-b3ba-f57720a11993",
      "metadata": {
        "id": "b2b9848e-136b-496f-b3ba-f57720a11993"
      },
      "outputs": [],
      "source": [
        "# retriever.get_relevant_documents(query=\"the concept of superlinear returns, which refers to the idea that the returns for performance are not linear\")"
      ]
    },
    {
      "cell_type": "markdown",
      "id": "e7d6ab29-a89a-4259-847d-492ccbaad02f",
      "metadata": {
        "id": "e7d6ab29-a89a-4259-847d-492ccbaad02f"
      },
      "source": [
        "### Hypothetical Questions\n",
        "You can generate hypothetical questions about your raw documents. Check out [LangChain's](https://python.langchain.com/docs/modules/data_connection/retrievers/multi_vector#hypothetical-queries) implementation of it for more information.\n",
        "\n",
        "This is espeically helpful when you have sparse unstructured data, like chat messages.\n",
        "\n",
        "Say you were to build a bot that uses slack conversations as a knowledge base. Trying to do semantic search on raw chat messages might not have the greatest results. However, if you were to generate hypothetical questions that the slack messages would answer, then when you get a new question in, you'll likely have a better chance matching.\n",
        "\n",
        "The code for this will be the same as the summary code, but instead of asking the LLM to make a summary, you'll ask it for hypothetical questions.\n",
        "\n",
        "### Parent Document Retriever (PDR)\n",
        "Much like the previous two, Parent Document Retriever builds on the concept of doing semantic search on a varied representation of your data.\n",
        "\n",
        "The hypothesis with the PDR is that smaller chunks have a higher likely hood of being matched semantically with a potential query. However, those smaller chunks may not have all the context they need, so instead of passing the smaller chunks to your LLM, get the parent chunk of the smaller chunk. This means you get a larger chunk which the smaller chunk is placed in.\n",
        "\n",
        "Check out LangChain's implementation's implementation of it [here](https://python.langchain.com/docs/modules/data_connection/retrievers/parent_document_retriever).\n",
        "\n",
        "I have a full tutorial on it at [FullStackRetrieval.com](https://fullstackretrieval.com/) if you want to go deeper on that.\n",
        "\n",
        "I want to quickly go over a similar method in [Llama Index](https://www.llamaindex.ai/) with their `HierarchicalNodeParser` which will split a document at various chunk sizes (there will be a bunch of overlaps but that is the purpose). When combined with their `AutoMergingRetriever` you can do complicated retrieval easily. Their walkthrough [here](https://docs.llamaindex.ai/en/stable/examples/retrievers/auto_merging_retriever.html)."
      ]
    },
    {
      "cell_type": "code",
      "execution_count": null,
      "id": "d078afc3-ecea-4cf1-b430-e27837508e86",
      "metadata": {
        "id": "d078afc3-ecea-4cf1-b430-e27837508e86"
      },
      "outputs": [],
      "source": [
        "from llama_index.node_parser import HierarchicalNodeParser\n",
        "\n",
        "node_parser = HierarchicalNodeParser.from_defaults(\n",
        "    chunk_sizes=[2048, 512, 128],\n",
        "    chunk_overlap=0\n",
        ")"
      ]
    },
    {
      "cell_type": "code",
      "execution_count": null,
      "id": "11c19a08-6a94-45a4-8d31-1ad91e014030",
      "metadata": {
        "id": "11c19a08-6a94-45a4-8d31-1ad91e014030"
      },
      "outputs": [],
      "source": [
        "documents = SimpleDirectoryReader(\n",
        "    input_files=[\"../../data/PGEssays/mit.txt\"]\n",
        ").load_data()"
      ]
    },
    {
      "cell_type": "markdown",
      "id": "26a9ecb0-c264-40cc-938a-3610c1a31835",
      "metadata": {
        "id": "26a9ecb0-c264-40cc-938a-3610c1a31835"
      },
      "source": [
        "Then let's do our splitting. There will be a bunch of chunks since we included `128` as a chunk size above"
      ]
    },
    {
      "cell_type": "code",
      "execution_count": null,
      "id": "9806e1a0-79df-418d-962d-3757081fd273",
      "metadata": {
        "id": "9806e1a0-79df-418d-962d-3757081fd273"
      },
      "outputs": [],
      "source": [
        "nodes = node_parser.get_nodes_from_documents(documents)"
      ]
    },
    {
      "cell_type": "code",
      "execution_count": null,
      "id": "8ad26bbc-1b67-45dc-b44e-d62e36fd3589",
      "metadata": {
        "id": "8ad26bbc-1b67-45dc-b44e-d62e36fd3589",
        "outputId": "38d5ed3e-2625-49ee-c4a0-3fd640812a88"
      },
      "outputs": [
        {
          "name": "stdout",
          "output_type": "stream",
          "text": [
            "You have 118 nodes\n"
          ]
        }
      ],
      "source": [
        "print (f\"You have {len(nodes)} nodes\")"
      ]
    },
    {
      "cell_type": "markdown",
      "id": "d703f821-f2e2-4975-a904-893007bb256c",
      "metadata": {
        "id": "d703f821-f2e2-4975-a904-893007bb256c"
      },
      "source": [
        "Then let's look at the relationships that are available to one of the small nodes at the end"
      ]
    },
    {
      "cell_type": "code",
      "execution_count": null,
      "id": "c037ce3e-d480-43e6-be47-0e7415153480",
      "metadata": {
        "id": "c037ce3e-d480-43e6-be47-0e7415153480",
        "outputId": "b5664e5e-b30b-4e7a-e789-49ca6d5fb505"
      },
      "outputs": [
        {
          "data": {
            "text/plain": [
              "{<NodeRelationship.SOURCE: '1'>: RelatedNodeInfo(node_id='e3cee07e-460b-4cc9-95ad-93fc4bba0f58', node_type=<ObjectType.TEXT: '1'>, metadata={'file_path': '../../data/PGEssays/mit.txt', 'file_name': 'mit.txt', 'file_type': 'text/plain', 'file_size': 36045, 'creation_date': '2024-01-22', 'last_modified_date': '2023-12-21', 'last_accessed_date': '2024-03-11'}, hash='6e91b93d9f1ccaca77ad93ca986701dcb3e0605f685a67338cf1cf7350fb9236'),\n",
              " <NodeRelationship.PREVIOUS: '2'>: RelatedNodeInfo(node_id='ffbeb21c-1920-404c-9ffa-2dfa453a4a8f', node_type=<ObjectType.TEXT: '1'>, metadata={'file_path': '../../data/PGEssays/mit.txt', 'file_name': 'mit.txt', 'file_type': 'text/plain', 'file_size': 36045, 'creation_date': '2024-01-22', 'last_modified_date': '2023-12-21', 'last_accessed_date': '2024-03-11'}, hash='4c3163fbaee0bc2de2bbcb5decca5cf81cc839d85f294039af0f9c848acf6c11'),\n",
              " <NodeRelationship.NEXT: '3'>: RelatedNodeInfo(node_id='3462052a-d7d3-491a-9930-511bf6b6583b', node_type=<ObjectType.TEXT: '1'>, metadata={}, hash='2f9985a39495c94fe30b766ece62c378020dfc37a26a99f484b0ee0b97efb46d'),\n",
              " <NodeRelationship.PARENT: '4'>: RelatedNodeInfo(node_id='e3cee07e-460b-4cc9-95ad-93fc4bba0f58', node_type=<ObjectType.TEXT: '1'>, metadata={'file_path': '../../data/PGEssays/mit.txt', 'file_name': 'mit.txt', 'file_type': 'text/plain', 'file_size': 36045, 'creation_date': '2024-01-22', 'last_modified_date': '2023-12-21', 'last_accessed_date': '2024-03-11'}, hash='6e91b93d9f1ccaca77ad93ca986701dcb3e0605f685a67338cf1cf7350fb9236')}"
            ]
          },
          "execution_count": 95,
          "metadata": {},
          "output_type": "execute_result"
        }
      ],
      "source": [
        "nodes[-2].relationships"
      ]
    },
    {
      "cell_type": "markdown",
      "id": "a6fb0ed8-4427-4e8d-a8e9-9d11f3dcef9a",
      "metadata": {
        "id": "a6fb0ed8-4427-4e8d-a8e9-9d11f3dcef9a"
      },
      "source": [
        "You can see there are source, previous, next, and parent. For [more information on these](https://docs.llamaindex.ai/en/stable/api/llama_index.schema.NodeRelationship.html).\n",
        "\n",
        "### Graph Structure\n",
        "If your data is rich with entities, relationships, and connections, then a graph structure may be best for you.\n",
        "\n",
        "Few options:\n",
        "* [Diffbot](https://www.diffbot.com/)\n",
        "* [InstaGraph](https://github.com/yoheinakajima/instagraph) - By [Yohei](https://twitter.com/yoheinakajima)\n",
        "\n",
        "I'll run through the LangChain supported version of Diffbot due to brevity. You'll need an API key from DB"
      ]
    },
    {
      "cell_type": "code",
      "execution_count": null,
      "id": "547ee2d2-f852-4f01-bc1b-ec5355f36e4c",
      "metadata": {
        "id": "547ee2d2-f852-4f01-bc1b-ec5355f36e4c"
      },
      "outputs": [],
      "source": [
        "# !pip3 install langchain langchain-experimental openai neo4j wikipedia\n",
        "\n",
        "from langchain_experimental.graph_transformers.diffbot import DiffbotGraphTransformer\n",
        "\n",
        "diffbot_nlp = DiffbotGraphTransformer(diffbot_api_key=os.getenv(\"DIFFBOT_API_KEY\", 'YourKey'))"
      ]
    },
    {
      "cell_type": "code",
      "execution_count": null,
      "id": "e63a7ffb-acdc-4fd3-b4ba-9ce4eb09bcfa",
      "metadata": {
        "id": "e63a7ffb-acdc-4fd3-b4ba-9ce4eb09bcfa"
      },
      "outputs": [],
      "source": [
        "text = \"\"\"\n",
        "Greg is friends with Bobby. San Francisco is a great city, but New York is amazing.\n",
        "Greg lives in New York.\n",
        "\"\"\"\n",
        "docs = [Document(page_content=text)]"
      ]
    },
    {
      "cell_type": "code",
      "execution_count": null,
      "id": "41436339-39c6-4cf7-aba6-0a2dcafec00b",
      "metadata": {
        "scrolled": true,
        "id": "41436339-39c6-4cf7-aba6-0a2dcafec00b"
      },
      "outputs": [],
      "source": [
        "graph_documents = diffbot_nlp.convert_to_graph_documents(docs)"
      ]
    },
    {
      "cell_type": "code",
      "execution_count": null,
      "id": "250215f0-2ba9-49e4-8aef-1751ccc1b1bf",
      "metadata": {
        "id": "250215f0-2ba9-49e4-8aef-1751ccc1b1bf",
        "outputId": "7a3793c8-409c-44e6-fd2e-a9be74882e0e"
      },
      "outputs": [
        {
          "data": {
            "text/plain": [
              "[GraphDocument(nodes=[Node(id='Greg', type='Person', properties={'name': 'Greg'}), Node(id='http://www.wikidata.org/entity/Q60', type='Location', properties={'name': 'New York City'}), Node(id='Bobby', type='Person', properties={'name': 'Bobby'})], relationships=[Relationship(source=Node(id='Greg', type='Person'), target=Node(id='http://www.wikidata.org/entity/Q60', type='Location'), type='PERSON_LOCATION', properties={'evidence': 'Greg lives in New York.', 'isCurrent': 'true'}), Relationship(source=Node(id='Greg', type='Person'), target=Node(id='http://www.wikidata.org/entity/Q60', type='Location'), type='PERSON_LOCATION', properties={'evidence': 'Greg lives in New York.', 'isCurrent': 'true'}), Relationship(source=Node(id='Greg', type='Person'), target=Node(id='Bobby', type='Person'), type='SOCIAL_RELATIONSHIP', properties={'evidence': 'Greg is friends with Bobby.'})], source=Document(page_content='\\nGreg is friends with Bobby. San Francisco is a great city, but New York is amazing.\\nGreg lives in New York. \\n'))]"
            ]
          },
          "execution_count": 99,
          "metadata": {},
          "output_type": "execute_result"
        }
      ],
      "source": [
        "graph_documents"
      ]
    },
    {
      "cell_type": "markdown",
      "id": "949e24e2-1d32-4ff3-a16e-ada98e46d6be",
      "metadata": {
        "id": "949e24e2-1d32-4ff3-a16e-ada98e46d6be"
      },
      "source": [
        "## Wrap up\n",
        "\n",
        "Congratulations on making it to the end of this video. The aim was to educate you on the chunking theory, give a nod to retrieval, and encourage you to try out these methods on your data.\n",
        "\n",
        "I always like hearing what you think about the code, video or how you use this in your role. Let me know on [twitter](https://twitter.com/GregKamradt) or email (contact@dataindependent.com)"
      ]
    },
    {
      "cell_type": "markdown",
      "id": "19567c26",
      "metadata": {
        "id": "19567c26"
      },
      "source": []
    }
  ],
  "metadata": {
    "kernelspec": {
      "display_name": "Python 3 (ipykernel)",
      "language": "python",
      "name": "python3"
    },
    "language_info": {
      "codemirror_mode": {
        "name": "ipython",
        "version": 3
      },
      "file_extension": ".py",
      "mimetype": "text/x-python",
      "name": "python",
      "nbconvert_exporter": "python",
      "pygments_lexer": "ipython3",
      "version": "3.11.6"
    },
    "colab": {
      "provenance": []
    },
    "widgets": {
      "application/vnd.jupyter.widget-state+json": {
        "8dea38919eff48b48c7c4d89ce4f1525": {
          "model_module": "@jupyter-widgets/controls",
          "model_name": "HBoxModel",
          "model_module_version": "1.5.0",
          "state": {
            "_dom_classes": [],
            "_model_module": "@jupyter-widgets/controls",
            "_model_module_version": "1.5.0",
            "_model_name": "HBoxModel",
            "_view_count": null,
            "_view_module": "@jupyter-widgets/controls",
            "_view_module_version": "1.5.0",
            "_view_name": "HBoxView",
            "box_style": "",
            "children": [
              "IPY_MODEL_4d219b7f6a6c4988a5224189c3add33c",
              "IPY_MODEL_7354ba6f557e4bcf8fbab616d5a481dd",
              "IPY_MODEL_e9f8873ca405430cad2f8428683a7291"
            ],
            "layout": "IPY_MODEL_13ad27247cf849e2a7cb16df3847c2fe"
          }
        },
        "4d219b7f6a6c4988a5224189c3add33c": {
          "model_module": "@jupyter-widgets/controls",
          "model_name": "HTMLModel",
          "model_module_version": "1.5.0",
          "state": {
            "_dom_classes": [],
            "_model_module": "@jupyter-widgets/controls",
            "_model_module_version": "1.5.0",
            "_model_name": "HTMLModel",
            "_view_count": null,
            "_view_module": "@jupyter-widgets/controls",
            "_view_module_version": "1.5.0",
            "_view_name": "HTMLView",
            "description": "",
            "description_tooltip": null,
            "layout": "IPY_MODEL_9b7af54c2e2743a59ba66e4d98dda1b9",
            "placeholder": "​",
            "style": "IPY_MODEL_4b10b534ed95475689199bf069aee5b4",
            "value": "config.json: 100%"
          }
        },
        "7354ba6f557e4bcf8fbab616d5a481dd": {
          "model_module": "@jupyter-widgets/controls",
          "model_name": "FloatProgressModel",
          "model_module_version": "1.5.0",
          "state": {
            "_dom_classes": [],
            "_model_module": "@jupyter-widgets/controls",
            "_model_module_version": "1.5.0",
            "_model_name": "FloatProgressModel",
            "_view_count": null,
            "_view_module": "@jupyter-widgets/controls",
            "_view_module_version": "1.5.0",
            "_view_name": "ProgressView",
            "bar_style": "success",
            "description": "",
            "description_tooltip": null,
            "layout": "IPY_MODEL_7a40327a97a0488294b6bf90166e5c37",
            "max": 1469,
            "min": 0,
            "orientation": "horizontal",
            "style": "IPY_MODEL_368568f58dd6438a8038629c6a72cbf6",
            "value": 1469
          }
        },
        "e9f8873ca405430cad2f8428683a7291": {
          "model_module": "@jupyter-widgets/controls",
          "model_name": "HTMLModel",
          "model_module_version": "1.5.0",
          "state": {
            "_dom_classes": [],
            "_model_module": "@jupyter-widgets/controls",
            "_model_module_version": "1.5.0",
            "_model_name": "HTMLModel",
            "_view_count": null,
            "_view_module": "@jupyter-widgets/controls",
            "_view_module_version": "1.5.0",
            "_view_name": "HTMLView",
            "description": "",
            "description_tooltip": null,
            "layout": "IPY_MODEL_7daf1e5be27046f1860cf7306927d8ff",
            "placeholder": "​",
            "style": "IPY_MODEL_f11ee27c379d4fd58286536aca0794c5",
            "value": " 1.47k/1.47k [00:00&lt;00:00, 44.8kB/s]"
          }
        },
        "13ad27247cf849e2a7cb16df3847c2fe": {
          "model_module": "@jupyter-widgets/base",
          "model_name": "LayoutModel",
          "model_module_version": "1.2.0",
          "state": {
            "_model_module": "@jupyter-widgets/base",
            "_model_module_version": "1.2.0",
            "_model_name": "LayoutModel",
            "_view_count": null,
            "_view_module": "@jupyter-widgets/base",
            "_view_module_version": "1.2.0",
            "_view_name": "LayoutView",
            "align_content": null,
            "align_items": null,
            "align_self": null,
            "border": null,
            "bottom": null,
            "display": null,
            "flex": null,
            "flex_flow": null,
            "grid_area": null,
            "grid_auto_columns": null,
            "grid_auto_flow": null,
            "grid_auto_rows": null,
            "grid_column": null,
            "grid_gap": null,
            "grid_row": null,
            "grid_template_areas": null,
            "grid_template_columns": null,
            "grid_template_rows": null,
            "height": null,
            "justify_content": null,
            "justify_items": null,
            "left": null,
            "margin": null,
            "max_height": null,
            "max_width": null,
            "min_height": null,
            "min_width": null,
            "object_fit": null,
            "object_position": null,
            "order": null,
            "overflow": null,
            "overflow_x": null,
            "overflow_y": null,
            "padding": null,
            "right": null,
            "top": null,
            "visibility": null,
            "width": null
          }
        },
        "9b7af54c2e2743a59ba66e4d98dda1b9": {
          "model_module": "@jupyter-widgets/base",
          "model_name": "LayoutModel",
          "model_module_version": "1.2.0",
          "state": {
            "_model_module": "@jupyter-widgets/base",
            "_model_module_version": "1.2.0",
            "_model_name": "LayoutModel",
            "_view_count": null,
            "_view_module": "@jupyter-widgets/base",
            "_view_module_version": "1.2.0",
            "_view_name": "LayoutView",
            "align_content": null,
            "align_items": null,
            "align_self": null,
            "border": null,
            "bottom": null,
            "display": null,
            "flex": null,
            "flex_flow": null,
            "grid_area": null,
            "grid_auto_columns": null,
            "grid_auto_flow": null,
            "grid_auto_rows": null,
            "grid_column": null,
            "grid_gap": null,
            "grid_row": null,
            "grid_template_areas": null,
            "grid_template_columns": null,
            "grid_template_rows": null,
            "height": null,
            "justify_content": null,
            "justify_items": null,
            "left": null,
            "margin": null,
            "max_height": null,
            "max_width": null,
            "min_height": null,
            "min_width": null,
            "object_fit": null,
            "object_position": null,
            "order": null,
            "overflow": null,
            "overflow_x": null,
            "overflow_y": null,
            "padding": null,
            "right": null,
            "top": null,
            "visibility": null,
            "width": null
          }
        },
        "4b10b534ed95475689199bf069aee5b4": {
          "model_module": "@jupyter-widgets/controls",
          "model_name": "DescriptionStyleModel",
          "model_module_version": "1.5.0",
          "state": {
            "_model_module": "@jupyter-widgets/controls",
            "_model_module_version": "1.5.0",
            "_model_name": "DescriptionStyleModel",
            "_view_count": null,
            "_view_module": "@jupyter-widgets/base",
            "_view_module_version": "1.2.0",
            "_view_name": "StyleView",
            "description_width": ""
          }
        },
        "7a40327a97a0488294b6bf90166e5c37": {
          "model_module": "@jupyter-widgets/base",
          "model_name": "LayoutModel",
          "model_module_version": "1.2.0",
          "state": {
            "_model_module": "@jupyter-widgets/base",
            "_model_module_version": "1.2.0",
            "_model_name": "LayoutModel",
            "_view_count": null,
            "_view_module": "@jupyter-widgets/base",
            "_view_module_version": "1.2.0",
            "_view_name": "LayoutView",
            "align_content": null,
            "align_items": null,
            "align_self": null,
            "border": null,
            "bottom": null,
            "display": null,
            "flex": null,
            "flex_flow": null,
            "grid_area": null,
            "grid_auto_columns": null,
            "grid_auto_flow": null,
            "grid_auto_rows": null,
            "grid_column": null,
            "grid_gap": null,
            "grid_row": null,
            "grid_template_areas": null,
            "grid_template_columns": null,
            "grid_template_rows": null,
            "height": null,
            "justify_content": null,
            "justify_items": null,
            "left": null,
            "margin": null,
            "max_height": null,
            "max_width": null,
            "min_height": null,
            "min_width": null,
            "object_fit": null,
            "object_position": null,
            "order": null,
            "overflow": null,
            "overflow_x": null,
            "overflow_y": null,
            "padding": null,
            "right": null,
            "top": null,
            "visibility": null,
            "width": null
          }
        },
        "368568f58dd6438a8038629c6a72cbf6": {
          "model_module": "@jupyter-widgets/controls",
          "model_name": "ProgressStyleModel",
          "model_module_version": "1.5.0",
          "state": {
            "_model_module": "@jupyter-widgets/controls",
            "_model_module_version": "1.5.0",
            "_model_name": "ProgressStyleModel",
            "_view_count": null,
            "_view_module": "@jupyter-widgets/base",
            "_view_module_version": "1.2.0",
            "_view_name": "StyleView",
            "bar_color": null,
            "description_width": ""
          }
        },
        "7daf1e5be27046f1860cf7306927d8ff": {
          "model_module": "@jupyter-widgets/base",
          "model_name": "LayoutModel",
          "model_module_version": "1.2.0",
          "state": {
            "_model_module": "@jupyter-widgets/base",
            "_model_module_version": "1.2.0",
            "_model_name": "LayoutModel",
            "_view_count": null,
            "_view_module": "@jupyter-widgets/base",
            "_view_module_version": "1.2.0",
            "_view_name": "LayoutView",
            "align_content": null,
            "align_items": null,
            "align_self": null,
            "border": null,
            "bottom": null,
            "display": null,
            "flex": null,
            "flex_flow": null,
            "grid_area": null,
            "grid_auto_columns": null,
            "grid_auto_flow": null,
            "grid_auto_rows": null,
            "grid_column": null,
            "grid_gap": null,
            "grid_row": null,
            "grid_template_areas": null,
            "grid_template_columns": null,
            "grid_template_rows": null,
            "height": null,
            "justify_content": null,
            "justify_items": null,
            "left": null,
            "margin": null,
            "max_height": null,
            "max_width": null,
            "min_height": null,
            "min_width": null,
            "object_fit": null,
            "object_position": null,
            "order": null,
            "overflow": null,
            "overflow_x": null,
            "overflow_y": null,
            "padding": null,
            "right": null,
            "top": null,
            "visibility": null,
            "width": null
          }
        },
        "f11ee27c379d4fd58286536aca0794c5": {
          "model_module": "@jupyter-widgets/controls",
          "model_name": "DescriptionStyleModel",
          "model_module_version": "1.5.0",
          "state": {
            "_model_module": "@jupyter-widgets/controls",
            "_model_module_version": "1.5.0",
            "_model_name": "DescriptionStyleModel",
            "_view_count": null,
            "_view_module": "@jupyter-widgets/base",
            "_view_module_version": "1.2.0",
            "_view_name": "StyleView",
            "description_width": ""
          }
        },
        "010bb5a9a1374c1f91ac606eb3da602d": {
          "model_module": "@jupyter-widgets/controls",
          "model_name": "HBoxModel",
          "model_module_version": "1.5.0",
          "state": {
            "_dom_classes": [],
            "_model_module": "@jupyter-widgets/controls",
            "_model_module_version": "1.5.0",
            "_model_name": "HBoxModel",
            "_view_count": null,
            "_view_module": "@jupyter-widgets/controls",
            "_view_module_version": "1.5.0",
            "_view_name": "HBoxView",
            "box_style": "",
            "children": [
              "IPY_MODEL_ac90a2d99f864d46ab1b28259e2afced",
              "IPY_MODEL_83d4b767e976452d92e5de2edec0d31b",
              "IPY_MODEL_22db2b8b5573430eb20b914990cfdd18"
            ],
            "layout": "IPY_MODEL_6e8964a97d344143af05e795d7db3749"
          }
        },
        "ac90a2d99f864d46ab1b28259e2afced": {
          "model_module": "@jupyter-widgets/controls",
          "model_name": "HTMLModel",
          "model_module_version": "1.5.0",
          "state": {
            "_dom_classes": [],
            "_model_module": "@jupyter-widgets/controls",
            "_model_module_version": "1.5.0",
            "_model_name": "HTMLModel",
            "_view_count": null,
            "_view_module": "@jupyter-widgets/controls",
            "_view_module_version": "1.5.0",
            "_view_name": "HTMLView",
            "description": "",
            "description_tooltip": null,
            "layout": "IPY_MODEL_f0954df0005e4da696d5a94a68af1af1",
            "placeholder": "​",
            "style": "IPY_MODEL_17545ca226b84195b74f13ef0b727dbf",
            "value": "model.safetensors: 100%"
          }
        },
        "83d4b767e976452d92e5de2edec0d31b": {
          "model_module": "@jupyter-widgets/controls",
          "model_name": "FloatProgressModel",
          "model_module_version": "1.5.0",
          "state": {
            "_dom_classes": [],
            "_model_module": "@jupyter-widgets/controls",
            "_model_module_version": "1.5.0",
            "_model_name": "FloatProgressModel",
            "_view_count": null,
            "_view_module": "@jupyter-widgets/controls",
            "_view_module_version": "1.5.0",
            "_view_name": "ProgressView",
            "bar_style": "success",
            "description": "",
            "description_tooltip": null,
            "layout": "IPY_MODEL_1af7a6f1152c4617885723d494b22662",
            "max": 115434268,
            "min": 0,
            "orientation": "horizontal",
            "style": "IPY_MODEL_938ead07956947a0a48dd999d6d59bc3",
            "value": 115434268
          }
        },
        "22db2b8b5573430eb20b914990cfdd18": {
          "model_module": "@jupyter-widgets/controls",
          "model_name": "HTMLModel",
          "model_module_version": "1.5.0",
          "state": {
            "_dom_classes": [],
            "_model_module": "@jupyter-widgets/controls",
            "_model_module_version": "1.5.0",
            "_model_name": "HTMLModel",
            "_view_count": null,
            "_view_module": "@jupyter-widgets/controls",
            "_view_module_version": "1.5.0",
            "_view_name": "HTMLView",
            "description": "",
            "description_tooltip": null,
            "layout": "IPY_MODEL_4153e1c5afe646fc8f1a189f55caa0c1",
            "placeholder": "​",
            "style": "IPY_MODEL_8f488ac4b59949069f49ebeacb61b6c7",
            "value": " 115M/115M [00:01&lt;00:00, 132MB/s]"
          }
        },
        "6e8964a97d344143af05e795d7db3749": {
          "model_module": "@jupyter-widgets/base",
          "model_name": "LayoutModel",
          "model_module_version": "1.2.0",
          "state": {
            "_model_module": "@jupyter-widgets/base",
            "_model_module_version": "1.2.0",
            "_model_name": "LayoutModel",
            "_view_count": null,
            "_view_module": "@jupyter-widgets/base",
            "_view_module_version": "1.2.0",
            "_view_name": "LayoutView",
            "align_content": null,
            "align_items": null,
            "align_self": null,
            "border": null,
            "bottom": null,
            "display": null,
            "flex": null,
            "flex_flow": null,
            "grid_area": null,
            "grid_auto_columns": null,
            "grid_auto_flow": null,
            "grid_auto_rows": null,
            "grid_column": null,
            "grid_gap": null,
            "grid_row": null,
            "grid_template_areas": null,
            "grid_template_columns": null,
            "grid_template_rows": null,
            "height": null,
            "justify_content": null,
            "justify_items": null,
            "left": null,
            "margin": null,
            "max_height": null,
            "max_width": null,
            "min_height": null,
            "min_width": null,
            "object_fit": null,
            "object_position": null,
            "order": null,
            "overflow": null,
            "overflow_x": null,
            "overflow_y": null,
            "padding": null,
            "right": null,
            "top": null,
            "visibility": null,
            "width": null
          }
        },
        "f0954df0005e4da696d5a94a68af1af1": {
          "model_module": "@jupyter-widgets/base",
          "model_name": "LayoutModel",
          "model_module_version": "1.2.0",
          "state": {
            "_model_module": "@jupyter-widgets/base",
            "_model_module_version": "1.2.0",
            "_model_name": "LayoutModel",
            "_view_count": null,
            "_view_module": "@jupyter-widgets/base",
            "_view_module_version": "1.2.0",
            "_view_name": "LayoutView",
            "align_content": null,
            "align_items": null,
            "align_self": null,
            "border": null,
            "bottom": null,
            "display": null,
            "flex": null,
            "flex_flow": null,
            "grid_area": null,
            "grid_auto_columns": null,
            "grid_auto_flow": null,
            "grid_auto_rows": null,
            "grid_column": null,
            "grid_gap": null,
            "grid_row": null,
            "grid_template_areas": null,
            "grid_template_columns": null,
            "grid_template_rows": null,
            "height": null,
            "justify_content": null,
            "justify_items": null,
            "left": null,
            "margin": null,
            "max_height": null,
            "max_width": null,
            "min_height": null,
            "min_width": null,
            "object_fit": null,
            "object_position": null,
            "order": null,
            "overflow": null,
            "overflow_x": null,
            "overflow_y": null,
            "padding": null,
            "right": null,
            "top": null,
            "visibility": null,
            "width": null
          }
        },
        "17545ca226b84195b74f13ef0b727dbf": {
          "model_module": "@jupyter-widgets/controls",
          "model_name": "DescriptionStyleModel",
          "model_module_version": "1.5.0",
          "state": {
            "_model_module": "@jupyter-widgets/controls",
            "_model_module_version": "1.5.0",
            "_model_name": "DescriptionStyleModel",
            "_view_count": null,
            "_view_module": "@jupyter-widgets/base",
            "_view_module_version": "1.2.0",
            "_view_name": "StyleView",
            "description_width": ""
          }
        },
        "1af7a6f1152c4617885723d494b22662": {
          "model_module": "@jupyter-widgets/base",
          "model_name": "LayoutModel",
          "model_module_version": "1.2.0",
          "state": {
            "_model_module": "@jupyter-widgets/base",
            "_model_module_version": "1.2.0",
            "_model_name": "LayoutModel",
            "_view_count": null,
            "_view_module": "@jupyter-widgets/base",
            "_view_module_version": "1.2.0",
            "_view_name": "LayoutView",
            "align_content": null,
            "align_items": null,
            "align_self": null,
            "border": null,
            "bottom": null,
            "display": null,
            "flex": null,
            "flex_flow": null,
            "grid_area": null,
            "grid_auto_columns": null,
            "grid_auto_flow": null,
            "grid_auto_rows": null,
            "grid_column": null,
            "grid_gap": null,
            "grid_row": null,
            "grid_template_areas": null,
            "grid_template_columns": null,
            "grid_template_rows": null,
            "height": null,
            "justify_content": null,
            "justify_items": null,
            "left": null,
            "margin": null,
            "max_height": null,
            "max_width": null,
            "min_height": null,
            "min_width": null,
            "object_fit": null,
            "object_position": null,
            "order": null,
            "overflow": null,
            "overflow_x": null,
            "overflow_y": null,
            "padding": null,
            "right": null,
            "top": null,
            "visibility": null,
            "width": null
          }
        },
        "938ead07956947a0a48dd999d6d59bc3": {
          "model_module": "@jupyter-widgets/controls",
          "model_name": "ProgressStyleModel",
          "model_module_version": "1.5.0",
          "state": {
            "_model_module": "@jupyter-widgets/controls",
            "_model_module_version": "1.5.0",
            "_model_name": "ProgressStyleModel",
            "_view_count": null,
            "_view_module": "@jupyter-widgets/base",
            "_view_module_version": "1.2.0",
            "_view_name": "StyleView",
            "bar_color": null,
            "description_width": ""
          }
        },
        "4153e1c5afe646fc8f1a189f55caa0c1": {
          "model_module": "@jupyter-widgets/base",
          "model_name": "LayoutModel",
          "model_module_version": "1.2.0",
          "state": {
            "_model_module": "@jupyter-widgets/base",
            "_model_module_version": "1.2.0",
            "_model_name": "LayoutModel",
            "_view_count": null,
            "_view_module": "@jupyter-widgets/base",
            "_view_module_version": "1.2.0",
            "_view_name": "LayoutView",
            "align_content": null,
            "align_items": null,
            "align_self": null,
            "border": null,
            "bottom": null,
            "display": null,
            "flex": null,
            "flex_flow": null,
            "grid_area": null,
            "grid_auto_columns": null,
            "grid_auto_flow": null,
            "grid_auto_rows": null,
            "grid_column": null,
            "grid_gap": null,
            "grid_row": null,
            "grid_template_areas": null,
            "grid_template_columns": null,
            "grid_template_rows": null,
            "height": null,
            "justify_content": null,
            "justify_items": null,
            "left": null,
            "margin": null,
            "max_height": null,
            "max_width": null,
            "min_height": null,
            "min_width": null,
            "object_fit": null,
            "object_position": null,
            "order": null,
            "overflow": null,
            "overflow_x": null,
            "overflow_y": null,
            "padding": null,
            "right": null,
            "top": null,
            "visibility": null,
            "width": null
          }
        },
        "8f488ac4b59949069f49ebeacb61b6c7": {
          "model_module": "@jupyter-widgets/controls",
          "model_name": "DescriptionStyleModel",
          "model_module_version": "1.5.0",
          "state": {
            "_model_module": "@jupyter-widgets/controls",
            "_model_module_version": "1.5.0",
            "_model_name": "DescriptionStyleModel",
            "_view_count": null,
            "_view_module": "@jupyter-widgets/base",
            "_view_module_version": "1.2.0",
            "_view_name": "StyleView",
            "description_width": ""
          }
        },
        "078cb8e36b784190bd2d0ea0bdc278e7": {
          "model_module": "@jupyter-widgets/controls",
          "model_name": "HBoxModel",
          "model_module_version": "1.5.0",
          "state": {
            "_dom_classes": [],
            "_model_module": "@jupyter-widgets/controls",
            "_model_module_version": "1.5.0",
            "_model_name": "HBoxModel",
            "_view_count": null,
            "_view_module": "@jupyter-widgets/controls",
            "_view_module_version": "1.5.0",
            "_view_name": "HBoxView",
            "box_style": "",
            "children": [
              "IPY_MODEL_9235a234dc9e4355b0fd079551e14724",
              "IPY_MODEL_b5fb908caf5243a6a50a3248310057be",
              "IPY_MODEL_95dd4dcaa480489db7045b5a6686712a"
            ],
            "layout": "IPY_MODEL_73ca295b07f94178b45e4e4427417a60"
          }
        },
        "9235a234dc9e4355b0fd079551e14724": {
          "model_module": "@jupyter-widgets/controls",
          "model_name": "HTMLModel",
          "model_module_version": "1.5.0",
          "state": {
            "_dom_classes": [],
            "_model_module": "@jupyter-widgets/controls",
            "_model_module_version": "1.5.0",
            "_model_name": "HTMLModel",
            "_view_count": null,
            "_view_module": "@jupyter-widgets/controls",
            "_view_module_version": "1.5.0",
            "_view_name": "HTMLView",
            "description": "",
            "description_tooltip": null,
            "layout": "IPY_MODEL_f2eef9f759a74c0b9ea11871a693d098",
            "placeholder": "​",
            "style": "IPY_MODEL_bcc88e8a55ec4e188e6771b390fc1d93",
            "value": "model.safetensors: 100%"
          }
        },
        "b5fb908caf5243a6a50a3248310057be": {
          "model_module": "@jupyter-widgets/controls",
          "model_name": "FloatProgressModel",
          "model_module_version": "1.5.0",
          "state": {
            "_dom_classes": [],
            "_model_module": "@jupyter-widgets/controls",
            "_model_module_version": "1.5.0",
            "_model_name": "FloatProgressModel",
            "_view_count": null,
            "_view_module": "@jupyter-widgets/controls",
            "_view_module_version": "1.5.0",
            "_view_name": "ProgressView",
            "bar_style": "success",
            "description": "",
            "description_tooltip": null,
            "layout": "IPY_MODEL_519ef00c2bd84fd1b5abe18e880b0a98",
            "max": 46807446,
            "min": 0,
            "orientation": "horizontal",
            "style": "IPY_MODEL_7267caba7d084bd3918e76b75ef773d7",
            "value": 46807446
          }
        },
        "95dd4dcaa480489db7045b5a6686712a": {
          "model_module": "@jupyter-widgets/controls",
          "model_name": "HTMLModel",
          "model_module_version": "1.5.0",
          "state": {
            "_dom_classes": [],
            "_model_module": "@jupyter-widgets/controls",
            "_model_module_version": "1.5.0",
            "_model_name": "HTMLModel",
            "_view_count": null,
            "_view_module": "@jupyter-widgets/controls",
            "_view_module_version": "1.5.0",
            "_view_name": "HTMLView",
            "description": "",
            "description_tooltip": null,
            "layout": "IPY_MODEL_d038a58cfa7a4d28ab43b3241bc0b70f",
            "placeholder": "​",
            "style": "IPY_MODEL_6e3371d26a9a4278a96108237a2161ec",
            "value": " 46.8M/46.8M [00:00&lt;00:00, 162MB/s]"
          }
        },
        "73ca295b07f94178b45e4e4427417a60": {
          "model_module": "@jupyter-widgets/base",
          "model_name": "LayoutModel",
          "model_module_version": "1.2.0",
          "state": {
            "_model_module": "@jupyter-widgets/base",
            "_model_module_version": "1.2.0",
            "_model_name": "LayoutModel",
            "_view_count": null,
            "_view_module": "@jupyter-widgets/base",
            "_view_module_version": "1.2.0",
            "_view_name": "LayoutView",
            "align_content": null,
            "align_items": null,
            "align_self": null,
            "border": null,
            "bottom": null,
            "display": null,
            "flex": null,
            "flex_flow": null,
            "grid_area": null,
            "grid_auto_columns": null,
            "grid_auto_flow": null,
            "grid_auto_rows": null,
            "grid_column": null,
            "grid_gap": null,
            "grid_row": null,
            "grid_template_areas": null,
            "grid_template_columns": null,
            "grid_template_rows": null,
            "height": null,
            "justify_content": null,
            "justify_items": null,
            "left": null,
            "margin": null,
            "max_height": null,
            "max_width": null,
            "min_height": null,
            "min_width": null,
            "object_fit": null,
            "object_position": null,
            "order": null,
            "overflow": null,
            "overflow_x": null,
            "overflow_y": null,
            "padding": null,
            "right": null,
            "top": null,
            "visibility": null,
            "width": null
          }
        },
        "f2eef9f759a74c0b9ea11871a693d098": {
          "model_module": "@jupyter-widgets/base",
          "model_name": "LayoutModel",
          "model_module_version": "1.2.0",
          "state": {
            "_model_module": "@jupyter-widgets/base",
            "_model_module_version": "1.2.0",
            "_model_name": "LayoutModel",
            "_view_count": null,
            "_view_module": "@jupyter-widgets/base",
            "_view_module_version": "1.2.0",
            "_view_name": "LayoutView",
            "align_content": null,
            "align_items": null,
            "align_self": null,
            "border": null,
            "bottom": null,
            "display": null,
            "flex": null,
            "flex_flow": null,
            "grid_area": null,
            "grid_auto_columns": null,
            "grid_auto_flow": null,
            "grid_auto_rows": null,
            "grid_column": null,
            "grid_gap": null,
            "grid_row": null,
            "grid_template_areas": null,
            "grid_template_columns": null,
            "grid_template_rows": null,
            "height": null,
            "justify_content": null,
            "justify_items": null,
            "left": null,
            "margin": null,
            "max_height": null,
            "max_width": null,
            "min_height": null,
            "min_width": null,
            "object_fit": null,
            "object_position": null,
            "order": null,
            "overflow": null,
            "overflow_x": null,
            "overflow_y": null,
            "padding": null,
            "right": null,
            "top": null,
            "visibility": null,
            "width": null
          }
        },
        "bcc88e8a55ec4e188e6771b390fc1d93": {
          "model_module": "@jupyter-widgets/controls",
          "model_name": "DescriptionStyleModel",
          "model_module_version": "1.5.0",
          "state": {
            "_model_module": "@jupyter-widgets/controls",
            "_model_module_version": "1.5.0",
            "_model_name": "DescriptionStyleModel",
            "_view_count": null,
            "_view_module": "@jupyter-widgets/base",
            "_view_module_version": "1.2.0",
            "_view_name": "StyleView",
            "description_width": ""
          }
        },
        "519ef00c2bd84fd1b5abe18e880b0a98": {
          "model_module": "@jupyter-widgets/base",
          "model_name": "LayoutModel",
          "model_module_version": "1.2.0",
          "state": {
            "_model_module": "@jupyter-widgets/base",
            "_model_module_version": "1.2.0",
            "_model_name": "LayoutModel",
            "_view_count": null,
            "_view_module": "@jupyter-widgets/base",
            "_view_module_version": "1.2.0",
            "_view_name": "LayoutView",
            "align_content": null,
            "align_items": null,
            "align_self": null,
            "border": null,
            "bottom": null,
            "display": null,
            "flex": null,
            "flex_flow": null,
            "grid_area": null,
            "grid_auto_columns": null,
            "grid_auto_flow": null,
            "grid_auto_rows": null,
            "grid_column": null,
            "grid_gap": null,
            "grid_row": null,
            "grid_template_areas": null,
            "grid_template_columns": null,
            "grid_template_rows": null,
            "height": null,
            "justify_content": null,
            "justify_items": null,
            "left": null,
            "margin": null,
            "max_height": null,
            "max_width": null,
            "min_height": null,
            "min_width": null,
            "object_fit": null,
            "object_position": null,
            "order": null,
            "overflow": null,
            "overflow_x": null,
            "overflow_y": null,
            "padding": null,
            "right": null,
            "top": null,
            "visibility": null,
            "width": null
          }
        },
        "7267caba7d084bd3918e76b75ef773d7": {
          "model_module": "@jupyter-widgets/controls",
          "model_name": "ProgressStyleModel",
          "model_module_version": "1.5.0",
          "state": {
            "_model_module": "@jupyter-widgets/controls",
            "_model_module_version": "1.5.0",
            "_model_name": "ProgressStyleModel",
            "_view_count": null,
            "_view_module": "@jupyter-widgets/base",
            "_view_module_version": "1.2.0",
            "_view_name": "StyleView",
            "bar_color": null,
            "description_width": ""
          }
        },
        "d038a58cfa7a4d28ab43b3241bc0b70f": {
          "model_module": "@jupyter-widgets/base",
          "model_name": "LayoutModel",
          "model_module_version": "1.2.0",
          "state": {
            "_model_module": "@jupyter-widgets/base",
            "_model_module_version": "1.2.0",
            "_model_name": "LayoutModel",
            "_view_count": null,
            "_view_module": "@jupyter-widgets/base",
            "_view_module_version": "1.2.0",
            "_view_name": "LayoutView",
            "align_content": null,
            "align_items": null,
            "align_self": null,
            "border": null,
            "bottom": null,
            "display": null,
            "flex": null,
            "flex_flow": null,
            "grid_area": null,
            "grid_auto_columns": null,
            "grid_auto_flow": null,
            "grid_auto_rows": null,
            "grid_column": null,
            "grid_gap": null,
            "grid_row": null,
            "grid_template_areas": null,
            "grid_template_columns": null,
            "grid_template_rows": null,
            "height": null,
            "justify_content": null,
            "justify_items": null,
            "left": null,
            "margin": null,
            "max_height": null,
            "max_width": null,
            "min_height": null,
            "min_width": null,
            "object_fit": null,
            "object_position": null,
            "order": null,
            "overflow": null,
            "overflow_x": null,
            "overflow_y": null,
            "padding": null,
            "right": null,
            "top": null,
            "visibility": null,
            "width": null
          }
        },
        "6e3371d26a9a4278a96108237a2161ec": {
          "model_module": "@jupyter-widgets/controls",
          "model_name": "DescriptionStyleModel",
          "model_module_version": "1.5.0",
          "state": {
            "_model_module": "@jupyter-widgets/controls",
            "_model_module_version": "1.5.0",
            "_model_name": "DescriptionStyleModel",
            "_view_count": null,
            "_view_module": "@jupyter-widgets/base",
            "_view_module_version": "1.2.0",
            "_view_name": "StyleView",
            "description_width": ""
          }
        }
      }
    }
  },
  "nbformat": 4,
  "nbformat_minor": 5
}